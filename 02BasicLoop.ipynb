{
 "cells": [
  {
   "cell_type": "code",
   "execution_count": 1,
   "id": "54ec452f-fc31-4ae7-a975-3cbfd011d21c",
   "metadata": {},
   "outputs": [],
   "source": [
    "import numpy as np\n",
    "import tensorflow as tf\n",
    "from tensorflow import keras\n",
    "%matplotlib inline\n",
    "from matplotlib import pyplot as plt"
   ]
  },
  {
   "cell_type": "code",
   "execution_count": 2,
   "id": "928c0d68-6ec3-436f-a942-91bca9195351",
   "metadata": {},
   "outputs": [],
   "source": [
    "def clamp(x, lo, hi):\n",
    "    if x < lo:\n",
    "        return lo, True\n",
    "    elif x > hi:\n",
    "        return hi, True\n",
    "    return x, False\n",
    "\n",
    "class x_controller:\n",
    "    def __init__(self):\n",
    "        self.x = 0\n",
    "        self.x_dot = 0\n",
    "        self.x_ddot = 0\n",
    "\n",
    "        self.dt = 1/100\n",
    "        self.rateLimit = 1/10\n",
    "\n",
    "    def step(self, a):\n",
    "        self.x_ddot, _ = clamp(a, self.x_ddot - self.rateLimit, self.x_ddot + self.rateLimit)\n",
    "        self.x_dot += self.dt * self.x_ddot\n",
    "        self.x += self.dt * self.x_dot\n",
    "        \n",
    "        self.x, _ = clamp(self.x, -1 , 1)\n"
   ]
  },
  {
   "cell_type": "code",
   "execution_count": 3,
   "id": "e577e33f-af10-4d96-8e90-05e73aa4c7df",
   "metadata": {},
   "outputs": [
    {
     "data": {
      "text/plain": [
       "[<matplotlib.lines.Line2D at 0x7fb5bdfbaf10>]"
      ]
     },
     "execution_count": 3,
     "metadata": {},
     "output_type": "execute_result"
    },
    {
     "data": {
      "image/png": "[encoded data removed]",
      "text/plain": [
       "<Figure size 432x288 with 1 Axes>"
      ]
     },
     "metadata": {
      "needs_background": "light"
     },
     "output_type": "display_data"
    }
   ],
   "source": [
    "time = 500\n",
    "from random import random\n",
    "t = np.linspace(0, 1, time)\n",
    "x = np.zeros((time,))\n",
    "c = x_controller()\n",
    "\n",
    "a = 0\n",
    "\n",
    "for i in range(time):\n",
    "    a += (2*random() - 1) * 0.1 #Obeys the torque rampup limits\n",
    "    c.step(a)\n",
    "    x[i] = c.x\n",
    "plt.plot(t, x)"
   ]
  },
  {
   "cell_type": "code",
   "execution_count": 4,
   "id": "81ef7ac8-67e4-442a-bc2a-e8d06b9dfd3c",
   "metadata": {},
   "outputs": [],
   "source": [
    "def sample_generator():\n",
    "    while True:\n",
    "        controller = x_controller()\n",
    "        time = 500\n",
    "        x = np.zeros((500,), dtype=np.float32)\n",
    "        cmd = np.zeros((500,), dtype=np.float32)\n",
    "        a = 0\n",
    "        for i in range(time):\n",
    "            a += (2*random() - 1) * 0.1 #Obeys the torque rampup limits\n",
    "            controller.step(a)\n",
    "            x[i] = controller.x\n",
    "            cmd[i] = a\n",
    "        yield x, cmd"
   ]
  },
  {
   "cell_type": "code",
   "execution_count": 5,
   "id": "8f0960b4-6f84-41a7-8d6a-79df7f22faa2",
   "metadata": {},
   "outputs": [
    {
     "data": {
      "text/plain": [
       "[<matplotlib.lines.Line2D at 0x7fb5b5eb86d0>]"
      ]
     },
     "execution_count": 5,
     "metadata": {},
     "output_type": "execute_result"
    },
    {
     "data": {
      "image/png": "[encoded data removed]",
      "text/plain": [
       "<Figure size 432x288 with 1 Axes>"
      ]
     },
     "metadata": {
      "needs_background": "light"
     },
     "output_type": "display_data"
    }
   ],
   "source": [
    "import itertools\n",
    "\n",
    "c = list(itertools.islice(sample_generator(), 1))[0][0]\n",
    "plt.plot(t, c)"
   ]
  },
  {
   "cell_type": "markdown",
   "id": "1e0dc5de-e69d-4940-af5c-46d133872490",
   "metadata": {},
   "source": [
    "Zdaj imam dober generator testnih primerov. Cas za train_test loaderje..."
   ]
  },
  {
   "cell_type": "code",
   "execution_count": 6,
   "id": "2438c0ba-57ca-4fa1-8d80-b6e6c694de0c",
   "metadata": {},
   "outputs": [],
   "source": [
    "import torch\n",
    "from torch import nn"
   ]
  },
  {
   "cell_type": "markdown",
   "id": "047efe19-bde6-49cb-a064-43d66e7c5973",
   "metadata": {},
   "source": [
    "[-50:50] navorov in [-50:0] pozicij"
   ]
  },
  {
   "cell_type": "code",
   "execution_count": 149,
   "id": "130db3f9-1a58-4c47-b794-00dc7dfe70ed",
   "metadata": {},
   "outputs": [],
   "source": [
    "class NeuralNetwork(nn.Module):\n",
    "    def __init__(self):\n",
    "        super(NeuralNetwork, self).__init__()\n",
    "        self.linear_relu_stack = nn.Sequential(\n",
    "            nn.Linear(150, 32),\n",
    "            nn.ReLU(),\n",
    "            nn.Linear(32, 32),\n",
    "            nn.ReLU(),\n",
    "            nn.Linear(32, 1),\n",
    "            nn.Tanh()\n",
    "        )\n",
    "\n",
    "    def forward(self, x):\n",
    "        logits = self.linear_relu_stack(x)\n",
    "        return logits"
   ]
  },
  {
   "cell_type": "code",
   "execution_count": 150,
   "id": "65d5e0f8-d90d-4674-b900-82e62d675023",
   "metadata": {},
   "outputs": [
    {
     "name": "stdout",
     "output_type": "stream",
     "text": [
      "(150,)\n",
      "torch.float32\n",
      "tensor([-0.1191], grad_fn=<TanhBackward>)\n",
      "-0.032236394\n"
     ]
    }
   ],
   "source": [
    "gen = sample_generator()\n",
    "x, a = next(gen)\n",
    "sample = np.concatenate((x[0:50],a[0:100]))\n",
    "print(sample.shape)\n",
    "\n",
    "model = NeuralNetwork()\n",
    "\n",
    "torch_sample = torch.from_numpy(sample)\n",
    "print(torch_sample.dtype)\n",
    "print(model.forward(torch_sample))\n",
    "print(x[99])"
   ]
  },
  {
   "cell_type": "markdown",
   "id": "4b2a60b0-7bce-435b-a2d1-1b97c637fcd9",
   "metadata": {},
   "source": [
    "Priprava testnih podatkov"
   ]
  },
  {
   "cell_type": "code",
   "execution_count": 26,
   "id": "5a368ec0-7e39-4210-a270-59e1279d308f",
   "metadata": {},
   "outputs": [],
   "source": [
    "from torch.utils.data import Dataset, DataLoader"
   ]
  },
  {
   "cell_type": "code",
   "execution_count": 27,
   "id": "0ee4fbda-222d-4adf-ad5f-e0ba6a221310",
   "metadata": {},
   "outputs": [],
   "source": [
    "class SimDataset(Dataset):\n",
    "    def __init__(self, length, i, o):\n",
    "        self.len = length\n",
    "        self.i = i\n",
    "        self.o = o\n",
    "\n",
    "    def __len__(self):\n",
    "        return self.len\n",
    "\n",
    "    def __getitem__(self, idx):\n",
    "        return self.i[idx], self.o[idx]"
   ]
  },
  {
   "cell_type": "code",
   "execution_count": 249,
   "id": "125c1afb-40a1-45e4-8cd9-a87f709c7037",
   "metadata": {},
   "outputs": [],
   "source": [
    "generator = sample_generator()\n",
    "in_length = 1000\n",
    "def random_data_dataset(length):\n",
    "    raw_in = [next(generator) for _ in range(length)]\n",
    "    #print(len(raw_in))\n",
    "\n",
    "    i_data = []\n",
    "    o_data = []\n",
    "    for i, data in enumerate(raw_in):\n",
    "        x = data[0]\n",
    "        a = data[1]\n",
    "        data_input = np.concatenate((x[0:50], a[0:100]))\n",
    "        data_output = np.zeros((1,), dtype=np.float32)\n",
    "        data_output[0]=x[99]\n",
    "        i_data.append(data_input)\n",
    "        o_data.append(data_output)\n",
    "    return SimDataset(length, i_data, o_data)\n",
    "\n",
    "\n",
    "in_set = random_data_dataset(64)\n",
    "out_set = random_data_dataset(1000)"
   ]
  },
  {
   "cell_type": "code",
   "execution_count": 250,
   "id": "ce1708b5-3208-4f52-a591-560fa7c3ce8c",
   "metadata": {},
   "outputs": [],
   "source": [
    "train_dataloader = DataLoader(in_set, batch_size=64, shuffle=True, drop_last=True)\n",
    "test_dataloader = DataLoader(out_set, batch_size=64, shuffle=False)"
   ]
  },
  {
   "cell_type": "code",
   "execution_count": 278,
   "id": "cafe2679-3153-4110-9fcb-a8712308b4a2",
   "metadata": {},
   "outputs": [],
   "source": [
    "def train_loop(dataloader, model, loss_fn, optimizer, debug):\n",
    "    size = len(dataloader.dataset)\n",
    "    for batch, (X, y) in enumerate(dataloader):\n",
    "        # Compute prediction and loss\n",
    "        pred = model(X)\n",
    "        loss = loss_fn(pred, y)\n",
    "\n",
    "        # Backpropagation\n",
    "        optimizer.zero_grad()\n",
    "        loss.backward()\n",
    "        optimizer.step()\n",
    "    if debug:\n",
    "        loss = loss.item()\n",
    "        print(f\"loss: {loss:>10f}\")\n",
    "\n",
    "\n",
    "def test_loop(dataloader, model, loss_fn):\n",
    "    size = len(dataloader.dataset)\n",
    "    num_batches = len(dataloader)\n",
    "    test_loss, correct = 0, 0\n",
    "\n",
    "    with torch.no_grad():\n",
    "        for X, y in dataloader:\n",
    "            pred = model(X)\n",
    "            test_loss += loss_fn(pred, y).item()\n",
    "            correct += (pred.argmax(1) == y).type(torch.float).sum().item()\n",
    "\n",
    "    test_loss /= num_batches\n",
    "    correct /= size\n",
    "    print(f\"Test Error: \\n Accuracy: {(100*correct):>0.1f}%, Avg loss: {test_loss:>10f} \\n\")\n",
    "\n",
    "model = NeuralNetwork()\n",
    "loss_fn = nn.MSELoss()\n",
    "optimizer = torch.optim.Adam(model.parameters(), lr=1e-4)"
   ]
  },
  {
   "cell_type": "code",
   "execution_count": 279,
   "id": "d5f6ea66-c7f5-473f-b129-529bdff2a352",
   "metadata": {},
   "outputs": [
    {
     "name": "stdout",
     "output_type": "stream",
     "text": [
      "156\n",
      "16\n",
      "Epoch 0\n",
      "-------------------------------\n",
      "loss:   0.000708\n",
      "Test Error: \n",
      " Accuracy: 0.0%, Avg loss:   0.000721 \n",
      "\n",
      "Epoch 10\n",
      "-------------------------------\n",
      "loss:   0.000019\n",
      "Test Error: \n",
      " Accuracy: 0.0%, Avg loss:   0.000022 \n",
      "\n",
      "Epoch 20\n",
      "-------------------------------\n",
      "loss:   0.000009\n",
      "Test Error: \n",
      " Accuracy: 0.0%, Avg loss:   0.000011 \n",
      "\n",
      "Epoch 30\n",
      "-------------------------------\n",
      "loss:   0.000004\n",
      "Test Error: \n",
      " Accuracy: 0.0%, Avg loss:   0.000006 \n",
      "\n",
      "Epoch 40\n",
      "-------------------------------\n",
      "loss:   0.000004\n",
      "Test Error: \n",
      " Accuracy: 0.0%, Avg loss:   0.000004 \n",
      "\n",
      "Epoch 50\n",
      "-------------------------------\n",
      "loss:   0.000002\n",
      "Test Error: \n",
      " Accuracy: 0.0%, Avg loss:   0.000002 \n",
      "\n",
      "Epoch 60\n",
      "-------------------------------\n",
      "loss:   0.000001\n",
      "Test Error: \n",
      " Accuracy: 0.0%, Avg loss:   0.000002 \n",
      "\n",
      "Epoch 70\n",
      "-------------------------------\n",
      "loss:   0.000001\n",
      "Test Error: \n",
      " Accuracy: 0.0%, Avg loss:   0.000002 \n",
      "\n",
      "Epoch 80\n",
      "-------------------------------\n",
      "loss:   0.000001\n",
      "Test Error: \n",
      " Accuracy: 0.0%, Avg loss:   0.000001 \n",
      "\n",
      "Epoch 90\n",
      "-------------------------------\n",
      "loss:   0.000000\n",
      "Test Error: \n",
      " Accuracy: 0.0%, Avg loss:   0.000001 \n",
      "\n",
      "Done!\n"
     ]
    }
   ],
   "source": [
    "epochs = 100\n",
    "print(len(train_dataloader))\n",
    "print(len(test_dataloader))\n",
    "for t in range(epochs):\n",
    "    if t%10 == 0:\n",
    "        print(f\"Epoch {t}\\n-------------------------------\")\n",
    "    train_loop(train_dataloader, model, loss_fn, optimizer, t%10==0)\n",
    "    if t%10 == 0:\n",
    "        test_loop(test_dataloader, model, loss_fn)\n",
    "print(\"Done!\")"
   ]
  },
  {
   "cell_type": "markdown",
   "id": "61df73f5-0846-4dc1-ac38-27945f3f0bda",
   "metadata": {},
   "source": [
    "Testiranje"
   ]
  },
  {
   "cell_type": "code",
   "execution_count": 295,
   "id": "2f18e15e-5343-4475-8c80-e4841c63ade6",
   "metadata": {},
   "outputs": [
    {
     "name": "stdout",
     "output_type": "stream",
     "text": [
      "tensor([-0.0616], grad_fn=<TanhBackward>)\n",
      "-0.060866114 5.394473335251782e-07\n"
     ]
    }
   ],
   "source": [
    "gen = sample_generator()\n",
    "x, a = next(gen)\n",
    "sample = np.concatenate((x[0:50],a[0:100]))\n",
    "\n",
    "torch_sample = torch.from_numpy(sample)\n",
    "\n",
    "print(model.forward(torch_sample))\n",
    "print(x[99], (model.forward(torch_sample).item()-x[99])**2)"
   ]
  },
  {
   "cell_type": "markdown",
   "id": "7efc5af6-3efc-4935-b6c0-7cecc5364cd6",
   "metadata": {},
   "source": [
    "Na primerih z istim generatorjem dobro dela. Naredimo bolj zanimiv primer"
   ]
  },
  {
   "cell_type": "code",
   "execution_count": 331,
   "id": "f74bc451-4091-405e-af48-6e0d9f74dfa0",
   "metadata": {},
   "outputs": [
    {
     "name": "stdout",
     "output_type": "stream",
     "text": [
      "tensor([0.3785], grad_fn=<TanhBackward>)\n",
      "0.3825 1.616212125554739e-05\n"
     ]
    },
    {
     "data": {
      "image/png": "[encoded data removed]",
      "text/plain": [
       "<Figure size 432x288 with 1 Axes>"
      ]
     },
     "metadata": {
      "needs_background": "light"
     },
     "output_type": "display_data"
    }
   ],
   "source": [
    "controller = x_controller()\n",
    "time = 500\n",
    "x = np.zeros((500,), dtype=np.float32)\n",
    "cmd = np.zeros((500,), dtype=np.float32)\n",
    "a = 0\n",
    "for i in range(time):\n",
    "    a += 0.03 if i < 50 else -0.03\n",
    "    controller.step(a)\n",
    "    x[i] = controller.x\n",
    "    cmd[i] = a\n",
    "plt.plot(np.linspace(0,500,500), x)\n",
    "plt.plot(np.linspace(0,500,500), cmd)\n",
    "\n",
    "sample = np.concatenate((x[0:50],cmd[0:100]))\n",
    "\n",
    "torch_sample = torch.from_numpy(sample)\n",
    "\n",
    "print(model.forward(torch_sample))\n",
    "print(x[99], (model.forward(torch_sample).item()-x[99])**2)"
   ]
  },
  {
   "cell_type": "markdown",
   "id": "7293e79d-c907-4879-84b8-735bea13e1cd",
   "metadata": {},
   "source": [
    "Ok stvar izgleda da kar v redu deluje, naslednji projekt: Manj podatkov in zakompliciramo sistem"
   ]
  }
 ],
 "metadata": {
  "kernelspec": {
   "display_name": "Python 3",
   "language": "python",
   "name": "python3"
  },
  "language_info": {
   "codemirror_mode": {
    "name": "ipython",
    "version": 3
   },
   "file_extension": ".py",
   "mimetype": "text/x-python",
   "name": "python",
   "nbconvert_exporter": "python",
   "pygments_lexer": "ipython3",
   "version": "3.8.5"
  }
 },
 "nbformat": 4,
 "nbformat_minor": 5
}
