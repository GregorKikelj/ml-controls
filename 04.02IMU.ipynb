{
 "cells": [
  {
   "cell_type": "code",
   "execution_count": 1,
   "id": "6f43837d-1286-4e7e-a837-f992c48df147",
   "metadata": {},
   "outputs": [],
   "source": [
    "%matplotlib inline\n",
    "import mpld3\n",
    "mpld3.enable_notebook()\n",
    "from matplotlib import pyplot as plt\n",
    "plt.rcParams['figure.figsize'] = [12, 8]\n",
    "plt.rcParams['figure.dpi'] = 100\n",
    "\n",
    "import numpy as np\n",
    "from random import random, uniform, randrange, triangular\n",
    "from tqdm import tqdm"
   ]
  },
  {
   "cell_type": "code",
   "execution_count": 2,
   "id": "3053fd83-5db0-4711-ad86-988859565f2f",
   "metadata": {},
   "outputs": [],
   "source": [
    "#Pytorch imports\n",
    "import torch\n",
    "from torch import nn\n",
    "from torch.utils.data import Dataset, DataLoader"
   ]
  },
  {
   "cell_type": "code",
   "execution_count": 17,
   "id": "1a5415a8-731e-44bd-9c39-317d78a633b3",
   "metadata": {},
   "outputs": [
    {
     "name": "stdout",
     "output_type": "stream",
     "text": [
      "387047\n",
      "16.049999237060547 35.887664794921875 1.0 [19.161849975585938, 8.428146362304688, 11.452590942382812] [0.0880889892578125, 0.8147430419921875, 0.1421051025390625]\n"
     ]
    }
   ],
   "source": [
    "import os\n",
    "files = os.listdir(\"dataset\")\n",
    "\n",
    "import csv\n",
    "\n",
    "class Route:\n",
    "    def __init__(self, phi, v, M, IMU_v, IMU_alpha):\n",
    "        self.phi = phi\n",
    "        self.v = v\n",
    "        self.M = M\n",
    "        self.IMU_v = IMU_v\n",
    "        self.IMU_alpha = IMU_alpha\n",
    "    def __len__(self):\n",
    "        return len(self.phi)\n",
    "    \n",
    "routes = []\n",
    "\n",
    "allRows = 0\n",
    "\n",
    "maxAngle = 0\n",
    "maxSpeed = 0\n",
    "maxTorque = 0\n",
    "\n",
    "maxVDot = [0]*3\n",
    "maxAlphaDot = [0]*3\n",
    "for file in files:\n",
    "    path = os.path.join(\"dataset\", file)\n",
    "    with open(path, newline='') as csvfile:\n",
    "        spamreader = csv.reader(csvfile, delimiter=' ')\n",
    "        phi = []\n",
    "        v = []\n",
    "        M = []\n",
    "        IMU_v = []\n",
    "        IMU_alpha = []\n",
    "        for row in spamreader:\n",
    "            phi.append(float(row[1]))\n",
    "            v.append(float(row[2]))\n",
    "            M.append(float(row[3]))\n",
    "            \n",
    "            vPacket = [float(row[i]) for i in range(4, 7)]\n",
    "            alphaPacket = [float(row[i]) for i in range(7, 10)]\n",
    "            IMU_v.append(vPacket)\n",
    "            IMU_alpha.append(alphaPacket)\n",
    "            \n",
    "            maxAngle = max(abs(float(row[1])), maxAngle)\n",
    "            maxSpeed = max(abs(float(row[2])), maxSpeed)\n",
    "            maxTorque = max(abs(float(row[3])), maxTorque)\n",
    "            \n",
    "            for i in range(3):\n",
    "                maxVDot[i] = max(abs(float(row[4+i])), maxVDot[i])\n",
    "                maxAlphaDot[i] = max(abs(float(row[7+i])), maxAlphaDot[i])\n",
    "        routes.append(Route(torch.tensor(phi), torch.tensor(v), torch.tensor(M), torch.tensor(IMU_v).permute(1,0), torch.tensor(IMU_alpha).permute(1,0)))\n",
    "        allRows += len(phi)\n",
    "\n",
    "\n",
    "print(allRows)\n",
    "print(maxAngle, maxSpeed, maxTorque, maxVDot, maxAlphaDot)"
   ]
  },
  {
   "cell_type": "code",
   "execution_count": 19,
   "id": "e14aa1bb-e6d7-4658-b5a2-e10ab41d25a0",
   "metadata": {},
   "outputs": [
    {
     "name": "stdout",
     "output_type": "stream",
     "text": [
      "torch.Size([3, 4915])\n",
      "tensor([[ 9.5188,  9.7365,  9.5618,  ...,  9.8729, 10.2223,  9.6456],\n",
      "        [-0.9852, -0.9517, -0.6263,  ..., -0.5234, -0.5497,  0.4577],\n",
      "        [ 2.5465,  2.9844,  2.2905,  ...,  1.9651,  1.9268,  1.4985]])\n"
     ]
    }
   ],
   "source": [
    "r = routes[0]\n",
    "print(r.IMU_v.shape)\n",
    "print(r.IMU_v)"
   ]
  },
  {
   "cell_type": "markdown",
   "id": "9ee19460-4b72-4b01-b310-d157ba49346a",
   "metadata": {},
   "source": [
    "Now we have everything stored in routes. Time to generate some test data"
   ]
  },
  {
   "cell_type": "code",
   "execution_count": 334,
   "id": "df0ebbd3-7298-4593-b051-0bab6789594d",
   "metadata": {},
   "outputs": [
    {
     "name": "stderr",
     "output_type": "stream",
     "text": [
      "  0%|          | 0/21 [00:00<?, ?it/s]"
     ]
    },
    {
     "name": "stdout",
     "output_type": "stream",
     "text": [
      "26 routes\n"
     ]
    },
    {
     "name": "stderr",
     "output_type": "stream",
     "text": [
      "100%|██████████| 21/21 [00:17<00:00,  1.17it/s]\n",
      "100%|██████████| 5/5 [00:04<00:00,  1.19it/s]"
     ]
    },
    {
     "name": "stdout",
     "output_type": "stream",
     "text": [
      "77468 18009\n"
     ]
    },
    {
     "name": "stderr",
     "output_type": "stream",
     "text": [
      "\n"
     ]
    }
   ],
   "source": [
    "class SimDataset(Dataset):\n",
    "    def __init__(self, length, i, o):\n",
    "        self.len = length\n",
    "        self.i = i\n",
    "        self.o = o\n",
    "\n",
    "    def __len__(self):\n",
    "        return self.len\n",
    "\n",
    "    def __getitem__(self, idx):\n",
    "        return self.i[idx], self.o[idx]\n",
    "\n",
    "prev_data = 100\n",
    "fwd_data = 100\n",
    "\n",
    "\n",
    "all_routes = len(routes)\n",
    "print(f\"{all_routes} routes\")\n",
    "test_count = int(all_routes*0.2)\n",
    "test_routes = [randrange(all_routes) for _ in range(test_count)]\n",
    "\n",
    "train_routes = [routes[i] for i in range(all_routes) if i not in test_routes]\n",
    "test_routes = [routes[i] for i in range(all_routes) if i in test_routes]\n",
    "\n",
    "group_base = 1\n",
    "group_IMU = 5\n",
    "base_size = prev_data//group_base\n",
    "IMU_size = prev_data//group_IMU\n",
    "torque_size = (prev_data + fwd_data)//group_base\n",
    "\n",
    "input_length = 2 * base_size + 6*IMU_size + torque_size\n",
    "\n",
    "def caddy_dataset(train):\n",
    "    i_data = []\n",
    "    o_data = []\n",
    "    routes = train_routes if train else test_routes\n",
    "    for route in tqdm(routes):\n",
    "        for idx in range(prev_data, len(route.v)-fwd_data+1, 4):\n",
    "            phi = route.phi[idx-prev_data : idx]/maxAngle\n",
    "            v = route.v[idx-prev_data : idx]/maxSpeed\n",
    "            M = route.M[idx-prev_data : idx+fwd_data]/maxTorque\n",
    "            \n",
    "            phi = phi.reshape(-1, group_base).mean(axis=1)\n",
    "            v = v.reshape(-1, group_base).mean(axis=1)\n",
    "            M = M.reshape(-1, group_base).mean(axis=1)\n",
    "            \n",
    "            IMU_v = [(route.IMU_v[i][idx-prev_data:idx]/maxVDot[i]).reshape(-1, group_IMU).mean(axis=1) for i in range(3)]\n",
    "            IMU_alpha = [(route.IMU_alpha[i][idx-prev_data:idx]/maxAlphaDot[i]).reshape(-1, group_IMU).mean(axis=1) for i in range(3)]\n",
    "            \n",
    "            o = route.phi[idx+fwd_data-1 : idx+fwd_data]/maxAngle\n",
    "            data = (phi, v, M, IMU_v[0], IMU_v[1], IMU_v[2], IMU_alpha[0], IMU_alpha[1], IMU_alpha[2])\n",
    "            data_input = np.concatenate(data)\n",
    "            i_data.append(data_input)\n",
    "            o_data.append(o)\n",
    "    return SimDataset(len(i_data), i_data, o_data)\n",
    "\n",
    "\n",
    "train_set = caddy_dataset(True)\n",
    "test_set = caddy_dataset(False)\n",
    "\n",
    "print(len(train_set), len(test_set))"
   ]
  },
  {
   "cell_type": "code",
   "execution_count": 335,
   "id": "e61809f9-1227-40a6-8786-cc1c3c7cbecf",
   "metadata": {},
   "outputs": [
    {
     "name": "stdout",
     "output_type": "stream",
     "text": [
      "(520,)\n",
      "520\n"
     ]
    }
   ],
   "source": [
    "t0 = train_set[0][0]\n",
    "print(t0.shape)\n",
    "print(input_length)"
   ]
  },
  {
   "cell_type": "code",
   "execution_count": 336,
   "id": "8066b6fa-9307-42ad-a856-a2fea7d755db",
   "metadata": {},
   "outputs": [
    {
     "name": "stdout",
     "output_type": "stream",
     "text": [
      "1210\n",
      "282\n"
     ]
    }
   ],
   "source": [
    "train_dataloader = DataLoader(train_set, batch_size=64, shuffle=True, drop_last=True)\n",
    "test_dataloader = DataLoader(test_set, batch_size=64, shuffle=False)\n",
    "print(len(train_dataloader))\n",
    "print(len(test_dataloader))"
   ]
  },
  {
   "cell_type": "code",
   "execution_count": 337,
   "id": "fd5094da-abae-419c-b31e-f1b591abe9d6",
   "metadata": {},
   "outputs": [
    {
     "name": "stdout",
     "output_type": "stream",
     "text": [
      "Base, IMU, M, (100, 20, 200)\n"
     ]
    }
   ],
   "source": [
    "# base_size = prev_data//group_base\n",
    "# IMU_size = prev_data//group_IMU\n",
    "# torque_size = (prev_data + fwd_data)//group_base\n",
    "print(f\"Base, IMU, M, {(base_size, IMU_size, torque_size)}\")\n",
    "class NeuralNetwork(nn.Module):\n",
    "    def __init__(self):\n",
    "        super(NeuralNetwork, self).__init__()\n",
    "        self.linear_relu_stack = nn.Sequential(\n",
    "            nn.Linear(input_length, 32),\n",
    "            nn.ReLU(),\n",
    "            nn.Linear(32, 16),\n",
    "            nn.ReLU(),\n",
    "            nn.Linear(16, 1),\n",
    "            nn.Tanh()\n",
    "        )\n",
    "#         self.baseStack = nn.Sequential(\n",
    "#             nn.Linear(base_size, 16),\n",
    "#             nn.ReLU(),\n",
    "#             nn.Linear(16, 8),\n",
    "#             nn.ReLU(),\n",
    "#         )\n",
    "        \n",
    "#         self.torqueStack = nn.Sequential(\n",
    "#             nn.Linear(torque_size, 16),\n",
    "#             nn.ReLU(),\n",
    "#             nn.Linear(16, 16),\n",
    "#             nn.ReLU(),\n",
    "#             nn.Linear(16, 16),\n",
    "#             nn.ReLU(),\n",
    "#         )\n",
    "#         self.IMUStack = [nn.Sequential(\n",
    "#             nn.Linear(IMU_size, 32),\n",
    "#             nn.ReLU(),\n",
    "#             nn.Linear(32, 16),\n",
    "#             nn.ReLU(),\n",
    "#             nn.Linear(16, 16),\n",
    "#             nn.ReLU(),\n",
    "#             nn.Linear(16, 8),\n",
    "#             nn.ReLU(),\n",
    "#         ) for _ in range(6)]\n",
    "        \n",
    "#         self.linearStack = nn.Sequential(\n",
    "#             nn.Linear(80, 32),\n",
    "#             nn.ReLU(),\n",
    "#             nn.Linear(32, 32),\n",
    "#             nn.ReLU(),\n",
    "#             nn.Linear(32, 1),\n",
    "#             nn.Tanh(),\n",
    "#         )\n",
    "        \n",
    "    def forward(self, x):\n",
    "#         phi = x[:,0:base_size]\n",
    "#         v = x[:,base_size:2*base_size]\n",
    "#         M = x[:,2*base_size: 2*base_size+torque_size]\n",
    "        \n",
    "#         step = 2*base_size+torque_size\n",
    "#         IMU_emb = [None]*6\n",
    "#         for i in range(6):\n",
    "#             IMU_emb[i] = x[:,step + i*IMU_size: step + (i+1)*IMU_size]\n",
    "#         phi2 = self.baseStack(phi)\n",
    "#         v2 = self.baseStack(v)\n",
    "#         M2 = self.torqueStack(M)\n",
    "#         IMU_emb2 = [None]*6\n",
    "#         for i in range(6):\n",
    "#             IMU_emb2[i] = self.IMUStack[i](IMU_emb[i])\n",
    "        \n",
    "#         emb = torch.cat((phi2, v2, M2)+tuple(IMU_emb2), dim=1)\n",
    "#         return self.linearStack(emb)\n",
    "        return self.linear_relu_stack(x)\n"
   ]
  },
  {
   "cell_type": "code",
   "execution_count": 338,
   "id": "ed06f463-bdfa-4602-9ad1-64e78401ad7c",
   "metadata": {},
   "outputs": [
    {
     "name": "stdout",
     "output_type": "stream",
     "text": [
      "torch.Size([32, 520])\n",
      "torch.Size([32])\n",
      "torch.Size([16, 32])\n",
      "torch.Size([16])\n",
      "torch.Size([1, 16])\n",
      "torch.Size([1])\n",
      "17217\n"
     ]
    }
   ],
   "source": [
    "def train_loop(dataloader, model, loss_fn, optimizer, debug):\n",
    "    size = len(dataloader.dataset)\n",
    "    for X, y in dataloader:\n",
    "        # Compute prediction and loss\n",
    "        pred = model(X)\n",
    "        loss = loss_fn(pred, y)\n",
    "\n",
    "        # Backpropagation\n",
    "        optimizer.zero_grad()\n",
    "        loss.backward()\n",
    "        optimizer.step()\n",
    "    if debug:\n",
    "        loss = loss.item()*100\n",
    "        print(f\"Train loss: {loss}\")\n",
    "    return loss\n",
    "\n",
    "def test_loop(dataloader, model, loss_fn):\n",
    "    size = len(dataloader.dataset)\n",
    "    num_batches = len(dataloader)\n",
    "    test_loss = 0\n",
    "\n",
    "    with torch.no_grad():\n",
    "        for X, y in dataloader:\n",
    "            pred = model(X)\n",
    "            test_loss += loss_fn(pred, y).item()*100\n",
    "\n",
    "    test_loss /= num_batches\n",
    "    print(f\"Test  loss: {test_loss} \\n\")\n",
    "    return test_loss\n",
    "\n",
    "model = NeuralNetwork()\n",
    "for p in model.parameters():\n",
    "    print(p.shape)\n",
    "print(sum(p.numel() for p in model.parameters() if p.requires_grad))\n",
    "loss_fn = nn.MSELoss()\n",
    "optimizer = torch.optim.Adam(model.parameters(), lr=1e-5)"
   ]
  },
  {
   "cell_type": "code",
   "execution_count": 339,
   "id": "0367b29f-d7da-40b8-a407-467fba0d8600",
   "metadata": {},
   "outputs": [
    {
     "name": "stdout",
     "output_type": "stream",
     "text": [
      "Epoch 0\n",
      "Train loss: 0.6166279315948486\n",
      "Test  loss: 0.4609175206741842 \n",
      "\n",
      "Epoch 1\n",
      "Train loss: 0.1968193333595991\n",
      "Test  loss: 0.29840100903535866 \n",
      "\n",
      "Epoch 2\n",
      "Train loss: 0.12953851837664843\n",
      "Test  loss: 0.2225954885905091 \n",
      "\n",
      "Epoch 3\n",
      "Train loss: 0.11984041193500161\n",
      "Test  loss: 0.18806776327353691 \n",
      "\n",
      "Epoch 4\n",
      "Train loss: 0.1338598784059286\n",
      "Test  loss: 0.1595916435470704 \n",
      "\n",
      "Epoch 5\n",
      "Train loss: 0.15945220366120338\n",
      "Test  loss: 0.13969933553643715 \n",
      "\n",
      "Epoch 6\n",
      "Train loss: 0.11782353976741433\n",
      "Test  loss: 0.11705105404761919 \n",
      "\n",
      "Epoch 7\n",
      "Train loss: 0.09355029324069619\n",
      "Test  loss: 0.1059798055181052 \n",
      "\n",
      "Epoch 8\n",
      "Train loss: 0.08754830923862755\n",
      "Test  loss: 0.09241301044996156 \n",
      "\n",
      "Epoch 9\n",
      "Train loss: 0.08604355971328914\n",
      "Test  loss: 0.08491456815877975 \n",
      "\n",
      "Epoch 10\n",
      "Train loss: 0.16964689129963517\n",
      "Test  loss: 0.07799192047814164 \n",
      "\n",
      "Epoch 11\n",
      "Train loss: 0.06933044642210007\n",
      "Test  loss: 0.07241869046967286 \n",
      "\n",
      "Epoch 12\n",
      "Train loss: 0.10341688757762313\n",
      "Test  loss: 0.06885855525734311 \n",
      "\n",
      "Epoch 13\n",
      "Train loss: 0.0540288514457643\n",
      "Test  loss: 0.06681461077761847 \n",
      "\n",
      "Epoch 14\n",
      "Train loss: 0.048355376929976046\n",
      "Test  loss: 0.0645378107985883 \n",
      "\n",
      "Epoch 15\n",
      "Train loss: 0.053260597633197904\n",
      "Test  loss: 0.06162202805577916 \n",
      "\n",
      "Epoch 16\n",
      "Train loss: 0.054391316371038556\n",
      "Test  loss: 0.06073821878347815 \n",
      "\n",
      "Epoch 17\n",
      "Train loss: 0.06589512340724468\n",
      "Test  loss: 0.06266058260876915 \n",
      "\n",
      "Epoch 18\n",
      "Train loss: 0.078822229988873\n",
      "Test  loss: 0.05708663153742004 \n",
      "\n",
      "Epoch 19\n",
      "Train loss: 0.05732824793085456\n",
      "Test  loss: 0.053131841856376136 \n",
      "\n",
      "Epoch 20\n",
      "Train loss: 0.036120633012615144\n",
      "Test  loss: 0.0537652942228254 \n",
      "\n",
      "Epoch 21\n",
      "Train loss: 0.05190977826714516\n",
      "Test  loss: 0.049858293089444304 \n",
      "\n",
      "Epoch 22\n",
      "Train loss: 0.0777222216129303\n",
      "Test  loss: 0.05086154600163444 \n",
      "\n",
      "Epoch 23\n",
      "Train loss: 0.060028210282325745\n",
      "Test  loss: 0.04727472850977747 \n",
      "\n",
      "Epoch 24\n",
      "Train loss: 0.0455905101262033\n",
      "Test  loss: 0.045949077148115136 \n",
      "\n",
      "Epoch 25\n",
      "Train loss: 0.044118083314970136\n",
      "Test  loss: 0.04329988115187136 \n",
      "\n",
      "Epoch 26\n",
      "Train loss: 0.04199897521175444\n",
      "Test  loss: 0.04414846678641138 \n",
      "\n",
      "Epoch 27\n",
      "Train loss: 0.08276656735688448\n",
      "Test  loss: 0.04260334472159784 \n",
      "\n",
      "Epoch 28\n",
      "Train loss: 0.05620334995910525\n",
      "Test  loss: 0.04311377437235597 \n",
      "\n",
      "Epoch 29\n",
      "Train loss: 0.03149970434606075\n",
      "Test  loss: 0.04412420029252031 \n",
      "\n"
     ]
    },
    {
     "data": {
      "text/plain": [
       "[<matplotlib.lines.Line2D at 0x7f13273ff910>]"
      ]
     },
     "execution_count": 339,
     "metadata": {},
     "output_type": "execute_result"
    },
    {
     "data": {
      "image/png": "[encoded data removed]",
      "text/html": [
       "\n",
       "\n",
       "<style>\n",
       "\n",
       "</style>\n",
       "\n",
       "<div id=\"fig_el30591397201982508489619520343\"></div>\n",
       "<script>\n",
       "function mpld3_load_lib(url, callback){\n",
       "  var s = document.createElement('script');\n",
       "  s.src = url;\n",
       "  s.async = true;\n",
       "  s.onreadystatechange = s.onload = callback;\n",
       "  s.onerror = function(){console.warn(\"failed to load library \" + url);};\n",
       "  document.getElementsByTagName(\"head\")[0].appendChild(s);\n",
       "}\n",
       "\n",
       "if(typeof(mpld3) !== \"undefined\" && mpld3._mpld3IsLoaded){\n",
       "   // already loaded: just create the figure\n",
       "   !function(mpld3){\n",
       "       \n",
       "       mpld3.draw_figure(\"fig_el30591397201982508489619520343\", {\"width\": 1200.0, \"height\": 800.0, \"axes\": [{\"bbox\": [0.125, 0.125, 0.775, 0.755], \"xlim\": [-1.5, 31.5], \"ylim\": [0.002243292983621359, 0.645884342957288], \"xdomain\": [-1.5, 31.5], \"ydomain\": [0.002243292983621359, 0.645884342957288], \"xscale\": \"linear\", \"yscale\": \"linear\", \"axes\": [{\"position\": \"bottom\", \"nticks\": 9, \"tickvalues\": null, \"tickformat_formatter\": \"\", \"tickformat\": null, \"scale\": \"linear\", \"fontsize\": 10.0, \"grid\": {\"gridOn\": false}, \"visible\": true}, {\"position\": \"left\", \"nticks\": 8, \"tickvalues\": null, \"tickformat_formatter\": \"\", \"tickformat\": null, \"scale\": \"linear\", \"fontsize\": 10.0, \"grid\": {\"gridOn\": false}, \"visible\": true}], \"axesbg\": \"#FFFFFF\", \"axesbgalpha\": null, \"zoomable\": true, \"id\": \"el3059139721366006560\", \"lines\": [{\"data\": \"data01\", \"xindex\": 0, \"yindex\": 1, \"coordinates\": \"data\", \"id\": \"el3059139721483098048\", \"color\": \"#1F77B4\", \"linewidth\": 1.5, \"dasharray\": \"none\", \"alpha\": 1, \"zorder\": 2, \"drawstyle\": \"default\"}, {\"data\": \"data01\", \"xindex\": 0, \"yindex\": 2, \"coordinates\": \"data\", \"id\": \"el3059139720239610128\", \"color\": \"#FF7F0E\", \"linewidth\": 1.5, \"dasharray\": \"none\", \"alpha\": 1, \"zorder\": 2, \"drawstyle\": \"default\"}], \"paths\": [], \"markers\": [], \"texts\": [], \"collections\": [], \"images\": [], \"sharex\": [], \"sharey\": []}], \"data\": {\"data01\": [[0.0, 0.6166279315948486, 0.4609175206741842], [1.0344827586206897, 0.1968193333595991, 0.29840100903535866], [2.0689655172413794, 0.12953851837664843, 0.2225954885905091], [3.1034482758620694, 0.11984041193500161, 0.18806776327353691], [4.137931034482759, 0.1338598784059286, 0.1595916435470704], [5.172413793103448, 0.15945220366120338, 0.13969933553643715], [6.206896551724139, 0.11782353976741433, 0.11705105404761919], [7.241379310344828, 0.09355029324069619, 0.1059798055181052], [8.275862068965518, 0.08754830923862755, 0.09241301044996156], [9.310344827586208, 0.08604355971328914, 0.08491456815877975], [10.344827586206897, 0.16964689129963517, 0.07799192047814164], [11.379310344827587, 0.06933044642210007, 0.07241869046967286], [12.413793103448278, 0.10341688757762313, 0.06885855525734311], [13.448275862068966, 0.0540288514457643, 0.06681461077761847], [14.482758620689657, 0.048355376929976046, 0.0645378107985883], [15.517241379310345, 0.053260597633197904, 0.06162202805577916], [16.551724137931036, 0.054391316371038556, 0.06073821878347815], [17.586206896551726, 0.06589512340724468, 0.06266058260876915], [18.620689655172416, 0.078822229988873, 0.05708663153742004], [19.655172413793103, 0.05732824793085456, 0.053131841856376136], [20.689655172413794, 0.036120633012615144, 0.0537652942228254], [21.724137931034484, 0.05190977826714516, 0.049858293089444304], [22.758620689655174, 0.0777222216129303, 0.05086154600163444], [23.793103448275865, 0.060028210282325745, 0.04727472850977747], [24.827586206896555, 0.0455905101262033, 0.045949077148115136], [25.862068965517242, 0.044118083314970136, 0.04329988115187136], [26.896551724137932, 0.04199897521175444, 0.04414846678641138], [27.931034482758623, 0.08276656735688448, 0.04260334472159784], [28.965517241379313, 0.05620334995910525, 0.04311377437235597], [30.0, 0.03149970434606075, 0.04412420029252031]]}, \"id\": \"el3059139720198250848\", \"plugins\": [{\"type\": \"reset\"}, {\"type\": \"zoom\", \"button\": true, \"enabled\": false}, {\"type\": \"boxzoom\", \"button\": true, \"enabled\": false}]});\n",
       "   }(mpld3);\n",
       "}else if(typeof define === \"function\" && define.amd){\n",
       "   // require.js is available: use it to load d3/mpld3\n",
       "   require.config({paths: {d3: \"https://d3js.org/d3.v5\"}});\n",
       "   require([\"d3\"], function(d3){\n",
       "      window.d3 = d3;\n",
       "      mpld3_load_lib(\"https://mpld3.github.io/js/mpld3.v0.5.5.js\", function(){\n",
       "         \n",
       "         mpld3.draw_figure(\"fig_el30591397201982508489619520343\", {\"width\": 1200.0, \"height\": 800.0, \"axes\": [{\"bbox\": [0.125, 0.125, 0.775, 0.755], \"xlim\": [-1.5, 31.5], \"ylim\": [0.002243292983621359, 0.645884342957288], \"xdomain\": [-1.5, 31.5], \"ydomain\": [0.002243292983621359, 0.645884342957288], \"xscale\": \"linear\", \"yscale\": \"linear\", \"axes\": [{\"position\": \"bottom\", \"nticks\": 9, \"tickvalues\": null, \"tickformat_formatter\": \"\", \"tickformat\": null, \"scale\": \"linear\", \"fontsize\": 10.0, \"grid\": {\"gridOn\": false}, \"visible\": true}, {\"position\": \"left\", \"nticks\": 8, \"tickvalues\": null, \"tickformat_formatter\": \"\", \"tickformat\": null, \"scale\": \"linear\", \"fontsize\": 10.0, \"grid\": {\"gridOn\": false}, \"visible\": true}], \"axesbg\": \"#FFFFFF\", \"axesbgalpha\": null, \"zoomable\": true, \"id\": \"el3059139721366006560\", \"lines\": [{\"data\": \"data01\", \"xindex\": 0, \"yindex\": 1, \"coordinates\": \"data\", \"id\": \"el3059139721483098048\", \"color\": \"#1F77B4\", \"linewidth\": 1.5, \"dasharray\": \"none\", \"alpha\": 1, \"zorder\": 2, \"drawstyle\": \"default\"}, {\"data\": \"data01\", \"xindex\": 0, \"yindex\": 2, \"coordinates\": \"data\", \"id\": \"el3059139720239610128\", \"color\": \"#FF7F0E\", \"linewidth\": 1.5, \"dasharray\": \"none\", \"alpha\": 1, \"zorder\": 2, \"drawstyle\": \"default\"}], \"paths\": [], \"markers\": [], \"texts\": [], \"collections\": [], \"images\": [], \"sharex\": [], \"sharey\": []}], \"data\": {\"data01\": [[0.0, 0.6166279315948486, 0.4609175206741842], [1.0344827586206897, 0.1968193333595991, 0.29840100903535866], [2.0689655172413794, 0.12953851837664843, 0.2225954885905091], [3.1034482758620694, 0.11984041193500161, 0.18806776327353691], [4.137931034482759, 0.1338598784059286, 0.1595916435470704], [5.172413793103448, 0.15945220366120338, 0.13969933553643715], [6.206896551724139, 0.11782353976741433, 0.11705105404761919], [7.241379310344828, 0.09355029324069619, 0.1059798055181052], [8.275862068965518, 0.08754830923862755, 0.09241301044996156], [9.310344827586208, 0.08604355971328914, 0.08491456815877975], [10.344827586206897, 0.16964689129963517, 0.07799192047814164], [11.379310344827587, 0.06933044642210007, 0.07241869046967286], [12.413793103448278, 0.10341688757762313, 0.06885855525734311], [13.448275862068966, 0.0540288514457643, 0.06681461077761847], [14.482758620689657, 0.048355376929976046, 0.0645378107985883], [15.517241379310345, 0.053260597633197904, 0.06162202805577916], [16.551724137931036, 0.054391316371038556, 0.06073821878347815], [17.586206896551726, 0.06589512340724468, 0.06266058260876915], [18.620689655172416, 0.078822229988873, 0.05708663153742004], [19.655172413793103, 0.05732824793085456, 0.053131841856376136], [20.689655172413794, 0.036120633012615144, 0.0537652942228254], [21.724137931034484, 0.05190977826714516, 0.049858293089444304], [22.758620689655174, 0.0777222216129303, 0.05086154600163444], [23.793103448275865, 0.060028210282325745, 0.04727472850977747], [24.827586206896555, 0.0455905101262033, 0.045949077148115136], [25.862068965517242, 0.044118083314970136, 0.04329988115187136], [26.896551724137932, 0.04199897521175444, 0.04414846678641138], [27.931034482758623, 0.08276656735688448, 0.04260334472159784], [28.965517241379313, 0.05620334995910525, 0.04311377437235597], [30.0, 0.03149970434606075, 0.04412420029252031]]}, \"id\": \"el3059139720198250848\", \"plugins\": [{\"type\": \"reset\"}, {\"type\": \"zoom\", \"button\": true, \"enabled\": false}, {\"type\": \"boxzoom\", \"button\": true, \"enabled\": false}]});\n",
       "      });\n",
       "    });\n",
       "}else{\n",
       "    // require.js not available: dynamically load d3 & mpld3\n",
       "    mpld3_load_lib(\"https://d3js.org/d3.v5.js\", function(){\n",
       "         mpld3_load_lib(\"https://mpld3.github.io/js/mpld3.v0.5.5.js\", function(){\n",
       "                 \n",
       "                 mpld3.draw_figure(\"fig_el30591397201982508489619520343\", {\"width\": 1200.0, \"height\": 800.0, \"axes\": [{\"bbox\": [0.125, 0.125, 0.775, 0.755], \"xlim\": [-1.5, 31.5], \"ylim\": [0.002243292983621359, 0.645884342957288], \"xdomain\": [-1.5, 31.5], \"ydomain\": [0.002243292983621359, 0.645884342957288], \"xscale\": \"linear\", \"yscale\": \"linear\", \"axes\": [{\"position\": \"bottom\", \"nticks\": 9, \"tickvalues\": null, \"tickformat_formatter\": \"\", \"tickformat\": null, \"scale\": \"linear\", \"fontsize\": 10.0, \"grid\": {\"gridOn\": false}, \"visible\": true}, {\"position\": \"left\", \"nticks\": 8, \"tickvalues\": null, \"tickformat_formatter\": \"\", \"tickformat\": null, \"scale\": \"linear\", \"fontsize\": 10.0, \"grid\": {\"gridOn\": false}, \"visible\": true}], \"axesbg\": \"#FFFFFF\", \"axesbgalpha\": null, \"zoomable\": true, \"id\": \"el3059139721366006560\", \"lines\": [{\"data\": \"data01\", \"xindex\": 0, \"yindex\": 1, \"coordinates\": \"data\", \"id\": \"el3059139721483098048\", \"color\": \"#1F77B4\", \"linewidth\": 1.5, \"dasharray\": \"none\", \"alpha\": 1, \"zorder\": 2, \"drawstyle\": \"default\"}, {\"data\": \"data01\", \"xindex\": 0, \"yindex\": 2, \"coordinates\": \"data\", \"id\": \"el3059139720239610128\", \"color\": \"#FF7F0E\", \"linewidth\": 1.5, \"dasharray\": \"none\", \"alpha\": 1, \"zorder\": 2, \"drawstyle\": \"default\"}], \"paths\": [], \"markers\": [], \"texts\": [], \"collections\": [], \"images\": [], \"sharex\": [], \"sharey\": []}], \"data\": {\"data01\": [[0.0, 0.6166279315948486, 0.4609175206741842], [1.0344827586206897, 0.1968193333595991, 0.29840100903535866], [2.0689655172413794, 0.12953851837664843, 0.2225954885905091], [3.1034482758620694, 0.11984041193500161, 0.18806776327353691], [4.137931034482759, 0.1338598784059286, 0.1595916435470704], [5.172413793103448, 0.15945220366120338, 0.13969933553643715], [6.206896551724139, 0.11782353976741433, 0.11705105404761919], [7.241379310344828, 0.09355029324069619, 0.1059798055181052], [8.275862068965518, 0.08754830923862755, 0.09241301044996156], [9.310344827586208, 0.08604355971328914, 0.08491456815877975], [10.344827586206897, 0.16964689129963517, 0.07799192047814164], [11.379310344827587, 0.06933044642210007, 0.07241869046967286], [12.413793103448278, 0.10341688757762313, 0.06885855525734311], [13.448275862068966, 0.0540288514457643, 0.06681461077761847], [14.482758620689657, 0.048355376929976046, 0.0645378107985883], [15.517241379310345, 0.053260597633197904, 0.06162202805577916], [16.551724137931036, 0.054391316371038556, 0.06073821878347815], [17.586206896551726, 0.06589512340724468, 0.06266058260876915], [18.620689655172416, 0.078822229988873, 0.05708663153742004], [19.655172413793103, 0.05732824793085456, 0.053131841856376136], [20.689655172413794, 0.036120633012615144, 0.0537652942228254], [21.724137931034484, 0.05190977826714516, 0.049858293089444304], [22.758620689655174, 0.0777222216129303, 0.05086154600163444], [23.793103448275865, 0.060028210282325745, 0.04727472850977747], [24.827586206896555, 0.0455905101262033, 0.045949077148115136], [25.862068965517242, 0.044118083314970136, 0.04329988115187136], [26.896551724137932, 0.04199897521175444, 0.04414846678641138], [27.931034482758623, 0.08276656735688448, 0.04260334472159784], [28.965517241379313, 0.05620334995910525, 0.04311377437235597], [30.0, 0.03149970434606075, 0.04412420029252031]]}, \"id\": \"el3059139720198250848\", \"plugins\": [{\"type\": \"reset\"}, {\"type\": \"zoom\", \"button\": true, \"enabled\": false}, {\"type\": \"boxzoom\", \"button\": true, \"enabled\": false}]});\n",
       "            })\n",
       "         });\n",
       "}\n",
       "</script>"
      ],
      "text/plain": [
       "<Figure size 1200x800 with 1 Axes>"
      ]
     },
     "metadata": {
      "needs_background": "light"
     },
     "output_type": "display_data"
    }
   ],
   "source": [
    "epochs = 30\n",
    "skip = 1\n",
    "loss_t = []\n",
    "loss_e = []\n",
    "for t in range(epochs):\n",
    "    if t%skip == 0:\n",
    "        print(f\"Epoch {t}\")\n",
    "    loss_t.append(train_loop(train_dataloader, model, loss_fn, optimizer, t%skip==0))\n",
    "    if t%skip == 0:\n",
    "        loss_e.append(test_loop(test_dataloader, model, loss_fn))\n",
    "\n",
    "plt.plot(np.linspace(0, epochs, epochs), loss_t)\n",
    "plt.plot(np.linspace(0, epochs, epochs), loss_e)"
   ]
  },
  {
   "cell_type": "code",
   "execution_count": 327,
   "id": "468f89bf-a3b6-4152-8d01-dc5db89d65f6",
   "metadata": {},
   "outputs": [
    {
     "name": "stdout",
     "output_type": "stream",
     "text": [
      "2.982734659835444 initial angle\n",
      "tensor([2.5500])\n",
      "2.6319952235199935\n",
      "Lin interp kind of:  -6.9996262307610095\n"
     ]
    }
   ],
   "source": [
    "random_sample = test_set[randrange(len(test_set))]\n",
    "print(random_sample[0][299]*maxAngle, \"initial angle\")\n",
    "print(random_sample[1]*maxAngle)\n",
    "\n",
    "torch_data_input = torch.from_numpy(random_sample[0])\n",
    "print(model(torch_data_input).item()*maxAngle)\n",
    "\n",
    "#Take a simple interpolation\n",
    "\n",
    "prev = random_sample[0][199]*maxAngle\n",
    "curr = random_sample[0][299]*maxAngle\n",
    "print(\"Lin interp kind of: \", curr+(curr-prev))"
   ]
  },
  {
   "cell_type": "code",
   "execution_count": 162,
   "id": "573a4da4-95f1-4f09-ae35-c09d5056f310",
   "metadata": {},
   "outputs": [],
   "source": [
    "random_sample = test_set[randrange(len(test_set))]"
   ]
  },
  {
   "cell_type": "code",
   "execution_count": 305,
   "id": "979d9bbb-13c8-44c1-abe0-6bb1f7bd59c5",
   "metadata": {},
   "outputs": [],
   "source": [
    "torch.save(model, 'model.pth')"
   ]
  },
  {
   "cell_type": "code",
   "execution_count": 306,
   "id": "f1682ade-9b30-4339-8f16-8d886edf8305",
   "metadata": {},
   "outputs": [
    {
     "name": "stdout",
     "output_type": "stream",
     "text": [
      "NeuralNetwork(\n",
      "  (linear_relu_stack): Sequential(\n",
      "    (0): Linear(in_features=1360, out_features=32, bias=True)\n",
      "    (1): ReLU()\n",
      "    (2): Linear(in_features=32, out_features=16, bias=True)\n",
      "    (3): ReLU()\n",
      "    (4): Linear(in_features=16, out_features=1, bias=True)\n",
      "    (5): Tanh()\n",
      "  )\n",
      ")\n"
     ]
    }
   ],
   "source": [
    "model = torch.load('model.pth')\n",
    "print(model)"
   ]
  },
  {
   "cell_type": "code",
   "execution_count": null,
   "id": "5490418f-d927-43bf-aa60-caacc1a27284",
   "metadata": {},
   "outputs": [],
   "source": []
  }
 ],
 "metadata": {
  "kernelspec": {
   "display_name": "Python 3",
   "language": "python",
   "name": "python3"
  },
  "language_info": {
   "codemirror_mode": {
    "name": "ipython",
    "version": 3
   },
   "file_extension": ".py",
   "mimetype": "text/x-python",
   "name": "python",
   "nbconvert_exporter": "python",
   "pygments_lexer": "ipython3",
   "version": "3.8.5"
  }
 },
 "nbformat": 4,
 "nbformat_minor": 5
}
