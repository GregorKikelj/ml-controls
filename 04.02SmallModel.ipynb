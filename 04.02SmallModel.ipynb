{
 "cells": [
  {
   "cell_type": "code",
   "execution_count": 1,
   "id": "6f43837d-1286-4e7e-a837-f992c48df147",
   "metadata": {},
   "outputs": [],
   "source": [
    "%matplotlib inline\n",
    "import mpld3\n",
    "mpld3.enable_notebook()\n",
    "from matplotlib import pyplot as plt\n",
    "plt.rcParams['figure.figsize'] = [12, 8]\n",
    "plt.rcParams['figure.dpi'] = 100\n",
    "\n",
    "import numpy as np\n",
    "from random import random, uniform, randrange, triangular\n",
    "from tqdm import tqdm"
   ]
  },
  {
   "cell_type": "code",
   "execution_count": 2,
   "id": "3053fd83-5db0-4711-ad86-988859565f2f",
   "metadata": {},
   "outputs": [],
   "source": [
    "#Pytorch imports\n",
    "import torch\n",
    "from torch import nn\n",
    "from torch.utils.data import Dataset, DataLoader"
   ]
  },
  {
   "cell_type": "code",
   "execution_count": 3,
   "id": "1a5415a8-731e-44bd-9c39-317d78a633b3",
   "metadata": {},
   "outputs": [
    {
     "name": "stdout",
     "output_type": "stream",
     "text": [
      "387047\n",
      "16.049999237060547 35.887664794921875 1.0 [19.161849975585938, 8.428146362304688, 11.452590942382812] [0.0880889892578125, 0.8147430419921875, 0.1421051025390625]\n"
     ]
    }
   ],
   "source": [
    "import os\n",
    "files = os.listdir(\"dataset\")\n",
    "\n",
    "import csv\n",
    "\n",
    "class Route:\n",
    "    def __init__(self, phi, v, M, IMU_v, IMU_alpha):\n",
    "        self.phi = phi\n",
    "        self.v = v\n",
    "        self.M = M\n",
    "        self.IMU_v = IMU_v\n",
    "        self.IMU_alpha = IMU_alpha\n",
    "    def __len__(self):\n",
    "        return len(self.phi)\n",
    "    \n",
    "routes = []\n",
    "\n",
    "allRows = 0\n",
    "\n",
    "maxAngle = 0\n",
    "maxSpeed = 0\n",
    "maxTorque = 0\n",
    "\n",
    "maxVDot = [0]*3\n",
    "maxAlphaDot = [0]*3\n",
    "for file in files:\n",
    "    path = os.path.join(\"dataset\", file)\n",
    "    with open(path, newline='') as csvfile:\n",
    "        spamreader = csv.reader(csvfile, delimiter=' ')\n",
    "        phi = []\n",
    "        v = []\n",
    "        M = []\n",
    "        IMU_v = []\n",
    "        IMU_alpha = []\n",
    "        for row in spamreader:\n",
    "            phi.append(float(row[1]))\n",
    "            v.append(float(row[2]))\n",
    "            M.append(float(row[3]))\n",
    "            \n",
    "            vPacket = [float(row[i]) for i in range(4, 7)]\n",
    "            alphaPacket = [float(row[i]) for i in range(7, 10)]\n",
    "            IMU_v.append(vPacket)\n",
    "            IMU_alpha.append(alphaPacket)\n",
    "            \n",
    "            maxAngle = max(abs(float(row[1])), maxAngle)\n",
    "            maxSpeed = max(abs(float(row[2])), maxSpeed)\n",
    "            maxTorque = max(abs(float(row[3])), maxTorque)\n",
    "            \n",
    "            for i in range(3):\n",
    "                maxVDot[i] = max(abs(float(row[4+i])), maxVDot[i])\n",
    "                maxAlphaDot[i] = max(abs(float(row[7+i])), maxAlphaDot[i])\n",
    "        routes.append(Route(torch.tensor(phi), torch.tensor(v), torch.tensor(M), torch.tensor(IMU_v).permute(1,0), torch.tensor(IMU_alpha).permute(1,0)))\n",
    "        allRows += len(phi)\n",
    "\n",
    "\n",
    "print(allRows)\n",
    "print(maxAngle, maxSpeed, maxTorque, maxVDot, maxAlphaDot)"
   ]
  },
  {
   "cell_type": "markdown",
   "id": "9ee19460-4b72-4b01-b310-d157ba49346a",
   "metadata": {},
   "source": [
    "Now we have everything stored in routes. Time to generate some test data"
   ]
  },
  {
   "cell_type": "code",
   "execution_count": 27,
   "id": "df0ebbd3-7298-4593-b051-0bab6789594d",
   "metadata": {},
   "outputs": [
    {
     "name": "stderr",
     "output_type": "stream",
     "text": [
      "  0%|          | 0/21 [00:00<?, ?it/s]"
     ]
    },
    {
     "name": "stdout",
     "output_type": "stream",
     "text": [
      "26 routes\n"
     ]
    },
    {
     "name": "stderr",
     "output_type": "stream",
     "text": [
      "100%|██████████| 21/21 [00:17<00:00,  1.18it/s]\n",
      "100%|██████████| 5/5 [00:04<00:00,  1.25it/s]"
     ]
    },
    {
     "name": "stdout",
     "output_type": "stream",
     "text": [
      "61438 13902 [13, 9, 1, 18, 5]\n"
     ]
    },
    {
     "name": "stderr",
     "output_type": "stream",
     "text": [
      "\n"
     ]
    }
   ],
   "source": [
    "class SimDataset(Dataset):\n",
    "    def __init__(self, length, i, o):\n",
    "        self.len = length\n",
    "        self.i = i\n",
    "        self.o = o\n",
    "\n",
    "    def __len__(self):\n",
    "        return self.len\n",
    "\n",
    "    def __getitem__(self, idx):\n",
    "        return self.i[idx], self.o[idx]\n",
    "\n",
    "prev_data = 300\n",
    "fwd_data = [20, 40, 60, 80, 100]\n",
    "\n",
    "\n",
    "all_routes = len(routes)\n",
    "print(f\"{all_routes} routes\")\n",
    "test_count = int(all_routes*0.2)\n",
    "# test_routes_id = [randrange(all_routes) for _ in range(test_count)]\n",
    "test_routes_id = [13, 9, 1, 18, 5]\n",
    "\n",
    "train_routes = [routes[i] for i in range(all_routes) if i not in test_routes_id]\n",
    "test_routes = [routes[i] for i in range(all_routes) if i in test_routes_id]\n",
    "\n",
    "#Phi, v, M, IMU_v, IMU_alpha\n",
    "groups = [5, 15, 4, 20, 20]\n",
    "\n",
    "input_length = prev_data//groups[0] + prev_data//groups[1] + (prev_data+fwd_data[-1])//groups[2] + 3*prev_data//groups[3] + 3*prev_data//groups[4]\n",
    "output_length = len(fwd_data)\n",
    "\n",
    "def caddy_dataset(train):\n",
    "    i_data = []\n",
    "    o_data = []\n",
    "    routes = train_routes if train else test_routes\n",
    "    for route in tqdm(routes):\n",
    "        for idx in range(prev_data, len(route.v)-fwd_data[-1], 5):\n",
    "            phi = route.phi[idx-prev_data : idx]/maxAngle\n",
    "            v = route.v[idx-prev_data : idx]/maxSpeed\n",
    "            M = route.M[idx-prev_data : idx+fwd_data[-1]]/maxTorque\n",
    "            \n",
    "            phi = phi.reshape(-1, groups[0]).mean(axis=1)\n",
    "            v = v.reshape(-1, groups[1]).mean(axis=1)\n",
    "            M = M.reshape(-1, groups[2]).mean(axis=1)\n",
    "            \n",
    "            IMU_v = [(route.IMU_v[i][idx-prev_data:idx]/maxVDot[i]).reshape(-1, groups[3]).mean(axis=1) for i in range(3)]\n",
    "            IMU_alpha = [(route.IMU_alpha[i][idx-prev_data:idx]/maxAlphaDot[i]).reshape(-1, groups[4]).mean(axis=1) for i in range(3)]\n",
    "            \n",
    "            o = torch.zeros((output_length,))\n",
    "            for i in range(output_length):\n",
    "                o[i] = route.phi[idx+fwd_data[i]]/maxAngle\n",
    "            data = (phi, v, M, IMU_v[0], IMU_v[1], IMU_v[2], IMU_alpha[0], IMU_alpha[1], IMU_alpha[2])\n",
    "            data_input = np.concatenate(data)\n",
    "            i_data.append(data_input)\n",
    "            o_data.append(o)\n",
    "    return SimDataset(len(i_data), i_data, o_data)\n",
    "\n",
    "\n",
    "train_set = caddy_dataset(True)\n",
    "test_set = caddy_dataset(False)\n",
    "\n",
    "print(len(train_set), len(test_set), test_routes_id)"
   ]
  },
  {
   "cell_type": "code",
   "execution_count": 28,
   "id": "e61809f9-1227-40a6-8786-cc1c3c7cbecf",
   "metadata": {},
   "outputs": [
    {
     "name": "stdout",
     "output_type": "stream",
     "text": [
      "(270,)\n",
      "270\n"
     ]
    }
   ],
   "source": [
    "t0 = train_set[0][0]\n",
    "print(t0.shape)\n",
    "print(input_length)"
   ]
  },
  {
   "cell_type": "code",
   "execution_count": 29,
   "id": "8066b6fa-9307-42ad-a856-a2fea7d755db",
   "metadata": {},
   "outputs": [
    {
     "name": "stdout",
     "output_type": "stream",
     "text": [
      "959\n",
      "218\n"
     ]
    }
   ],
   "source": [
    "train_dataloader = DataLoader(train_set, batch_size=64, shuffle=True, drop_last=True)\n",
    "test_dataloader = DataLoader(test_set, batch_size=64, shuffle=False)\n",
    "print(len(train_dataloader))\n",
    "print(len(test_dataloader))"
   ]
  },
  {
   "cell_type": "code",
   "execution_count": 30,
   "id": "fd5094da-abae-419c-b31e-f1b591abe9d6",
   "metadata": {},
   "outputs": [],
   "source": [
    "# base_size = prev_data//group_base\n",
    "# IMU_size = prev_data//group_IMU\n",
    "# torque_size = (prev_data + fwd_data)//group_base\n",
    "class NeuralNetwork(nn.Module):\n",
    "    def __init__(self):\n",
    "        super(NeuralNetwork, self).__init__()\n",
    "        self.linear_relu_stack = nn.Sequential(\n",
    "            nn.Linear(input_length, 64),\n",
    "            nn.ReLU(),\n",
    "            nn.Linear(64, 32),\n",
    "            nn.ReLU(),\n",
    "            nn.Linear(32, output_length),\n",
    "            nn.Tanh()\n",
    "        )\n",
    "\n",
    "        \n",
    "    def forward(self, x):\n",
    "        return self.linear_relu_stack(x)\n"
   ]
  },
  {
   "cell_type": "code",
   "execution_count": 31,
   "id": "ed06f463-bdfa-4602-9ad1-64e78401ad7c",
   "metadata": {},
   "outputs": [
    {
     "name": "stdout",
     "output_type": "stream",
     "text": [
      "torch.Size([64, 270])\n",
      "torch.Size([64])\n",
      "torch.Size([32, 64])\n",
      "torch.Size([32])\n",
      "torch.Size([5, 32])\n",
      "torch.Size([5])\n",
      "19589\n"
     ]
    }
   ],
   "source": [
    "def train_loop(dataloader, model, loss_fn, optimizer, debug):\n",
    "    size = len(dataloader.dataset)\n",
    "    for X, y in dataloader:\n",
    "        # Compute prediction and loss\n",
    "        pred = model(X)\n",
    "        loss = loss_fn(pred, y)\n",
    "\n",
    "        # Backpropagation\n",
    "        optimizer.zero_grad()\n",
    "        loss.backward()\n",
    "        optimizer.step()\n",
    "    if debug:\n",
    "        loss = loss.item()*100\n",
    "        print(f\"Train loss: {loss}\")\n",
    "    return loss\n",
    "\n",
    "def test_loop(dataloader, model, loss_fn):\n",
    "    size = len(dataloader.dataset)\n",
    "    num_batches = len(dataloader)\n",
    "    test_loss = 0\n",
    "\n",
    "    with torch.no_grad():\n",
    "        for X, y in dataloader:\n",
    "            pred = model(X)\n",
    "            test_loss += loss_fn(pred, y).item()*100\n",
    "\n",
    "    test_loss /= num_batches\n",
    "    print(f\"Test  loss: {test_loss} \\n\")\n",
    "    return test_loss\n",
    "\n",
    "model = NeuralNetwork()\n",
    "for p in model.parameters():\n",
    "    print(p.shape)\n",
    "print(sum(p.numel() for p in model.parameters() if p.requires_grad))\n",
    "loss_fn = nn.MSELoss()\n",
    "optimizer = torch.optim.Adam(model.parameters(), lr=1e-5)"
   ]
  },
  {
   "cell_type": "code",
   "execution_count": 32,
   "id": "0367b29f-d7da-40b8-a407-467fba0d8600",
   "metadata": {},
   "outputs": [
    {
     "name": "stdout",
     "output_type": "stream",
     "text": [
      "Epoch 0\n",
      "Train loss: 1.6591861844062805\n",
      "Test  loss: 1.3542390750094162 \n",
      "\n",
      "Epoch 1\n",
      "Train loss: 0.5890124477446079\n",
      "Test  loss: 0.2586144923527272 \n",
      "\n",
      "Epoch 2\n",
      "Train loss: 0.2910614013671875\n",
      "Test  loss: 0.1643598756145199 \n",
      "\n",
      "Epoch 3\n",
      "Train loss: 0.19042398780584335\n",
      "Test  loss: 0.1297312066743445 \n",
      "\n",
      "Epoch 4\n",
      "Train loss: 0.17568257171660662\n",
      "Test  loss: 0.1135527031033443 \n",
      "\n",
      "Epoch 5\n",
      "Train loss: 0.15138741582632065\n",
      "Test  loss: 0.09723796091072363 \n",
      "\n",
      "Epoch 6\n",
      "Train loss: 0.10015938896685839\n",
      "Test  loss: 0.08415659905799532 \n",
      "\n",
      "Epoch 7\n",
      "Train loss: 0.1027988619171083\n",
      "Test  loss: 0.07261651141036071 \n",
      "\n",
      "Epoch 8\n",
      "Train loss: 0.0814475875813514\n",
      "Test  loss: 0.06421671812258364 \n",
      "\n",
      "Epoch 9\n",
      "Train loss: 0.07375992136076093\n",
      "Test  loss: 0.05648710631507496 \n",
      "\n",
      "Epoch 10\n",
      "Train loss: 0.07668384350836277\n",
      "Test  loss: 0.05194397914955508 \n",
      "\n",
      "Epoch 11\n",
      "Train loss: 0.08308718679472804\n",
      "Test  loss: 0.04693026007396071 \n",
      "\n",
      "Epoch 12\n",
      "Train loss: 0.05031414912082255\n",
      "Test  loss: 0.04424566862518085 \n",
      "\n",
      "Epoch 13\n",
      "Train loss: 0.13201177353039384\n",
      "Test  loss: 0.0415490423486709 \n",
      "\n",
      "Epoch 14\n",
      "Train loss: 0.05043292185291648\n",
      "Test  loss: 0.03928962172505151 \n",
      "\n",
      "Epoch 15\n",
      "Train loss: 0.053870846750214696\n",
      "Test  loss: 0.037523772166131404 \n",
      "\n",
      "Epoch 16\n",
      "Train loss: 0.043988070683553815\n",
      "Test  loss: 0.03676231579347503 \n",
      "\n",
      "Epoch 17\n",
      "Train loss: 0.04507213889155537\n",
      "Test  loss: 0.03498188288418583 \n",
      "\n",
      "Epoch 18\n",
      "Train loss: 0.028521596686914563\n",
      "Test  loss: 0.03389541225343913 \n",
      "\n",
      "Epoch 19\n",
      "Train loss: 0.037841551238670945\n",
      "Test  loss: 0.03294953320444019 \n",
      "\n",
      "Epoch 20\n",
      "Train loss: 0.03789571055676788\n",
      "Test  loss: 0.03222990831967129 \n",
      "\n",
      "Epoch 21\n",
      "Train loss: 0.04356260469648987\n",
      "Test  loss: 0.03161385215741717 \n",
      "\n",
      "Epoch 22\n",
      "Train loss: 0.05528017645701766\n",
      "Test  loss: 0.03161163158187965 \n",
      "\n",
      "Epoch 23\n",
      "Train loss: 0.033511529909446836\n",
      "Test  loss: 0.030204607847994707 \n",
      "\n",
      "Epoch 24\n",
      "Train loss: 0.038698388379998505\n",
      "Test  loss: 0.029839839155952886 \n",
      "\n",
      "Epoch 25\n",
      "Train loss: 0.0338284793542698\n",
      "Test  loss: 0.029284916111906787 \n",
      "\n",
      "Epoch 26\n",
      "Train loss: 0.041801840416155756\n",
      "Test  loss: 0.029309742797380783 \n",
      "\n",
      "Epoch 27\n",
      "Train loss: 0.03608913975767791\n",
      "Test  loss: 0.028450597134881243 \n",
      "\n",
      "Epoch 28\n",
      "Train loss: 0.031944867805577815\n",
      "Test  loss: 0.028481116776574625 \n",
      "\n",
      "Epoch 29\n",
      "Train loss: 0.04903218359686434\n",
      "Test  loss: 0.028217851244451995 \n",
      "\n",
      "Epoch 30\n",
      "Train loss: 0.03380807756911963\n",
      "Test  loss: 0.027475992743731713 \n",
      "\n",
      "Epoch 31\n",
      "Train loss: 0.0407687301049009\n",
      "Test  loss: 0.027108789094066388 \n",
      "\n",
      "Epoch 32\n",
      "Train loss: 0.039433492929674685\n",
      "Test  loss: 0.027480968215434446 \n",
      "\n",
      "Epoch 33\n",
      "Train loss: 0.024801905965432525\n",
      "Test  loss: 0.026777162772780624 \n",
      "\n",
      "Epoch 34\n",
      "Train loss: 0.02991619985550642\n",
      "Test  loss: 0.02651759534624326 \n",
      "\n",
      "Epoch 35\n",
      "Train loss: 0.04732141678687185\n",
      "Test  loss: 0.02621690417222578 \n",
      "\n",
      "Epoch 36\n",
      "Train loss: 0.05311571294441819\n",
      "Test  loss: 0.026312907656065698 \n",
      "\n",
      "Epoch 37\n",
      "Train loss: 0.039127017953433096\n",
      "Test  loss: 0.025743476813125058 \n",
      "\n",
      "Epoch 38\n",
      "Train loss: 0.03298394731245935\n",
      "Test  loss: 0.02564221171719885 \n",
      "\n",
      "Epoch 39\n",
      "Train loss: 0.029826007084921002\n",
      "Test  loss: 0.0255592669635491 \n",
      "\n",
      "Epoch 40\n",
      "Train loss: 0.05201516905799508\n",
      "Test  loss: 0.025253627364031882 \n",
      "\n",
      "Epoch 41\n",
      "Train loss: 0.06867431802675128\n",
      "Test  loss: 0.025087204277050818 \n",
      "\n",
      "Epoch 42\n",
      "Train loss: 0.030294765019789338\n",
      "Test  loss: 0.025295441311187595 \n",
      "\n",
      "Epoch 43\n",
      "Train loss: 0.056132697500288486\n",
      "Test  loss: 0.024663704836144596 \n",
      "\n",
      "Epoch 44\n",
      "Train loss: 0.034949672408401966\n",
      "Test  loss: 0.024688273625634718 \n",
      "\n",
      "Epoch 45\n",
      "Train loss: 0.02706583181861788\n",
      "Test  loss: 0.02453152781260016 \n",
      "\n",
      "Epoch 46\n",
      "Train loss: 0.04208920581731945\n",
      "Test  loss: 0.024295459159208277 \n",
      "\n",
      "Epoch 47\n",
      "Train loss: 0.036549652577377856\n",
      "Test  loss: 0.024240018209547163 \n",
      "\n",
      "Epoch 48\n",
      "Train loss: 0.04937570774927735\n",
      "Test  loss: 0.02432202740020755 \n",
      "\n",
      "Epoch 49\n",
      "Train loss: 0.02229516103398055\n",
      "Test  loss: 0.024274750927745135 \n",
      "\n"
     ]
    },
    {
     "data": {
      "text/plain": [
       "[<matplotlib.lines.Line2D at 0x7fc2e438cf40>]"
      ]
     },
     "execution_count": 32,
     "metadata": {},
     "output_type": "execute_result"
    },
    {
     "data": {
      "image/png": "[encoded data removed]",
      "text/html": [
       "\n",
       "\n",
       "<style>\n",
       "\n",
       "</style>\n",
       "\n",
       "<div id=\"fig_el52661404747740757604575597933\"></div>\n",
       "<script>\n",
       "function mpld3_load_lib(url, callback){\n",
       "  var s = document.createElement('script');\n",
       "  s.src = url;\n",
       "  s.async = true;\n",
       "  s.onreadystatechange = s.onload = callback;\n",
       "  s.onerror = function(){console.warn(\"failed to load library \" + url);};\n",
       "  document.getElementsByTagName(\"head\")[0].appendChild(s);\n",
       "}\n",
       "\n",
       "if(typeof(mpld3) !== \"undefined\" && mpld3._mpld3IsLoaded){\n",
       "   // already loaded: just create the figure\n",
       "   !function(mpld3){\n",
       "       \n",
       "       mpld3.draw_figure(\"fig_el52661404747740757604575597933\", {\"width\": 1200.0, \"height\": 800.0, \"axes\": [{\"bbox\": [0.125, 0.125, 0.775, 0.755], \"xlim\": [-2.5, 52.5], \"ylim\": [-0.05954939013463445, 1.7410307355748955], \"xdomain\": [-2.5, 52.5], \"ydomain\": [-0.05954939013463445, 1.7410307355748955], \"xscale\": \"linear\", \"yscale\": \"linear\", \"axes\": [{\"position\": \"bottom\", \"nticks\": 8, \"tickvalues\": null, \"tickformat_formatter\": \"\", \"tickformat\": null, \"scale\": \"linear\", \"fontsize\": 10.0, \"grid\": {\"gridOn\": false}, \"visible\": true}, {\"position\": \"left\", \"nticks\": 9, \"tickvalues\": null, \"tickformat_formatter\": \"\", \"tickformat\": null, \"scale\": \"linear\", \"fontsize\": 10.0, \"grid\": {\"gridOn\": false}, \"visible\": true}], \"axesbg\": \"#FFFFFF\", \"axesbgalpha\": null, \"zoomable\": true, \"id\": \"el5266140474774445168\", \"lines\": [{\"data\": \"data01\", \"xindex\": 0, \"yindex\": 1, \"coordinates\": \"data\", \"id\": \"el5266140474791711216\", \"color\": \"#1F77B4\", \"linewidth\": 1.5, \"dasharray\": \"none\", \"alpha\": 1, \"zorder\": 2, \"drawstyle\": \"default\"}, {\"data\": \"data01\", \"xindex\": 0, \"yindex\": 2, \"coordinates\": \"data\", \"id\": \"el5266140475029311296\", \"color\": \"#FF7F0E\", \"linewidth\": 1.5, \"dasharray\": \"none\", \"alpha\": 1, \"zorder\": 2, \"drawstyle\": \"default\"}], \"paths\": [], \"markers\": [], \"texts\": [], \"collections\": [], \"images\": [], \"sharex\": [], \"sharey\": []}], \"data\": {\"data01\": [[0.0, 1.6591861844062805, 1.3542390750094162], [1.0204081632653061, 0.5890124477446079, 0.2586144923527272], [2.0408163265306123, 0.2910614013671875, 0.1643598756145199], [3.0612244897959187, 0.19042398780584335, 0.1297312066743445], [4.081632653061225, 0.17568257171660662, 0.1135527031033443], [5.1020408163265305, 0.15138741582632065, 0.09723796091072363], [6.122448979591837, 0.10015938896685839, 0.08415659905799532], [7.142857142857143, 0.1027988619171083, 0.07261651141036071], [8.16326530612245, 0.0814475875813514, 0.06421671812258364], [9.183673469387756, 0.07375992136076093, 0.05648710631507496], [10.204081632653061, 0.07668384350836277, 0.05194397914955508], [11.224489795918368, 0.08308718679472804, 0.04693026007396071], [12.244897959183675, 0.05031414912082255, 0.04424566862518085], [13.26530612244898, 0.13201177353039384, 0.0415490423486709], [14.285714285714286, 0.05043292185291648, 0.03928962172505151], [15.306122448979592, 0.053870846750214696, 0.037523772166131404], [16.3265306122449, 0.043988070683553815, 0.03676231579347503], [17.346938775510203, 0.04507213889155537, 0.03498188288418583], [18.367346938775512, 0.028521596686914563, 0.03389541225343913], [19.387755102040817, 0.037841551238670945, 0.03294953320444019], [20.408163265306122, 0.03789571055676788, 0.03222990831967129], [21.42857142857143, 0.04356260469648987, 0.03161385215741717], [22.448979591836736, 0.05528017645701766, 0.03161163158187965], [23.46938775510204, 0.033511529909446836, 0.030204607847994707], [24.48979591836735, 0.038698388379998505, 0.029839839155952886], [25.510204081632654, 0.0338284793542698, 0.029284916111906787], [26.53061224489796, 0.041801840416155756, 0.029309742797380783], [27.551020408163264, 0.03608913975767791, 0.028450597134881243], [28.571428571428573, 0.031944867805577815, 0.028481116776574625], [29.591836734693878, 0.04903218359686434, 0.028217851244451995], [30.612244897959183, 0.03380807756911963, 0.027475992743731713], [31.63265306122449, 0.0407687301049009, 0.027108789094066388], [32.6530612244898, 0.039433492929674685, 0.027480968215434446], [33.673469387755105, 0.024801905965432525, 0.026777162772780624], [34.69387755102041, 0.02991619985550642, 0.02651759534624326], [35.714285714285715, 0.04732141678687185, 0.02621690417222578], [36.734693877551024, 0.05311571294441819, 0.026312907656065698], [37.755102040816325, 0.039127017953433096, 0.025743476813125058], [38.775510204081634, 0.03298394731245935, 0.02564221171719885], [39.79591836734694, 0.029826007084921002, 0.0255592669635491], [40.816326530612244, 0.05201516905799508, 0.025253627364031882], [41.83673469387755, 0.06867431802675128, 0.025087204277050818], [42.85714285714286, 0.030294765019789338, 0.025295441311187595], [43.87755102040816, 0.056132697500288486, 0.024663704836144596], [44.89795918367347, 0.034949672408401966, 0.024688273625634718], [45.91836734693878, 0.02706583181861788, 0.02453152781260016], [46.93877551020408, 0.04208920581731945, 0.024295459159208277], [47.95918367346939, 0.036549652577377856, 0.024240018209547163], [48.9795918367347, 0.04937570774927735, 0.02432202740020755], [50.0, 0.02229516103398055, 0.024274750927745135]]}, \"id\": \"el5266140474774075760\", \"plugins\": [{\"type\": \"reset\"}, {\"type\": \"zoom\", \"button\": true, \"enabled\": false}, {\"type\": \"boxzoom\", \"button\": true, \"enabled\": false}]});\n",
       "   }(mpld3);\n",
       "}else if(typeof define === \"function\" && define.amd){\n",
       "   // require.js is available: use it to load d3/mpld3\n",
       "   require.config({paths: {d3: \"https://d3js.org/d3.v5\"}});\n",
       "   require([\"d3\"], function(d3){\n",
       "      window.d3 = d3;\n",
       "      mpld3_load_lib(\"https://mpld3.github.io/js/mpld3.v0.5.5.js\", function(){\n",
       "         \n",
       "         mpld3.draw_figure(\"fig_el52661404747740757604575597933\", {\"width\": 1200.0, \"height\": 800.0, \"axes\": [{\"bbox\": [0.125, 0.125, 0.775, 0.755], \"xlim\": [-2.5, 52.5], \"ylim\": [-0.05954939013463445, 1.7410307355748955], \"xdomain\": [-2.5, 52.5], \"ydomain\": [-0.05954939013463445, 1.7410307355748955], \"xscale\": \"linear\", \"yscale\": \"linear\", \"axes\": [{\"position\": \"bottom\", \"nticks\": 8, \"tickvalues\": null, \"tickformat_formatter\": \"\", \"tickformat\": null, \"scale\": \"linear\", \"fontsize\": 10.0, \"grid\": {\"gridOn\": false}, \"visible\": true}, {\"position\": \"left\", \"nticks\": 9, \"tickvalues\": null, \"tickformat_formatter\": \"\", \"tickformat\": null, \"scale\": \"linear\", \"fontsize\": 10.0, \"grid\": {\"gridOn\": false}, \"visible\": true}], \"axesbg\": \"#FFFFFF\", \"axesbgalpha\": null, \"zoomable\": true, \"id\": \"el5266140474774445168\", \"lines\": [{\"data\": \"data01\", \"xindex\": 0, \"yindex\": 1, \"coordinates\": \"data\", \"id\": \"el5266140474791711216\", \"color\": \"#1F77B4\", \"linewidth\": 1.5, \"dasharray\": \"none\", \"alpha\": 1, \"zorder\": 2, \"drawstyle\": \"default\"}, {\"data\": \"data01\", \"xindex\": 0, \"yindex\": 2, \"coordinates\": \"data\", \"id\": \"el5266140475029311296\", \"color\": \"#FF7F0E\", \"linewidth\": 1.5, \"dasharray\": \"none\", \"alpha\": 1, \"zorder\": 2, \"drawstyle\": \"default\"}], \"paths\": [], \"markers\": [], \"texts\": [], \"collections\": [], \"images\": [], \"sharex\": [], \"sharey\": []}], \"data\": {\"data01\": [[0.0, 1.6591861844062805, 1.3542390750094162], [1.0204081632653061, 0.5890124477446079, 0.2586144923527272], [2.0408163265306123, 0.2910614013671875, 0.1643598756145199], [3.0612244897959187, 0.19042398780584335, 0.1297312066743445], [4.081632653061225, 0.17568257171660662, 0.1135527031033443], [5.1020408163265305, 0.15138741582632065, 0.09723796091072363], [6.122448979591837, 0.10015938896685839, 0.08415659905799532], [7.142857142857143, 0.1027988619171083, 0.07261651141036071], [8.16326530612245, 0.0814475875813514, 0.06421671812258364], [9.183673469387756, 0.07375992136076093, 0.05648710631507496], [10.204081632653061, 0.07668384350836277, 0.05194397914955508], [11.224489795918368, 0.08308718679472804, 0.04693026007396071], [12.244897959183675, 0.05031414912082255, 0.04424566862518085], [13.26530612244898, 0.13201177353039384, 0.0415490423486709], [14.285714285714286, 0.05043292185291648, 0.03928962172505151], [15.306122448979592, 0.053870846750214696, 0.037523772166131404], [16.3265306122449, 0.043988070683553815, 0.03676231579347503], [17.346938775510203, 0.04507213889155537, 0.03498188288418583], [18.367346938775512, 0.028521596686914563, 0.03389541225343913], [19.387755102040817, 0.037841551238670945, 0.03294953320444019], [20.408163265306122, 0.03789571055676788, 0.03222990831967129], [21.42857142857143, 0.04356260469648987, 0.03161385215741717], [22.448979591836736, 0.05528017645701766, 0.03161163158187965], [23.46938775510204, 0.033511529909446836, 0.030204607847994707], [24.48979591836735, 0.038698388379998505, 0.029839839155952886], [25.510204081632654, 0.0338284793542698, 0.029284916111906787], [26.53061224489796, 0.041801840416155756, 0.029309742797380783], [27.551020408163264, 0.03608913975767791, 0.028450597134881243], [28.571428571428573, 0.031944867805577815, 0.028481116776574625], [29.591836734693878, 0.04903218359686434, 0.028217851244451995], [30.612244897959183, 0.03380807756911963, 0.027475992743731713], [31.63265306122449, 0.0407687301049009, 0.027108789094066388], [32.6530612244898, 0.039433492929674685, 0.027480968215434446], [33.673469387755105, 0.024801905965432525, 0.026777162772780624], [34.69387755102041, 0.02991619985550642, 0.02651759534624326], [35.714285714285715, 0.04732141678687185, 0.02621690417222578], [36.734693877551024, 0.05311571294441819, 0.026312907656065698], [37.755102040816325, 0.039127017953433096, 0.025743476813125058], [38.775510204081634, 0.03298394731245935, 0.02564221171719885], [39.79591836734694, 0.029826007084921002, 0.0255592669635491], [40.816326530612244, 0.05201516905799508, 0.025253627364031882], [41.83673469387755, 0.06867431802675128, 0.025087204277050818], [42.85714285714286, 0.030294765019789338, 0.025295441311187595], [43.87755102040816, 0.056132697500288486, 0.024663704836144596], [44.89795918367347, 0.034949672408401966, 0.024688273625634718], [45.91836734693878, 0.02706583181861788, 0.02453152781260016], [46.93877551020408, 0.04208920581731945, 0.024295459159208277], [47.95918367346939, 0.036549652577377856, 0.024240018209547163], [48.9795918367347, 0.04937570774927735, 0.02432202740020755], [50.0, 0.02229516103398055, 0.024274750927745135]]}, \"id\": \"el5266140474774075760\", \"plugins\": [{\"type\": \"reset\"}, {\"type\": \"zoom\", \"button\": true, \"enabled\": false}, {\"type\": \"boxzoom\", \"button\": true, \"enabled\": false}]});\n",
       "      });\n",
       "    });\n",
       "}else{\n",
       "    // require.js not available: dynamically load d3 & mpld3\n",
       "    mpld3_load_lib(\"https://d3js.org/d3.v5.js\", function(){\n",
       "         mpld3_load_lib(\"https://mpld3.github.io/js/mpld3.v0.5.5.js\", function(){\n",
       "                 \n",
       "                 mpld3.draw_figure(\"fig_el52661404747740757604575597933\", {\"width\": 1200.0, \"height\": 800.0, \"axes\": [{\"bbox\": [0.125, 0.125, 0.775, 0.755], \"xlim\": [-2.5, 52.5], \"ylim\": [-0.05954939013463445, 1.7410307355748955], \"xdomain\": [-2.5, 52.5], \"ydomain\": [-0.05954939013463445, 1.7410307355748955], \"xscale\": \"linear\", \"yscale\": \"linear\", \"axes\": [{\"position\": \"bottom\", \"nticks\": 8, \"tickvalues\": null, \"tickformat_formatter\": \"\", \"tickformat\": null, \"scale\": \"linear\", \"fontsize\": 10.0, \"grid\": {\"gridOn\": false}, \"visible\": true}, {\"position\": \"left\", \"nticks\": 9, \"tickvalues\": null, \"tickformat_formatter\": \"\", \"tickformat\": null, \"scale\": \"linear\", \"fontsize\": 10.0, \"grid\": {\"gridOn\": false}, \"visible\": true}], \"axesbg\": \"#FFFFFF\", \"axesbgalpha\": null, \"zoomable\": true, \"id\": \"el5266140474774445168\", \"lines\": [{\"data\": \"data01\", \"xindex\": 0, \"yindex\": 1, \"coordinates\": \"data\", \"id\": \"el5266140474791711216\", \"color\": \"#1F77B4\", \"linewidth\": 1.5, \"dasharray\": \"none\", \"alpha\": 1, \"zorder\": 2, \"drawstyle\": \"default\"}, {\"data\": \"data01\", \"xindex\": 0, \"yindex\": 2, \"coordinates\": \"data\", \"id\": \"el5266140475029311296\", \"color\": \"#FF7F0E\", \"linewidth\": 1.5, \"dasharray\": \"none\", \"alpha\": 1, \"zorder\": 2, \"drawstyle\": \"default\"}], \"paths\": [], \"markers\": [], \"texts\": [], \"collections\": [], \"images\": [], \"sharex\": [], \"sharey\": []}], \"data\": {\"data01\": [[0.0, 1.6591861844062805, 1.3542390750094162], [1.0204081632653061, 0.5890124477446079, 0.2586144923527272], [2.0408163265306123, 0.2910614013671875, 0.1643598756145199], [3.0612244897959187, 0.19042398780584335, 0.1297312066743445], [4.081632653061225, 0.17568257171660662, 0.1135527031033443], [5.1020408163265305, 0.15138741582632065, 0.09723796091072363], [6.122448979591837, 0.10015938896685839, 0.08415659905799532], [7.142857142857143, 0.1027988619171083, 0.07261651141036071], [8.16326530612245, 0.0814475875813514, 0.06421671812258364], [9.183673469387756, 0.07375992136076093, 0.05648710631507496], [10.204081632653061, 0.07668384350836277, 0.05194397914955508], [11.224489795918368, 0.08308718679472804, 0.04693026007396071], [12.244897959183675, 0.05031414912082255, 0.04424566862518085], [13.26530612244898, 0.13201177353039384, 0.0415490423486709], [14.285714285714286, 0.05043292185291648, 0.03928962172505151], [15.306122448979592, 0.053870846750214696, 0.037523772166131404], [16.3265306122449, 0.043988070683553815, 0.03676231579347503], [17.346938775510203, 0.04507213889155537, 0.03498188288418583], [18.367346938775512, 0.028521596686914563, 0.03389541225343913], [19.387755102040817, 0.037841551238670945, 0.03294953320444019], [20.408163265306122, 0.03789571055676788, 0.03222990831967129], [21.42857142857143, 0.04356260469648987, 0.03161385215741717], [22.448979591836736, 0.05528017645701766, 0.03161163158187965], [23.46938775510204, 0.033511529909446836, 0.030204607847994707], [24.48979591836735, 0.038698388379998505, 0.029839839155952886], [25.510204081632654, 0.0338284793542698, 0.029284916111906787], [26.53061224489796, 0.041801840416155756, 0.029309742797380783], [27.551020408163264, 0.03608913975767791, 0.028450597134881243], [28.571428571428573, 0.031944867805577815, 0.028481116776574625], [29.591836734693878, 0.04903218359686434, 0.028217851244451995], [30.612244897959183, 0.03380807756911963, 0.027475992743731713], [31.63265306122449, 0.0407687301049009, 0.027108789094066388], [32.6530612244898, 0.039433492929674685, 0.027480968215434446], [33.673469387755105, 0.024801905965432525, 0.026777162772780624], [34.69387755102041, 0.02991619985550642, 0.02651759534624326], [35.714285714285715, 0.04732141678687185, 0.02621690417222578], [36.734693877551024, 0.05311571294441819, 0.026312907656065698], [37.755102040816325, 0.039127017953433096, 0.025743476813125058], [38.775510204081634, 0.03298394731245935, 0.02564221171719885], [39.79591836734694, 0.029826007084921002, 0.0255592669635491], [40.816326530612244, 0.05201516905799508, 0.025253627364031882], [41.83673469387755, 0.06867431802675128, 0.025087204277050818], [42.85714285714286, 0.030294765019789338, 0.025295441311187595], [43.87755102040816, 0.056132697500288486, 0.024663704836144596], [44.89795918367347, 0.034949672408401966, 0.024688273625634718], [45.91836734693878, 0.02706583181861788, 0.02453152781260016], [46.93877551020408, 0.04208920581731945, 0.024295459159208277], [47.95918367346939, 0.036549652577377856, 0.024240018209547163], [48.9795918367347, 0.04937570774927735, 0.02432202740020755], [50.0, 0.02229516103398055, 0.024274750927745135]]}, \"id\": \"el5266140474774075760\", \"plugins\": [{\"type\": \"reset\"}, {\"type\": \"zoom\", \"button\": true, \"enabled\": false}, {\"type\": \"boxzoom\", \"button\": true, \"enabled\": false}]});\n",
       "            })\n",
       "         });\n",
       "}\n",
       "</script>"
      ],
      "text/plain": [
       "<Figure size 1200x800 with 1 Axes>"
      ]
     },
     "metadata": {
      "needs_background": "light"
     },
     "output_type": "display_data"
    }
   ],
   "source": [
    "epochs = 50\n",
    "skip = 1\n",
    "loss_t = []\n",
    "loss_e = []\n",
    "for t in range(epochs):\n",
    "    if t%skip == 0:\n",
    "        print(f\"Epoch {t}\")\n",
    "    loss_t.append(train_loop(train_dataloader, model, loss_fn, optimizer, t%skip==0))\n",
    "    if t%skip == 0:\n",
    "        loss_e.append(test_loop(test_dataloader, model, loss_fn))\n",
    "\n",
    "plt.plot(np.linspace(0, epochs, epochs), loss_t)\n",
    "plt.plot(np.linspace(0, epochs, epochs), loss_e)"
   ]
  },
  {
   "cell_type": "code",
   "execution_count": null,
   "id": "468f89bf-a3b6-4152-8d01-dc5db89d65f6",
   "metadata": {},
   "outputs": [
    {
     "name": "stdout",
     "output_type": "stream",
     "text": [
      "3.5999999540431418 initial angle\n",
      "tensor([3.4500, 3.4500, 3.4500, 3.4500, 3.4500])\n",
      "tensor([3.1618, 3.0260, 2.9715, 2.9555, 3.0596], grad_fn=<MulBackward0>)\n"
     ]
    },
    {
     "data": {
      "text/plain": [
       "[<matplotlib.lines.Line2D at 0x7fc2e9262a60>]"
      ]
     },
     "execution_count": 54,
     "metadata": {},
     "output_type": "execute_result"
    }
   ],
   "source": [
    "random_sample = test_set[randrange(len(test_set))]\n",
    "initial_angle = random_sample[0][prev_data//groups[0]-1]*maxAngle\n",
    "print(initial_angle, \"initial angle\")\n",
    "print(random_sample[1]*maxAngle)\n",
    "\n",
    "torch_data_input = torch.from_numpy(random_sample[0])\n",
    "torch_data_output = model(torch_data_input)*maxAngle\n",
    "print(torch_data_output)\n",
    "\n",
    "ls_good = [initial_angle] +[random_sample[1][i]*maxAngle for i in range(output_length)]\n",
    "ls_pred = [initial_angle] +[torch_data_output[i] for i in range(output_length)]\n",
    "\n",
    "plt.plot(np.linspace(0, output_length, output_length+1), ls_good)\n",
    "plt.plot(np.linspace(0, output_length, output_length+1), ls_pred)\n",
    "plt.plot(np.linspace(0, output_length, output_length+1), np.zeros((output_length+1,)))"
   ]
  },
  {
   "cell_type": "code",
   "execution_count": 33,
   "id": "979d9bbb-13c8-44c1-abe0-6bb1f7bd59c5",
   "metadata": {},
   "outputs": [],
   "source": [
    "torch.save(model, 'model_s.pth')"
   ]
  },
  {
   "cell_type": "code",
   "execution_count": 12,
   "id": "f1682ade-9b30-4339-8f16-8d886edf8305",
   "metadata": {},
   "outputs": [
    {
     "name": "stdout",
     "output_type": "stream",
     "text": [
      "NeuralNetwork(\n",
      "  (linear_relu_stack): Sequential(\n",
      "    (0): Linear(in_features=940, out_features=64, bias=True)\n",
      "    (1): ReLU()\n",
      "    (2): Linear(in_features=64, out_features=32, bias=True)\n",
      "    (3): ReLU()\n",
      "    (4): Linear(in_features=32, out_features=5, bias=True)\n",
      "    (5): Tanh()\n",
      "  )\n",
      ")\n"
     ]
    }
   ],
   "source": [
    "model = torch.load('model.pth')\n",
    "print(model)"
   ]
  },
  {
   "cell_type": "code",
   "execution_count": null,
   "id": "5490418f-d927-43bf-aa60-caacc1a27284",
   "metadata": {},
   "outputs": [],
   "source": []
  }
 ],
 "metadata": {
  "kernelspec": {
   "display_name": "Python 3",
   "language": "python",
   "name": "python3"
  },
  "language_info": {
   "codemirror_mode": {
    "name": "ipython",
    "version": 3
   },
   "file_extension": ".py",
   "mimetype": "text/x-python",
   "name": "python",
   "nbconvert_exporter": "python",
   "pygments_lexer": "ipython3",
   "version": "3.8.5"
  }
 },
 "nbformat": 4,
 "nbformat_minor": 5
}
