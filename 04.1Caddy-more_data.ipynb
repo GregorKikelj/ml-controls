{
 "cells": [
  {
   "cell_type": "markdown",
   "id": "1d6fa1be-9c89-4be3-8b9d-190894c04c73",
   "metadata": {},
   "source": [
    "Plan: use more data overlap"
   ]
  },
  {
   "cell_type": "code",
   "execution_count": 1,
   "id": "6f43837d-1286-4e7e-a837-f992c48df147",
   "metadata": {},
   "outputs": [],
   "source": [
    "%matplotlib inline\n",
    "from matplotlib import pyplot as plt\n",
    "plt.rcParams['figure.figsize'] = [12, 8]\n",
    "plt.rcParams['figure.dpi'] = 100\n",
    "\n",
    "import numpy as np\n",
    "from random import random, uniform, randrange, triangular"
   ]
  },
  {
   "cell_type": "code",
   "execution_count": 2,
   "id": "1a5415a8-731e-44bd-9c39-317d78a633b3",
   "metadata": {},
   "outputs": [
    {
     "name": "stdout",
     "output_type": "stream",
     "text": [
      "330394\n",
      "16.049999237060547 34.94847106933594 1.0\n"
     ]
    }
   ],
   "source": [
    "import os\n",
    "files = os.listdir(\"dataset\")\n",
    "\n",
    "import csv\n",
    "from tqdm import tqdm\n",
    "class Route:\n",
    "    def __init__(self, phi, v, M):\n",
    "        self.phi = phi\n",
    "        self.v = v\n",
    "        self.M = M\n",
    "    def __len__(self):\n",
    "        return len(self.phi)\n",
    "    \n",
    "routes = []\n",
    "\n",
    "allRows = 0\n",
    "\n",
    "maxAngle = 0\n",
    "maxSpeed = 0\n",
    "maxTorque = 0\n",
    "\n",
    "for file in files:\n",
    "    path = os.path.join(\"dataset\", file)\n",
    "    with open(path, newline='') as csvfile:\n",
    "        spamreader = csv.reader(csvfile, delimiter=' ')\n",
    "        phi = [] # Steering angle\n",
    "        v = [] # Speed\n",
    "        M = [] # Output torque\n",
    "        for row in spamreader:\n",
    "            phi.append(float(row[1]))\n",
    "            v.append(float(row[2]))\n",
    "            M.append(float(row[3]))\n",
    "\n",
    "            maxAngle = max(abs(float(row[1])), maxAngle)\n",
    "            maxSpeed = max(abs(float(row[2])), maxSpeed)\n",
    "            maxTorque = max(abs(float(row[3])), maxTorque)\n",
    "        routes.append(Route(np.array(phi, dtype=np.float32), np.array(v, dtype=np.float32), np.array(M, dtype=np.float32)))\n",
    "        allRows += len(phi)\n",
    "\n",
    "\n",
    "print(allRows)\n",
    "print(maxAngle, maxSpeed, maxTorque)"
   ]
  },
  {
   "cell_type": "markdown",
   "id": "9ee19460-4b72-4b01-b310-d157ba49346a",
   "metadata": {},
   "source": [
    "Now we have everything stored in routes. Time to generate some test data"
   ]
  },
  {
   "cell_type": "code",
   "execution_count": 3,
   "id": "3053fd83-5db0-4711-ad86-988859565f2f",
   "metadata": {},
   "outputs": [],
   "source": [
    "#Pytorch imports\n",
    "import torch\n",
    "from torch import nn\n",
    "from torch.utils.data import Dataset, DataLoader"
   ]
  },
  {
   "cell_type": "code",
   "execution_count": 4,
   "id": "df0ebbd3-7298-4593-b051-0bab6789594d",
   "metadata": {},
   "outputs": [
    {
     "name": "stderr",
     "output_type": "stream",
     "text": [
      "100%|██████████| 12/12 [00:03<00:00,  3.16it/s]\n",
      "100%|██████████| 2/2 [00:00<00:00,  2.43it/s]"
     ]
    },
    {
     "name": "stdout",
     "output_type": "stream",
     "text": [
      "265961 58847\n"
     ]
    },
    {
     "name": "stderr",
     "output_type": "stream",
     "text": [
      "\n"
     ]
    }
   ],
   "source": [
    "class SimDataset(Dataset):\n",
    "    def __init__(self, length, i, o):\n",
    "        self.len = length\n",
    "        self.i = i\n",
    "        self.o = o\n",
    "\n",
    "    def __len__(self):\n",
    "        return self.len\n",
    "\n",
    "    def __getitem__(self, idx):\n",
    "        return self.i[idx], self.o[idx]\n",
    "\n",
    "prev_data = 300\n",
    "fwd_data = 100\n",
    "\n",
    "input_length = 3 * prev_data + fwd_data\n",
    "\n",
    "def get_sample(test):\n",
    "    if test:\n",
    "        route = routes[-1]\n",
    "    else:\n",
    "        route = routes[randrange(len(routes)-1)]\n",
    "\n",
    "    idx = randrange(prev_data, len(route.v)-fwd_data)\n",
    "    \n",
    "    prev_angle = route.phi[idx-prev_data : idx]/maxAngle\n",
    "    prev_speed = route.v[idx-prev_data : idx]/maxSpeed\n",
    "    torque = route.M[idx-prev_data : idx+fwd_data]/maxTorque\n",
    "\n",
    "    output = route.phi[idx+fwd_data-1 : idx+fwd_data]/maxAngle\n",
    "    \n",
    "    return prev_angle, prev_speed, torque, output\n",
    "\n",
    "all_routes = len(routes)\n",
    "train_routes = routes[0:12]\n",
    "test_routes = routes[12:14]\n",
    "def caddy_dataset(train):\n",
    "    i_data = []\n",
    "    o_data = []\n",
    "    routes = train_routes if train else test_routes\n",
    "    for route in tqdm(routes):\n",
    "        for idx in range(prev_data, len(route.v)-fwd_data+1):\n",
    "            phi = route.phi[idx-prev_data : idx]/maxAngle\n",
    "            v = route.v[idx-prev_data : idx]/maxSpeed\n",
    "            M = route.M[idx-prev_data : idx+fwd_data]/maxTorque\n",
    "\n",
    "            o = route.phi[idx+fwd_data-1 : idx+fwd_data]/maxAngle\n",
    "        \n",
    "            data_input = np.concatenate((phi, v, M))\n",
    "            i_data.append(data_input)\n",
    "            o_data.append(o)\n",
    "    return SimDataset(len(i_data), i_data, o_data)\n",
    "\n",
    "\n",
    "train_set = caddy_dataset(True)\n",
    "test_set = caddy_dataset(False)\n",
    "\n",
    "print(len(train_set), len(test_set))"
   ]
  },
  {
   "cell_type": "code",
   "execution_count": 5,
   "id": "8066b6fa-9307-42ad-a856-a2fea7d755db",
   "metadata": {},
   "outputs": [],
   "source": [
    "train_dataloader = DataLoader(train_set, batch_size=64, shuffle=True, drop_last=True)\n",
    "test_dataloader = DataLoader(test_set, batch_size=64, shuffle=False)"
   ]
  },
  {
   "cell_type": "code",
   "execution_count": 6,
   "id": "fd5094da-abae-419c-b31e-f1b591abe9d6",
   "metadata": {},
   "outputs": [],
   "source": [
    "class NeuralNetwork(nn.Module):\n",
    "    def __init__(self):\n",
    "        super(NeuralNetwork, self).__init__()\n",
    "        self.linear_relu_stack = nn.Sequential(\n",
    "            nn.Linear(input_length, 64),\n",
    "            nn.ReLU(),\n",
    "            nn.Linear(64, 64),\n",
    "            nn.ReLU(),\n",
    "            nn.Linear(64, 32),\n",
    "            nn.ReLU(),\n",
    "            nn.Linear(32, 1),\n",
    "            nn.Tanh()\n",
    "        )\n",
    "\n",
    "    def forward(self, x):\n",
    "        return self.linear_relu_stack(x)\n"
   ]
  },
  {
   "cell_type": "code",
   "execution_count": 7,
   "id": "ed06f463-bdfa-4602-9ad1-64e78401ad7c",
   "metadata": {},
   "outputs": [
    {
     "name": "stdout",
     "output_type": "stream",
     "text": [
      "torch.Size([64, 1000])\n",
      "torch.Size([64])\n",
      "torch.Size([64, 64])\n",
      "torch.Size([64])\n",
      "torch.Size([32, 64])\n",
      "torch.Size([32])\n",
      "torch.Size([1, 32])\n",
      "torch.Size([1])\n",
      "70337\n"
     ]
    }
   ],
   "source": [
    "def train_loop(dataloader, model, loss_fn, optimizer, debug):\n",
    "    size = len(dataloader.dataset)\n",
    "    for X, y in dataloader:\n",
    "        # Compute prediction and loss\n",
    "        pred = model(X)\n",
    "        loss = loss_fn(pred, y)\n",
    "\n",
    "        # Backpropagation\n",
    "        optimizer.zero_grad()\n",
    "        loss.backward()\n",
    "        optimizer.step()\n",
    "    if debug:\n",
    "        loss = loss.item()*100\n",
    "        print(f\"Train loss: {loss}\")\n",
    "\n",
    "\n",
    "def test_loop(dataloader, model, loss_fn):\n",
    "    size = len(dataloader.dataset)\n",
    "    num_batches = len(dataloader)\n",
    "    test_loss = 0\n",
    "\n",
    "    with torch.no_grad():\n",
    "        for X, y in dataloader:\n",
    "            pred = model(X)\n",
    "            test_loss += loss_fn(pred, y).item()*100\n",
    "\n",
    "    test_loss /= num_batches\n",
    "    print(f\"Test  loss: {test_loss} \\n\")\n",
    "\n",
    "model = NeuralNetwork()\n",
    "for p in model.parameters():\n",
    "    print(p.shape)\n",
    "print(sum(p.numel() for p in model.parameters() if p.requires_grad))\n",
    "loss_fn = nn.MSELoss()\n",
    "optimizer = torch.optim.Adam(model.parameters(), lr=20e-6)"
   ]
  },
  {
   "cell_type": "code",
   "execution_count": 8,
   "id": "0367b29f-d7da-40b8-a407-467fba0d8600",
   "metadata": {},
   "outputs": [
    {
     "name": "stdout",
     "output_type": "stream",
     "text": [
      "4155\n",
      "920\n",
      "Epoch 0\n",
      "Train loss: 0.07940682698972523\n",
      "Test  loss: 0.07215757551589179 \n",
      "\n",
      "Epoch 1\n",
      "Train loss: 0.060639751609414816\n",
      "Test  loss: 0.05824343114182818 \n",
      "\n",
      "Epoch 2\n",
      "Train loss: 0.02678383025340736\n",
      "Test  loss: 0.05251650865212152 \n",
      "\n",
      "Epoch 3\n",
      "Train loss: 0.03740957472473383\n",
      "Test  loss: 0.053637174022321196 \n",
      "\n",
      "Epoch 4\n",
      "Train loss: 0.055832212092354894\n",
      "Test  loss: 0.05347414407493568 \n",
      "\n",
      "Epoch 5\n",
      "Train loss: 0.05182572640478611\n",
      "Test  loss: 0.049476446691622426 \n",
      "\n",
      "Epoch 6\n",
      "Train loss: 0.04824564966838807\n",
      "Test  loss: 0.04584019391949784 \n",
      "\n",
      "Epoch 7\n",
      "Train loss: 0.04608226881828159\n",
      "Test  loss: 0.0510163951503273 \n",
      "\n",
      "Epoch 8\n",
      "Train loss: 0.03812775248661637\n",
      "Test  loss: 0.0459034840221885 \n",
      "\n",
      "Epoch 9\n",
      "Train loss: 0.04244059382472187\n",
      "Test  loss: 0.04711439707628652 \n",
      "\n"
     ]
    }
   ],
   "source": [
    "epochs = 10\n",
    "print(len(train_dataloader))\n",
    "print(len(test_dataloader))\n",
    "skip = 1\n",
    "for t in range(epochs):\n",
    "    if t%skip == 0:\n",
    "        print(f\"Epoch {t}\")\n",
    "    train_loop(train_dataloader, model, loss_fn, optimizer, t%skip==0)\n",
    "    if t%skip == 0:\n",
    "        test_loop(test_dataloader, model, loss_fn)"
   ]
  },
  {
   "cell_type": "code",
   "execution_count": 45,
   "id": "468f89bf-a3b6-4152-8d01-dc5db89d65f6",
   "metadata": {},
   "outputs": [
    {
     "name": "stdout",
     "output_type": "stream",
     "text": [
      "0.15000000306770644 initial angle\n",
      "[0.45]\n",
      "0.8348597092445402\n",
      "Loss: [0.14811702]\n"
     ]
    }
   ],
   "source": [
    "random_sample = test_set[randrange(len(test_set))]\n",
    "print(random_sample[0][299]*maxAngle, \"initial angle\")\n",
    "print(random_sample[1]*maxAngle)\n",
    "\n",
    "torch_data_input = torch.from_numpy(random_sample[0])\n",
    "print(model(torch_data_input).item()*maxAngle)\n",
    "print(f\"Loss: {(model(torch_data_input).item()*maxAngle-random_sample[1]*maxAngle)**2}\")"
   ]
  },
  {
   "cell_type": "code",
   "execution_count": 13,
   "id": "573a4da4-95f1-4f09-ae35-c09d5056f310",
   "metadata": {},
   "outputs": [
    {
     "ename": "NameError",
     "evalue": "name 'out_set' is not defined",
     "output_type": "error",
     "traceback": [
      "\u001b[0;31m---------------------------------------------------------------------------\u001b[0m",
      "\u001b[0;31mNameError\u001b[0m                                 Traceback (most recent call last)",
      "\u001b[0;32m<ipython-input-13-741c2692eb7a>\u001b[0m in \u001b[0;36m<module>\u001b[0;34m\u001b[0m\n\u001b[1;32m      1\u001b[0m \u001b[0;31m#Make a plot\u001b[0m\u001b[0;34m\u001b[0m\u001b[0;34m\u001b[0m\u001b[0;34m\u001b[0m\u001b[0m\n\u001b[0;32m----> 2\u001b[0;31m \u001b[0mrandom_sample\u001b[0m \u001b[0;34m=\u001b[0m \u001b[0mtest_set\u001b[0m\u001b[0;34m[\u001b[0m\u001b[0mrandrange\u001b[0m\u001b[0;34m(\u001b[0m\u001b[0mlen\u001b[0m\u001b[0;34m(\u001b[0m\u001b[0mout_set\u001b[0m\u001b[0;34m)\u001b[0m\u001b[0;34m)\u001b[0m\u001b[0;34m]\u001b[0m\u001b[0;34m\u001b[0m\u001b[0;34m\u001b[0m\u001b[0m\n\u001b[0m\u001b[1;32m      3\u001b[0m \u001b[0mi\u001b[0m \u001b[0;34m=\u001b[0m \u001b[0mrandom_sample\u001b[0m\u001b[0;34m[\u001b[0m\u001b[0;36m0\u001b[0m\u001b[0;34m]\u001b[0m\u001b[0;34m\u001b[0m\u001b[0;34m\u001b[0m\u001b[0m\n\u001b[1;32m      4\u001b[0m \u001b[0mv\u001b[0m \u001b[0;34m=\u001b[0m \u001b[0mi\u001b[0m\u001b[0;34m[\u001b[0m\u001b[0;36m0\u001b[0m\u001b[0;34m:\u001b[0m\u001b[0;36m300\u001b[0m\u001b[0;34m]\u001b[0m\u001b[0;34m*\u001b[0m\u001b[0mmaxSpeed\u001b[0m\u001b[0;34m\u001b[0m\u001b[0;34m\u001b[0m\u001b[0m\n\u001b[1;32m      5\u001b[0m \u001b[0mphi\u001b[0m \u001b[0;34m=\u001b[0m \u001b[0mi\u001b[0m\u001b[0;34m[\u001b[0m\u001b[0;36m300\u001b[0m\u001b[0;34m:\u001b[0m\u001b[0;36m600\u001b[0m\u001b[0;34m]\u001b[0m\u001b[0;34m*\u001b[0m\u001b[0mmaxAngle\u001b[0m\u001b[0;34m\u001b[0m\u001b[0;34m\u001b[0m\u001b[0m\n",
      "\u001b[0;31mNameError\u001b[0m: name 'out_set' is not defined"
     ]
    }
   ],
   "source": [
    "#Make a plot\n",
    "random_sample = test_set[randrange(len(out_set))]\n",
    "i = random_sample[0]\n",
    "v = i[0:300]*maxSpeed\n",
    "phi = i[300:600]*maxAngle\n",
    "M = i[600:1000]*maxTorque\n",
    "v.resize(400)\n",
    "phi.resize(400)\n",
    "phi[-1] = random_sample[1][0]*maxAngle\n",
    "\n",
    "time = 400\n",
    "_, axs = plt.subplots(3)\n",
    "axs[0].plot(np.linspace(0, time, time), v)\n",
    "axs[1].plot(np.linspace(0, time, time), phi)\n",
    "axs[2].plot(np.linspace(0, time, time), M)\n",
    "\n",
    "print(random_sample[0][599]*maxAngle, \"initial angle\")\n",
    "print(random_sample[1]*maxAngle)\n",
    "\n",
    "torch_data_input = torch.from_numpy(random_sample[0])\n",
    "print(model(torch_data_input).item()*maxAngle)"
   ]
  },
  {
   "cell_type": "code",
   "execution_count": null,
   "id": "adaac410-2e18-426b-bef7-0cd1a18d7e61",
   "metadata": {},
   "outputs": [],
   "source": [
    "model.load_state_dict(torch.load('model_weights.pth'))\n",
    "print(model.eval())\n",
    "test_loop(test_dataloader, model, loss_fn)"
   ]
  },
  {
   "cell_type": "code",
   "execution_count": null,
   "id": "84259169-7fd2-4919-af0c-3bd12a968ca6",
   "metadata": {},
   "outputs": [],
   "source": []
  }
 ],
 "metadata": {
  "kernelspec": {
   "display_name": "Python 3",
   "language": "python",
   "name": "python3"
  },
  "language_info": {
   "codemirror_mode": {
    "name": "ipython",
    "version": 3
   },
   "file_extension": ".py",
   "mimetype": "text/x-python",
   "name": "python",
   "nbconvert_exporter": "python",
   "pygments_lexer": "ipython3",
   "version": "3.8.5"
  }
 },
 "nbformat": 4,
 "nbformat_minor": 5
}
