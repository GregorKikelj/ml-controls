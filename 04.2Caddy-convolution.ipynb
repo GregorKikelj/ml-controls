{
 "cells": [
  {
   "cell_type": "markdown",
   "id": "1d6fa1be-9c89-4be3-8b9d-190894c04c73",
   "metadata": {},
   "source": [
    "Plan: Test 1-D convolutions on torque, speed and RPM. Also make model take multiple inputs"
   ]
  },
  {
   "cell_type": "code",
   "execution_count": 2,
   "id": "6f43837d-1286-4e7e-a837-f992c48df147",
   "metadata": {},
   "outputs": [],
   "source": [
    "%matplotlib inline\n",
    "from matplotlib import pyplot as plt\n",
    "plt.rcParams['figure.figsize'] = [12, 8]\n",
    "plt.rcParams['figure.dpi'] = 100\n",
    "\n",
    "import numpy as np\n",
    "from random import random, uniform, randrange, triangular"
   ]
  },
  {
   "cell_type": "code",
   "execution_count": 3,
   "id": "1a5415a8-731e-44bd-9c39-317d78a633b3",
   "metadata": {},
   "outputs": [
    {
     "name": "stdout",
     "output_type": "stream",
     "text": [
      "330394\n",
      "16.049999237060547 34.94847106933594 1.0\n"
     ]
    }
   ],
   "source": [
    "import os\n",
    "files = os.listdir(\"dataset\")\n",
    "\n",
    "import csv\n",
    "from tqdm import tqdm\n",
    "class Route:\n",
    "    def __init__(self, phi, v, M):\n",
    "        self.phi = phi\n",
    "        self.v = v\n",
    "        self.M = M\n",
    "    def __len__(self):\n",
    "        return len(self.phi)\n",
    "    \n",
    "routes = []\n",
    "\n",
    "allRows = 0\n",
    "\n",
    "maxAngle = 0\n",
    "maxSpeed = 0\n",
    "maxTorque = 0\n",
    "\n",
    "for file in files:\n",
    "    path = os.path.join(\"dataset\", file)\n",
    "    with open(path, newline='') as csvfile:\n",
    "        spamreader = csv.reader(csvfile, delimiter=' ')\n",
    "        phi = [] # Steering angle\n",
    "        v = [] # Speed\n",
    "        M = [] # Output torque\n",
    "        for row in spamreader:\n",
    "            phi.append(float(row[1]))\n",
    "            v.append(float(row[2]))\n",
    "            M.append(float(row[3]))\n",
    "\n",
    "            maxAngle = max(abs(float(row[1])), maxAngle)\n",
    "            maxSpeed = max(abs(float(row[2])), maxSpeed)\n",
    "            maxTorque = max(abs(float(row[3])), maxTorque)\n",
    "        routes.append(Route(np.array(phi, dtype=np.float32), np.array(v, dtype=np.float32), np.array(M, dtype=np.float32)))\n",
    "        allRows += len(phi)\n",
    "\n",
    "\n",
    "print(allRows)\n",
    "print(maxAngle, maxSpeed, maxTorque)"
   ]
  },
  {
   "cell_type": "markdown",
   "id": "9ee19460-4b72-4b01-b310-d157ba49346a",
   "metadata": {},
   "source": [
    "Now we have everything stored in routes. Time to generate some test data"
   ]
  },
  {
   "cell_type": "code",
   "execution_count": 4,
   "id": "3053fd83-5db0-4711-ad86-988859565f2f",
   "metadata": {},
   "outputs": [
    {
     "data": {
      "text/plain": [
       "device(type='cuda')"
      ]
     },
     "execution_count": 4,
     "metadata": {},
     "output_type": "execute_result"
    }
   ],
   "source": [
    "#Pytorch imports\n",
    "import torch\n",
    "from torch import nn\n",
    "from torch.utils.data import Dataset, DataLoader\n",
    "device = torch.device('cuda' if torch.cuda.is_available() else 'cpu')\n",
    "device"
   ]
  },
  {
   "cell_type": "code",
   "execution_count": 5,
   "id": "df0ebbd3-7298-4593-b051-0bab6789594d",
   "metadata": {},
   "outputs": [
    {
     "name": "stderr",
     "output_type": "stream",
     "text": [
      " 33%|███▎      | 4/12 [00:00<00:00, 33.52it/s]"
     ]
    },
    {
     "name": "stdout",
     "output_type": "stream",
     "text": [
      "There are 14 routes\n"
     ]
    },
    {
     "name": "stderr",
     "output_type": "stream",
     "text": [
      "100%|██████████| 12/12 [00:00<00:00, 34.17it/s]\n",
      "100%|██████████| 2/2 [00:00<00:00, 26.11it/s]"
     ]
    },
    {
     "name": "stdout",
     "output_type": "stream",
     "text": [
      "25760 5746\n"
     ]
    },
    {
     "name": "stderr",
     "output_type": "stream",
     "text": [
      "\n"
     ]
    }
   ],
   "source": [
    "class SimDataset(Dataset):\n",
    "    def __init__(self, length, i, o):\n",
    "        self.len = length\n",
    "        self.i = i\n",
    "        self.o = o\n",
    "\n",
    "    def __len__(self):\n",
    "        return self.len\n",
    "\n",
    "    def __getitem__(self, idx):\n",
    "        return self.i[idx], self.o[idx]\n",
    "\n",
    "prev_data = 1000\n",
    "fwd_data = 100\n",
    "\n",
    "input_length = 3 * prev_data + fwd_data\n",
    "\n",
    "all_routes = len(routes)\n",
    "print(f\"There are {all_routes} routes\")\n",
    "\n",
    "train_routes = routes[0:12]\n",
    "test_routes = routes[12:14]\n",
    "\n",
    "# Don't actually sample every 1/100 of a s(controlsd frequency)\n",
    "skip_times = 10\n",
    "\n",
    "def caddy_dataset(train):\n",
    "    i_data = []\n",
    "    o_data = []\n",
    "    routes = train_routes if train else test_routes\n",
    "    for route in tqdm(routes):\n",
    "        for idx in range(prev_data, len(route.v)-fwd_data+1, skip_times):\n",
    "            phi = route.phi[idx-prev_data : idx]/maxAngle\n",
    "            v = route.v[idx-prev_data : idx]/maxSpeed\n",
    "            M = route.M[idx-prev_data : idx+fwd_data]/maxTorque\n",
    "\n",
    "            o = route.phi[idx+fwd_data-1 : idx+fwd_data]/maxAngle\n",
    "        \n",
    "            data_input = (phi, v, M)\n",
    "            i_data.append(data_input)\n",
    "            o_data.append(o)\n",
    "    return SimDataset(len(i_data), i_data, o_data)\n",
    "\n",
    "\n",
    "train_set = caddy_dataset(True)\n",
    "test_set = caddy_dataset(False)\n",
    "\n",
    "print(len(train_set), len(test_set))"
   ]
  },
  {
   "cell_type": "code",
   "execution_count": 6,
   "id": "8066b6fa-9307-42ad-a856-a2fea7d755db",
   "metadata": {},
   "outputs": [],
   "source": [
    "train_dataloader = DataLoader(train_set, batch_size=64, shuffle=True, drop_last=True)\n",
    "test_dataloader = DataLoader(test_set, batch_size=64, shuffle=False)"
   ]
  },
  {
   "cell_type": "code",
   "execution_count": 8,
   "id": "fd5094da-abae-419c-b31e-f1b591abe9d6",
   "metadata": {},
   "outputs": [],
   "source": [
    "class NeuralNetwork(nn.Module):\n",
    "    def __init__(self):\n",
    "        super(NeuralNetwork, self).__init__()\n",
    "        self.conv = nn.Sequential(\n",
    "            nn.Conv1d(1, 4, kernel_size=20, stride=1),\n",
    "            nn.ReLU(),\n",
    "            nn.AvgPool1d(kernel_size=2),\n",
    "            \n",
    "            nn.Conv1d(4, 4, kernel_size=10),\n",
    "            nn.ReLU(),\n",
    "            nn.MaxPool1d(kernel_size=2),\n",
    "            \n",
    "            nn.Conv1d(4, 2, kernel_size=5),\n",
    "            nn.ReLU(),\n",
    "            nn.MaxPool1d(kernel_size=4),\n",
    "        )\n",
    "        self.linear_stack = nn.Sequential(\n",
    "            nn.Linear(366, 32),\n",
    "            nn.ReLU(),\n",
    "            nn.Linear(32, 32),\n",
    "            nn.ReLU(),\n",
    "            nn.Linear(32, 16),\n",
    "            nn.ReLU(),\n",
    "            nn.Linear(16, 1),\n",
    "            nn.Tanh()\n",
    "        )\n",
    "\n",
    "    def forward(self, phi, v, M):\n",
    "        phi2 = phi.unsqueeze(1)\n",
    "        v2 = v.unsqueeze(1)\n",
    "        M2 = M.unsqueeze(1)\n",
    "        conv_phi = self.conv(phi2)\n",
    "        conv_v = self.conv(v2)\n",
    "        conv_M = self.conv(M2)\n",
    "#         print(conv_phi.shape, conv_v.shape, conv_M.shape)\n",
    "        # Total length = 4*(59, 59, 65) = 100\n",
    "        x = torch.cat([torch.flatten(conv_phi, start_dim=1), torch.flatten(conv_v, start_dim=1), torch.flatten(conv_M, start_dim=1)], dim=1)\n",
    "#         print(x.shape)\n",
    "        return self.linear_stack(x)"
   ]
  },
  {
   "cell_type": "code",
   "execution_count": 9,
   "id": "5d2d69ff-9e3a-4c91-9cb4-b4f503d42b9f",
   "metadata": {},
   "outputs": [
    {
     "name": "stdout",
     "output_type": "stream",
     "text": [
      "torch.Size([4, 1, 20])\n",
      "torch.Size([4])\n",
      "torch.Size([4, 4, 10])\n",
      "torch.Size([4])\n",
      "torch.Size([2, 4, 5])\n",
      "torch.Size([2])\n",
      "torch.Size([32, 366])\n",
      "torch.Size([32])\n",
      "torch.Size([32, 32])\n",
      "torch.Size([32])\n",
      "torch.Size([16, 32])\n",
      "torch.Size([16])\n",
      "torch.Size([1, 16])\n",
      "torch.Size([1])\n",
      "13635\n",
      "\n",
      "NeuralNetwork(\n",
      "  (conv): Sequential(\n",
      "    (0): Conv1d(1, 4, kernel_size=(20,), stride=(1,))\n",
      "    (1): ReLU()\n",
      "    (2): AvgPool1d(kernel_size=(2,), stride=(2,), padding=(0,))\n",
      "    (3): Conv1d(4, 4, kernel_size=(10,), stride=(1,))\n",
      "    (4): ReLU()\n",
      "    (5): MaxPool1d(kernel_size=2, stride=2, padding=0, dilation=1, ceil_mode=False)\n",
      "    (6): Conv1d(4, 2, kernel_size=(5,), stride=(1,))\n",
      "    (7): ReLU()\n",
      "    (8): MaxPool1d(kernel_size=4, stride=4, padding=0, dilation=1, ceil_mode=False)\n",
      "  )\n",
      "  (linear_stack): Sequential(\n",
      "    (0): Linear(in_features=366, out_features=32, bias=True)\n",
      "    (1): ReLU()\n",
      "    (2): Linear(in_features=32, out_features=32, bias=True)\n",
      "    (3): ReLU()\n",
      "    (4): Linear(in_features=32, out_features=16, bias=True)\n",
      "    (5): ReLU()\n",
      "    (6): Linear(in_features=16, out_features=1, bias=True)\n",
      "    (7): Tanh()\n",
      "  )\n",
      ")\n"
     ]
    },
    {
     "data": {
      "text/plain": [
       "tensor([[-0.1217],\n",
       "        [-0.1214],\n",
       "        [-0.1222],\n",
       "        [-0.1222]], grad_fn=<TanhBackward>)"
      ]
     },
     "execution_count": 9,
     "metadata": {},
     "output_type": "execute_result"
    }
   ],
   "source": [
    "#Dimenstions DEBUG\n",
    "model = NeuralNetwork()\n",
    "for p in model.parameters():\n",
    "    print(p.shape)\n",
    "print(sum(p.numel() for p in model.parameters() if p.requires_grad))\n",
    "print()\n",
    "print(model)\n",
    "torch_input = (torch.randn((4,prev_data,)), torch.randn((4,prev_data,)), torch.randn((4,prev_data+fwd_data,)))\n",
    "model(*torch_input)"
   ]
  },
  {
   "cell_type": "code",
   "execution_count": 10,
   "id": "ed06f463-bdfa-4602-9ad1-64e78401ad7c",
   "metadata": {},
   "outputs": [
    {
     "name": "stdout",
     "output_type": "stream",
     "text": [
      "torch.Size([4, 1, 20])\n",
      "torch.Size([4])\n",
      "torch.Size([4, 4, 10])\n",
      "torch.Size([4])\n",
      "torch.Size([2, 4, 5])\n",
      "torch.Size([2])\n",
      "torch.Size([32, 366])\n",
      "torch.Size([32])\n",
      "torch.Size([32, 32])\n",
      "torch.Size([32])\n",
      "torch.Size([16, 32])\n",
      "torch.Size([16])\n",
      "torch.Size([1, 16])\n",
      "torch.Size([1])\n",
      "13635\n"
     ]
    }
   ],
   "source": [
    "from tqdm import tqdm\n",
    "import time\n",
    "\n",
    "def train_loop(dataloader, model, loss_fn, optimizer, debug):\n",
    "    size = len(dataloader.dataset)\n",
    "    for X, y in tqdm(dataloader):\n",
    "        # Compute prediction and loss\n",
    "        pred = model(*X)\n",
    "        loss = loss_fn(pred, y)\n",
    "\n",
    "        # Backpropagation\n",
    "        optimizer.zero_grad()\n",
    "        loss.backward()\n",
    "        optimizer.step()\n",
    "        time.sleep(0.1)\n",
    "    if debug:\n",
    "        loss = loss.item()*100\n",
    "        print(f\"Train loss: {loss}\")\n",
    "\n",
    "\n",
    "def test_loop(dataloader, model, loss_fn):\n",
    "    size = len(dataloader.dataset)\n",
    "    num_batches = len(dataloader)\n",
    "    test_loss = 0\n",
    "\n",
    "    with torch.no_grad():\n",
    "        for X, y in dataloader:\n",
    "            pred = model(*X)\n",
    "            test_loss += loss_fn(pred, y).item()*100\n",
    "\n",
    "    test_loss /= num_batches\n",
    "    print(f\"Test  loss: {test_loss} \\n\")\n",
    "\n",
    "model = NeuralNetwork()\n",
    "for p in model.parameters():\n",
    "    print(p.shape)\n",
    "print(sum(p.numel() for p in model.parameters() if p.requires_grad))\n",
    "loss_fn = nn.MSELoss()\n",
    "optimizer = torch.optim.Adam(model.parameters(), lr=1e-4)"
   ]
  },
  {
   "cell_type": "code",
   "execution_count": 12,
   "id": "0367b29f-d7da-40b8-a407-467fba0d8600",
   "metadata": {},
   "outputs": [
    {
     "name": "stderr",
     "output_type": "stream",
     "text": [
      "  0%|          | 1/402 [00:00<00:50,  7.91it/s]"
     ]
    },
    {
     "name": "stdout",
     "output_type": "stream",
     "text": [
      "402\n",
      "90\n",
      "Epoch 0\n"
     ]
    },
    {
     "name": "stderr",
     "output_type": "stream",
     "text": [
      "100%|██████████| 402/402 [00:50<00:00,  7.96it/s]\n"
     ]
    },
    {
     "name": "stdout",
     "output_type": "stream",
     "text": [
      "Train loss: 0.14827947597950697\n"
     ]
    },
    {
     "name": "stderr",
     "output_type": "stream",
     "text": [
      "  0%|          | 1/402 [00:00<00:49,  8.03it/s]"
     ]
    },
    {
     "name": "stdout",
     "output_type": "stream",
     "text": [
      "Test  loss: 0.12607563021851498 \n",
      "\n",
      "Epoch 1\n"
     ]
    },
    {
     "name": "stderr",
     "output_type": "stream",
     "text": [
      "100%|██████████| 402/402 [00:50<00:00,  7.96it/s]\n"
     ]
    },
    {
     "name": "stdout",
     "output_type": "stream",
     "text": [
      "Train loss: 0.15666792169213295\n"
     ]
    },
    {
     "name": "stderr",
     "output_type": "stream",
     "text": [
      "  0%|          | 1/402 [00:00<00:47,  8.47it/s]"
     ]
    },
    {
     "name": "stdout",
     "output_type": "stream",
     "text": [
      "Test  loss: 0.11650332438875921 \n",
      "\n",
      "Epoch 2\n"
     ]
    },
    {
     "name": "stderr",
     "output_type": "stream",
     "text": [
      "100%|██████████| 402/402 [00:50<00:00,  8.01it/s]\n"
     ]
    },
    {
     "name": "stdout",
     "output_type": "stream",
     "text": [
      "Train loss: 0.15153546119108796\n"
     ]
    },
    {
     "name": "stderr",
     "output_type": "stream",
     "text": [
      "  0%|          | 1/402 [00:00<00:49,  8.06it/s]"
     ]
    },
    {
     "name": "stdout",
     "output_type": "stream",
     "text": [
      "Test  loss: 0.11652285378659144 \n",
      "\n",
      "Epoch 3\n"
     ]
    },
    {
     "name": "stderr",
     "output_type": "stream",
     "text": [
      "100%|██████████| 402/402 [00:50<00:00,  8.02it/s]\n"
     ]
    },
    {
     "name": "stdout",
     "output_type": "stream",
     "text": [
      "Train loss: 0.12037691194564104\n"
     ]
    },
    {
     "name": "stderr",
     "output_type": "stream",
     "text": [
      "  0%|          | 1/402 [00:00<00:48,  8.24it/s]"
     ]
    },
    {
     "name": "stdout",
     "output_type": "stream",
     "text": [
      "Test  loss: 0.10073221050940144 \n",
      "\n",
      "Epoch 4\n"
     ]
    },
    {
     "name": "stderr",
     "output_type": "stream",
     "text": [
      "100%|██████████| 402/402 [00:50<00:00,  8.02it/s]\n"
     ]
    },
    {
     "name": "stdout",
     "output_type": "stream",
     "text": [
      "Train loss: 0.06781538832001388\n"
     ]
    },
    {
     "name": "stderr",
     "output_type": "stream",
     "text": [
      "  0%|          | 1/402 [00:00<00:49,  8.14it/s]"
     ]
    },
    {
     "name": "stdout",
     "output_type": "stream",
     "text": [
      "Test  loss: 0.10685693797616598 \n",
      "\n",
      "Epoch 5\n"
     ]
    },
    {
     "name": "stderr",
     "output_type": "stream",
     "text": [
      "100%|██████████| 402/402 [00:50<00:00,  7.94it/s]\n"
     ]
    },
    {
     "name": "stdout",
     "output_type": "stream",
     "text": [
      "Train loss: 0.0846816401463002\n"
     ]
    },
    {
     "name": "stderr",
     "output_type": "stream",
     "text": [
      "  0%|          | 1/402 [00:00<00:49,  8.05it/s]"
     ]
    },
    {
     "name": "stdout",
     "output_type": "stream",
     "text": [
      "Test  loss: 0.09822591401947041 \n",
      "\n",
      "Epoch 6\n"
     ]
    },
    {
     "name": "stderr",
     "output_type": "stream",
     "text": [
      "100%|██████████| 402/402 [00:50<00:00,  7.92it/s]\n"
     ]
    },
    {
     "name": "stdout",
     "output_type": "stream",
     "text": [
      "Train loss: 0.10910187847912312\n"
     ]
    },
    {
     "name": "stderr",
     "output_type": "stream",
     "text": [
      "  0%|          | 1/402 [00:00<00:49,  8.08it/s]"
     ]
    },
    {
     "name": "stdout",
     "output_type": "stream",
     "text": [
      "Test  loss: 0.09613517810875136 \n",
      "\n",
      "Epoch 7\n"
     ]
    },
    {
     "name": "stderr",
     "output_type": "stream",
     "text": [
      "100%|██████████| 402/402 [00:50<00:00,  7.91it/s]\n"
     ]
    },
    {
     "name": "stdout",
     "output_type": "stream",
     "text": [
      "Train loss: 0.13701171847060323\n"
     ]
    },
    {
     "name": "stderr",
     "output_type": "stream",
     "text": [
      "  0%|          | 1/402 [00:00<00:49,  8.14it/s]"
     ]
    },
    {
     "name": "stdout",
     "output_type": "stream",
     "text": [
      "Test  loss: 0.10032936901552603 \n",
      "\n",
      "Epoch 8\n"
     ]
    },
    {
     "name": "stderr",
     "output_type": "stream",
     "text": [
      "100%|██████████| 402/402 [00:50<00:00,  7.89it/s]\n"
     ]
    },
    {
     "name": "stdout",
     "output_type": "stream",
     "text": [
      "Train loss: 0.11431111488491297\n"
     ]
    },
    {
     "name": "stderr",
     "output_type": "stream",
     "text": [
      "  0%|          | 1/402 [00:00<00:50,  7.90it/s]"
     ]
    },
    {
     "name": "stdout",
     "output_type": "stream",
     "text": [
      "Test  loss: 0.08842486828345703 \n",
      "\n",
      "Epoch 9\n"
     ]
    },
    {
     "name": "stderr",
     "output_type": "stream",
     "text": [
      "100%|██████████| 402/402 [00:50<00:00,  7.92it/s]\n"
     ]
    },
    {
     "name": "stdout",
     "output_type": "stream",
     "text": [
      "Train loss: 0.10606184368953109\n"
     ]
    },
    {
     "name": "stderr",
     "output_type": "stream",
     "text": [
      "  0%|          | 1/402 [00:00<00:50,  8.02it/s]"
     ]
    },
    {
     "name": "stdout",
     "output_type": "stream",
     "text": [
      "Test  loss: 0.08488313210869415 \n",
      "\n",
      "Epoch 10\n"
     ]
    },
    {
     "name": "stderr",
     "output_type": "stream",
     "text": [
      "100%|██████████| 402/402 [00:50<00:00,  7.91it/s]\n"
     ]
    },
    {
     "name": "stdout",
     "output_type": "stream",
     "text": [
      "Train loss: 0.12750603491440415\n"
     ]
    },
    {
     "name": "stderr",
     "output_type": "stream",
     "text": [
      "  0%|          | 1/402 [00:00<00:49,  8.03it/s]"
     ]
    },
    {
     "name": "stdout",
     "output_type": "stream",
     "text": [
      "Test  loss: 0.08736655492814155 \n",
      "\n",
      "Epoch 11\n"
     ]
    },
    {
     "name": "stderr",
     "output_type": "stream",
     "text": [
      "100%|██████████| 402/402 [00:50<00:00,  7.91it/s]\n"
     ]
    },
    {
     "name": "stdout",
     "output_type": "stream",
     "text": [
      "Train loss: 0.092902168398723\n"
     ]
    },
    {
     "name": "stderr",
     "output_type": "stream",
     "text": [
      "  0%|          | 1/402 [00:00<00:48,  8.19it/s]"
     ]
    },
    {
     "name": "stdout",
     "output_type": "stream",
     "text": [
      "Test  loss: 0.0858092965467626 \n",
      "\n",
      "Epoch 12\n"
     ]
    },
    {
     "name": "stderr",
     "output_type": "stream",
     "text": [
      "100%|██████████| 402/402 [00:50<00:00,  7.93it/s]\n"
     ]
    },
    {
     "name": "stdout",
     "output_type": "stream",
     "text": [
      "Train loss: 0.10367271024733782\n"
     ]
    },
    {
     "name": "stderr",
     "output_type": "stream",
     "text": [
      "  0%|          | 1/402 [00:00<00:49,  8.12it/s]"
     ]
    },
    {
     "name": "stdout",
     "output_type": "stream",
     "text": [
      "Test  loss: 0.09035769094932927 \n",
      "\n",
      "Epoch 13\n"
     ]
    },
    {
     "name": "stderr",
     "output_type": "stream",
     "text": [
      "100%|██████████| 402/402 [00:50<00:00,  7.91it/s]\n"
     ]
    },
    {
     "name": "stdout",
     "output_type": "stream",
     "text": [
      "Train loss: 0.14126563910394907\n"
     ]
    },
    {
     "name": "stderr",
     "output_type": "stream",
     "text": [
      "  0%|          | 1/402 [00:00<00:49,  8.07it/s]"
     ]
    },
    {
     "name": "stdout",
     "output_type": "stream",
     "text": [
      "Test  loss: 0.09328244355856441 \n",
      "\n",
      "Epoch 14\n"
     ]
    },
    {
     "name": "stderr",
     "output_type": "stream",
     "text": [
      "100%|██████████| 402/402 [00:50<00:00,  7.92it/s]\n"
     ]
    },
    {
     "name": "stdout",
     "output_type": "stream",
     "text": [
      "Train loss: 0.08737640455365181\n"
     ]
    },
    {
     "name": "stderr",
     "output_type": "stream",
     "text": [
      "  0%|          | 1/402 [00:00<00:50,  7.87it/s]"
     ]
    },
    {
     "name": "stdout",
     "output_type": "stream",
     "text": [
      "Test  loss: 0.07896292716193581 \n",
      "\n",
      "Epoch 15\n"
     ]
    },
    {
     "name": "stderr",
     "output_type": "stream",
     "text": [
      "100%|██████████| 402/402 [00:50<00:00,  7.94it/s]\n"
     ]
    },
    {
     "name": "stdout",
     "output_type": "stream",
     "text": [
      "Train loss: 0.12335523497313261\n"
     ]
    },
    {
     "name": "stderr",
     "output_type": "stream",
     "text": [
      "  0%|          | 1/402 [00:00<00:49,  8.07it/s]"
     ]
    },
    {
     "name": "stdout",
     "output_type": "stream",
     "text": [
      "Test  loss: 0.08971131002504586 \n",
      "\n",
      "Epoch 16\n"
     ]
    },
    {
     "name": "stderr",
     "output_type": "stream",
     "text": [
      "100%|██████████| 402/402 [00:50<00:00,  7.91it/s]\n"
     ]
    },
    {
     "name": "stdout",
     "output_type": "stream",
     "text": [
      "Train loss: 0.09811768541112542\n"
     ]
    },
    {
     "name": "stderr",
     "output_type": "stream",
     "text": [
      "  0%|          | 1/402 [00:00<00:48,  8.29it/s]"
     ]
    },
    {
     "name": "stdout",
     "output_type": "stream",
     "text": [
      "Test  loss: 0.07873817304951242 \n",
      "\n",
      "Epoch 17\n"
     ]
    },
    {
     "name": "stderr",
     "output_type": "stream",
     "text": [
      "100%|██████████| 402/402 [00:50<00:00,  7.91it/s]\n"
     ]
    },
    {
     "name": "stdout",
     "output_type": "stream",
     "text": [
      "Train loss: 0.11894949711859226\n"
     ]
    },
    {
     "name": "stderr",
     "output_type": "stream",
     "text": [
      "  0%|          | 1/402 [00:00<00:50,  7.91it/s]"
     ]
    },
    {
     "name": "stdout",
     "output_type": "stream",
     "text": [
      "Test  loss: 0.08107005846492636 \n",
      "\n",
      "Epoch 18\n"
     ]
    },
    {
     "name": "stderr",
     "output_type": "stream",
     "text": [
      "100%|██████████| 402/402 [00:50<00:00,  7.91it/s]\n"
     ]
    },
    {
     "name": "stdout",
     "output_type": "stream",
     "text": [
      "Train loss: 0.06245634867809713\n"
     ]
    },
    {
     "name": "stderr",
     "output_type": "stream",
     "text": [
      "  0%|          | 1/402 [00:00<00:48,  8.26it/s]"
     ]
    },
    {
     "name": "stdout",
     "output_type": "stream",
     "text": [
      "Test  loss: 0.09034480760520738 \n",
      "\n",
      "Epoch 19\n"
     ]
    },
    {
     "name": "stderr",
     "output_type": "stream",
     "text": [
      "100%|██████████| 402/402 [00:50<00:00,  7.93it/s]\n"
     ]
    },
    {
     "name": "stdout",
     "output_type": "stream",
     "text": [
      "Train loss: 0.10144028346985579\n"
     ]
    },
    {
     "name": "stderr",
     "output_type": "stream",
     "text": [
      "  0%|          | 1/402 [00:00<00:47,  8.35it/s]"
     ]
    },
    {
     "name": "stdout",
     "output_type": "stream",
     "text": [
      "Test  loss: 0.08301431275160415 \n",
      "\n",
      "Epoch 20\n"
     ]
    },
    {
     "name": "stderr",
     "output_type": "stream",
     "text": [
      "100%|██████████| 402/402 [00:50<00:00,  7.92it/s]\n"
     ]
    },
    {
     "name": "stdout",
     "output_type": "stream",
     "text": [
      "Train loss: 0.05774053861387074\n"
     ]
    },
    {
     "name": "stderr",
     "output_type": "stream",
     "text": [
      "  0%|          | 1/402 [00:00<00:48,  8.30it/s]"
     ]
    },
    {
     "name": "stdout",
     "output_type": "stream",
     "text": [
      "Test  loss: 0.07865317138364641 \n",
      "\n",
      "Epoch 21\n"
     ]
    },
    {
     "name": "stderr",
     "output_type": "stream",
     "text": [
      "100%|██████████| 402/402 [00:50<00:00,  7.90it/s]\n"
     ]
    },
    {
     "name": "stdout",
     "output_type": "stream",
     "text": [
      "Train loss: 0.09113441337831318\n"
     ]
    },
    {
     "name": "stderr",
     "output_type": "stream",
     "text": [
      "  0%|          | 1/402 [00:00<00:49,  8.16it/s]"
     ]
    },
    {
     "name": "stdout",
     "output_type": "stream",
     "text": [
      "Test  loss: 0.0778625190125442 \n",
      "\n",
      "Epoch 22\n"
     ]
    },
    {
     "name": "stderr",
     "output_type": "stream",
     "text": [
      "100%|██████████| 402/402 [00:51<00:00,  7.87it/s]\n"
     ]
    },
    {
     "name": "stdout",
     "output_type": "stream",
     "text": [
      "Train loss: 0.09062604513019323\n"
     ]
    },
    {
     "name": "stderr",
     "output_type": "stream",
     "text": [
      "  0%|          | 1/402 [00:00<00:50,  8.01it/s]"
     ]
    },
    {
     "name": "stdout",
     "output_type": "stream",
     "text": [
      "Test  loss: 0.07975928263881037 \n",
      "\n",
      "Epoch 23\n"
     ]
    },
    {
     "name": "stderr",
     "output_type": "stream",
     "text": [
      "100%|██████████| 402/402 [00:51<00:00,  7.85it/s]\n"
     ]
    },
    {
     "name": "stdout",
     "output_type": "stream",
     "text": [
      "Train loss: 0.09155267616733909\n"
     ]
    },
    {
     "name": "stderr",
     "output_type": "stream",
     "text": [
      "  0%|          | 1/402 [00:00<00:49,  8.14it/s]"
     ]
    },
    {
     "name": "stdout",
     "output_type": "stream",
     "text": [
      "Test  loss: 0.07566310885724509 \n",
      "\n",
      "Epoch 24\n"
     ]
    },
    {
     "name": "stderr",
     "output_type": "stream",
     "text": [
      "100%|██████████| 402/402 [00:51<00:00,  7.86it/s]\n"
     ]
    },
    {
     "name": "stdout",
     "output_type": "stream",
     "text": [
      "Train loss: 0.061778369126841426\n"
     ]
    },
    {
     "name": "stderr",
     "output_type": "stream",
     "text": [
      "  0%|          | 1/402 [00:00<00:49,  8.10it/s]"
     ]
    },
    {
     "name": "stdout",
     "output_type": "stream",
     "text": [
      "Test  loss: 0.08478857209815437 \n",
      "\n",
      "Epoch 25\n"
     ]
    },
    {
     "name": "stderr",
     "output_type": "stream",
     "text": [
      "100%|██████████| 402/402 [00:50<00:00,  7.91it/s]\n"
     ]
    },
    {
     "name": "stdout",
     "output_type": "stream",
     "text": [
      "Train loss: 0.09023604216054082\n"
     ]
    },
    {
     "name": "stderr",
     "output_type": "stream",
     "text": [
      "  0%|          | 1/402 [00:00<00:50,  7.95it/s]"
     ]
    },
    {
     "name": "stdout",
     "output_type": "stream",
     "text": [
      "Test  loss: 0.07766532050381 \n",
      "\n",
      "Epoch 26\n"
     ]
    },
    {
     "name": "stderr",
     "output_type": "stream",
     "text": [
      "100%|██████████| 402/402 [00:51<00:00,  7.82it/s]\n"
     ]
    },
    {
     "name": "stdout",
     "output_type": "stream",
     "text": [
      "Train loss: 0.06437431438826025\n"
     ]
    },
    {
     "name": "stderr",
     "output_type": "stream",
     "text": [
      "  0%|          | 1/402 [00:00<00:49,  8.10it/s]"
     ]
    },
    {
     "name": "stdout",
     "output_type": "stream",
     "text": [
      "Test  loss: 0.07375197258726177 \n",
      "\n",
      "Epoch 27\n"
     ]
    },
    {
     "name": "stderr",
     "output_type": "stream",
     "text": [
      "100%|██████████| 402/402 [00:51<00:00,  7.86it/s]\n"
     ]
    },
    {
     "name": "stdout",
     "output_type": "stream",
     "text": [
      "Train loss: 0.08211217354983091\n"
     ]
    },
    {
     "name": "stderr",
     "output_type": "stream",
     "text": [
      "  0%|          | 1/402 [00:00<00:50,  7.96it/s]"
     ]
    },
    {
     "name": "stdout",
     "output_type": "stream",
     "text": [
      "Test  loss: 0.07410152956759299 \n",
      "\n",
      "Epoch 28\n"
     ]
    },
    {
     "name": "stderr",
     "output_type": "stream",
     "text": [
      "100%|██████████| 402/402 [00:51<00:00,  7.82it/s]\n"
     ]
    },
    {
     "name": "stdout",
     "output_type": "stream",
     "text": [
      "Train loss: 0.0883357715792954\n"
     ]
    },
    {
     "name": "stderr",
     "output_type": "stream",
     "text": [
      "  0%|          | 1/402 [00:00<00:49,  8.07it/s]"
     ]
    },
    {
     "name": "stdout",
     "output_type": "stream",
     "text": [
      "Test  loss: 0.07307444290846535 \n",
      "\n",
      "Epoch 29\n"
     ]
    },
    {
     "name": "stderr",
     "output_type": "stream",
     "text": [
      "100%|██████████| 402/402 [00:51<00:00,  7.81it/s]\n"
     ]
    },
    {
     "name": "stdout",
     "output_type": "stream",
     "text": [
      "Train loss: 0.09360868134535849\n",
      "Test  loss: 0.08423632704458821 \n",
      "\n"
     ]
    }
   ],
   "source": [
    "epochs = 30\n",
    "print(len(train_dataloader))\n",
    "print(len(test_dataloader))\n",
    "skip = 1\n",
    "for t in range(epochs):\n",
    "    if t%skip == 0:\n",
    "        print(f\"Epoch {t}\")\n",
    "    train_loop(train_dataloader, model, loss_fn, optimizer, t%skip==0)\n",
    "    if t%skip == 0:\n",
    "        test_loop(test_dataloader, model, loss_fn)"
   ]
  },
  {
   "cell_type": "code",
   "execution_count": 22,
   "id": "573a4da4-95f1-4f09-ae35-c09d5056f310",
   "metadata": {},
   "outputs": [
    {
     "name": "stdout",
     "output_type": "stream",
     "text": [
      "-0.3 initial angle\n",
      "-2.2499999712769636 ground truth\n",
      "-1.7411444395139029\n"
     ]
    },
    {
     "data": {
      "image/png": "[encoded data removed]",
      "text/plain": [
       "<Figure size 1200x800 with 3 Axes>"
      ]
     },
     "metadata": {
      "needs_background": "light"
     },
     "output_type": "display_data"
    }
   ],
   "source": [
    "#Make a plot\n",
    "random_sample = test_set[randrange(len(test_set))]\n",
    "phi, v, M = random_sample[0]\n",
    "phi = phi*maxAngle\n",
    "v = v*maxSpeed\n",
    "M = M*maxTorque\n",
    "v.resize(1100)\n",
    "phi.resize(1100)\n",
    "phi[-1] = random_sample[1][0]*maxAngle\n",
    "\n",
    "time = 1100\n",
    "_, axs = plt.subplots(3)\n",
    "axs[0].plot(np.linspace(0, time, time), v)\n",
    "axs[1].plot(np.linspace(0, time, time), phi)\n",
    "axs[2].plot(np.linspace(0, time, time), M)\n",
    "\n",
    "print(phi[999], \"initial angle\")\n",
    "print(random_sample[1][0]*maxAngle, \"ground truth\")\n",
    "\n",
    "torch_data_input = tuple(map(torch.from_numpy, random_sample[0]))\n",
    "print(model(torch_data_input[0].unsqueeze(0), torch_data_input[1].unsqueeze(0), torch_data_input[2].unsqueeze(0)).item()*maxAngle)"
   ]
  },
  {
   "cell_type": "code",
   "execution_count": 11,
   "id": "adaac410-2e18-426b-bef7-0cd1a18d7e61",
   "metadata": {},
   "outputs": [
    {
     "name": "stdout",
     "output_type": "stream",
     "text": [
      "Using device: cuda\n",
      "\n",
      "GeForce GTX 1060 3GB\n",
      "Memory Usage:\n",
      "Allocated: 0.0 GB\n",
      "Cached:    0.0 GB\n"
     ]
    }
   ],
   "source": [
    "device = torch.device('cuda' if torch.cuda.is_available() else 'cpu')\n",
    "print('Using device:', device)\n",
    "print()\n",
    "\n",
    "#Additional Info when using cuda\n",
    "if device.type == 'cuda':\n",
    "    print(torch.cuda.get_device_name(0))\n",
    "    print('Memory Usage:')\n",
    "    print('Allocated:', round(torch.cuda.memory_allocated(0)/1024**3,1), 'GB')\n",
    "    print('Cached:   ', round(torch.cuda.memory_reserved(0)/1024**3,1), 'GB')"
   ]
  },
  {
   "cell_type": "markdown",
   "id": "d59e8f6e-2d17-4f9a-98e7-88cba5e3ff98",
   "metadata": {},
   "source": [
    "Really hard to improve upon a basic NN..."
   ]
  },
  {
   "cell_type": "code",
   "execution_count": null,
   "id": "87d23500-0c12-4719-8c2c-5d15a7c633cf",
   "metadata": {},
   "outputs": [],
   "source": []
  }
 ],
 "metadata": {
  "kernelspec": {
   "display_name": "Python 3",
   "language": "python",
   "name": "python3"
  },
  "language_info": {
   "codemirror_mode": {
    "name": "ipython",
    "version": 3
   },
   "file_extension": ".py",
   "mimetype": "text/x-python",
   "name": "python",
   "nbconvert_exporter": "python",
   "pygments_lexer": "ipython3",
   "version": "3.8.5"
  }
 },
 "nbformat": 4,
 "nbformat_minor": 5
}
