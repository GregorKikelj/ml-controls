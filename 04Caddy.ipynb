{
 "cells": [
  {
   "cell_type": "code",
   "execution_count": 1,
   "id": "6f43837d-1286-4e7e-a837-f992c48df147",
   "metadata": {},
   "outputs": [],
   "source": [
    "%matplotlib inline\n",
    "from matplotlib import pyplot as plt\n",
    "plt.rcParams['figure.figsize'] = [12, 8]\n",
    "plt.rcParams['figure.dpi'] = 100\n",
    "\n",
    "import numpy as np\n",
    "from random import random, uniform, randrange, triangular"
   ]
  },
  {
   "cell_type": "code",
   "execution_count": 17,
   "id": "1a5415a8-731e-44bd-9c39-317d78a633b3",
   "metadata": {},
   "outputs": [
    {
     "name": "stdout",
     "output_type": "stream",
     "text": [
      "330394\n",
      "16.049999237060547 34.94847106933594 1.0\n"
     ]
    }
   ],
   "source": [
    "import os\n",
    "files = os.listdir(\"dataset\")\n",
    "\n",
    "import csv\n",
    "\n",
    "class Route:\n",
    "    def __init__(self, phi, v, M):\n",
    "        self.phi = phi\n",
    "        self.v = v\n",
    "        self.M = M\n",
    "    def __len__(self):\n",
    "        return len(self.phi)\n",
    "    \n",
    "routes = []\n",
    "\n",
    "allRows = 0\n",
    "\n",
    "maxAngle = 0\n",
    "maxSpeed = 0\n",
    "maxTorque = 0\n",
    "\n",
    "for file in files:\n",
    "    path = os.path.join(\"dataset\", file)\n",
    "    with open(path, newline='') as csvfile:\n",
    "        spamreader = csv.reader(csvfile, delimiter=' ')\n",
    "        phi = []\n",
    "        v = []\n",
    "        M = []\n",
    "        for row in spamreader:\n",
    "            phi.append(float(row[1]))\n",
    "            v.append(float(row[2]))\n",
    "            M.append(float(row[3]))\n",
    "\n",
    "            maxAngle = max(abs(float(row[1])), maxAngle)\n",
    "            maxSpeed = max(abs(float(row[2])), maxSpeed)\n",
    "            maxTorque = max(abs(float(row[3])), maxTorque)\n",
    "        routes.append(Route(np.array(phi, dtype=np.float32), np.array(v, dtype=np.float32), np.array(M, dtype=np.float32)))\n",
    "        allRows += len(phi)\n",
    "\n",
    "\n",
    "print(allRows)\n",
    "print(maxAngle, maxSpeed, maxTorque)"
   ]
  },
  {
   "cell_type": "markdown",
   "id": "9ee19460-4b72-4b01-b310-d157ba49346a",
   "metadata": {},
   "source": [
    "Now we have everything stored in routes. Time to generate some test data"
   ]
  },
  {
   "cell_type": "code",
   "execution_count": 18,
   "id": "3053fd83-5db0-4711-ad86-988859565f2f",
   "metadata": {},
   "outputs": [],
   "source": [
    "#Pytorch imports\n",
    "import torch\n",
    "from torch import nn\n",
    "from torch.utils.data import Dataset, DataLoader"
   ]
  },
  {
   "cell_type": "code",
   "execution_count": 60,
   "id": "df0ebbd3-7298-4593-b051-0bab6789594d",
   "metadata": {},
   "outputs": [
    {
     "name": "stdout",
     "output_type": "stream",
     "text": [
      "0/50000\n",
      "5000/50000\n",
      "10000/50000\n",
      "15000/50000\n",
      "20000/50000\n",
      "25000/50000\n",
      "30000/50000\n",
      "35000/50000\n",
      "40000/50000\n",
      "45000/50000\n",
      "0/1000\n",
      "100/1000\n",
      "200/1000\n",
      "300/1000\n",
      "400/1000\n",
      "500/1000\n",
      "600/1000\n",
      "700/1000\n",
      "800/1000\n",
      "900/1000\n"
     ]
    }
   ],
   "source": [
    "class SimDataset(Dataset):\n",
    "    def __init__(self, length, i, o):\n",
    "        self.len = length\n",
    "        self.i = i\n",
    "        self.o = o\n",
    "\n",
    "    def __len__(self):\n",
    "        return self.len\n",
    "\n",
    "    def __getitem__(self, idx):\n",
    "        return self.i[idx], self.o[idx]\n",
    "\n",
    "prev_data = 300\n",
    "fwd_data = 100\n",
    "\n",
    "input_length = 3 * prev_data + fwd_data\n",
    "\n",
    "def get_sample(test):\n",
    "    if test:\n",
    "        route = routes[-1]\n",
    "    else:\n",
    "        route = routes[randrange(len(routes)-1)]\n",
    "\n",
    "    idx = randrange(prev_data, len(route.v)-fwd_data)\n",
    "    \n",
    "    prev_speed = route.v[idx-prev_data : idx]/maxSpeed\n",
    "    prev_angle = route.phi[idx-prev_data : idx]/maxAngle\n",
    "    torque = route.M[idx-prev_data : idx+fwd_data]/maxTorque\n",
    "\n",
    "    output = route.phi[idx+fwd_data-1 : idx+fwd_data]/maxAngle\n",
    "    \n",
    "    return prev_speed, prev_angle, torque, output\n",
    "\n",
    "def caddy_dataset(length, test):\n",
    "    i_data = []\n",
    "    o_data = []\n",
    "    for i in range(length):\n",
    "        if i%(length//10) == 0:\n",
    "            print(f\"{i}/{length}\")\n",
    "        v, phi, M, o = get_sample(test)\n",
    "        \n",
    "        data_input = np.concatenate((v, phi, M))\n",
    "        i_data.append(data_input)\n",
    "        o_data.append(o)\n",
    "    return SimDataset(length, i_data, o_data)\n",
    "\n",
    "\n",
    "in_set = caddy_dataset(50000, False)\n",
    "out_set = caddy_dataset(1000, True)"
   ]
  },
  {
   "cell_type": "code",
   "execution_count": 61,
   "id": "8066b6fa-9307-42ad-a856-a2fea7d755db",
   "metadata": {},
   "outputs": [],
   "source": [
    "train_dataloader = DataLoader(in_set, batch_size=64, shuffle=True, drop_last=True)\n",
    "test_dataloader = DataLoader(out_set, batch_size=64, shuffle=False)"
   ]
  },
  {
   "cell_type": "code",
   "execution_count": 62,
   "id": "fd5094da-abae-419c-b31e-f1b591abe9d6",
   "metadata": {},
   "outputs": [],
   "source": [
    "class NeuralNetwork(nn.Module):\n",
    "    def __init__(self):\n",
    "        super(NeuralNetwork, self).__init__()\n",
    "        self.linear_relu_stack = nn.Sequential(\n",
    "            nn.Linear(input_length, 64),\n",
    "            nn.ReLU(),\n",
    "            nn.Linear(64, 64),\n",
    "            nn.ReLU(),\n",
    "            nn.Linear(64, 32),\n",
    "            nn.ReLU(),\n",
    "            nn.Linear(32, 1),\n",
    "            nn.Tanh()\n",
    "        )\n",
    "\n",
    "    def forward(self, x):\n",
    "        return self.linear_relu_stack(x)\n"
   ]
  },
  {
   "cell_type": "code",
   "execution_count": 63,
   "id": "ed06f463-bdfa-4602-9ad1-64e78401ad7c",
   "metadata": {},
   "outputs": [],
   "source": [
    "def train_loop(dataloader, model, loss_fn, optimizer, debug):\n",
    "    size = len(dataloader.dataset)\n",
    "    for X, y in dataloader:\n",
    "        # Compute prediction and loss\n",
    "        pred = model(X)\n",
    "        loss = loss_fn(pred, y)\n",
    "\n",
    "        # Backpropagation\n",
    "        optimizer.zero_grad()\n",
    "        loss.backward()\n",
    "        optimizer.step()\n",
    "    if debug:\n",
    "        loss = loss.item()*100\n",
    "        print(f\"Train loss: {loss}\")\n",
    "\n",
    "\n",
    "def test_loop(dataloader, model, loss_fn):\n",
    "    size = len(dataloader.dataset)\n",
    "    num_batches = len(dataloader)\n",
    "    test_loss = 0\n",
    "\n",
    "    with torch.no_grad():\n",
    "        for X, y in dataloader:\n",
    "            pred = model(X)\n",
    "            test_loss += loss_fn(pred, y).item()*100\n",
    "\n",
    "    test_loss /= num_batches\n",
    "    print(f\"Test  loss: {test_loss} \\n\")\n",
    "\n",
    "model = NeuralNetwork()\n",
    "loss_fn = nn.MSELoss()\n",
    "optimizer = torch.optim.Adam(model.parameters(), lr=1e-4)"
   ]
  },
  {
   "cell_type": "code",
   "execution_count": 64,
   "id": "0367b29f-d7da-40b8-a407-467fba0d8600",
   "metadata": {},
   "outputs": [
    {
     "name": "stdout",
     "output_type": "stream",
     "text": [
      "781\n",
      "16\n",
      "Epoch 0\n",
      "Train loss: 0.08660415187478065\n",
      "Test  loss: 0.07798843471391592 \n",
      "\n",
      "Epoch 10\n",
      "Train loss: 0.04204693832434714\n",
      "Test  loss: 0.04541871057881508 \n",
      "\n",
      "Epoch 20\n",
      "Train loss: 0.044699813588522375\n",
      "Test  loss: 0.038938504167163046 \n",
      "\n",
      "Epoch 30\n",
      "Train loss: 0.04728615749627352\n",
      "Test  loss: 0.041271049849456176 \n",
      "\n",
      "Epoch 40\n",
      "Train loss: 0.036915994132868946\n",
      "Test  loss: 0.0364138981240103 \n",
      "\n",
      "Epoch 50\n",
      "Train loss: 0.03305601712781936\n",
      "Test  loss: 0.03495080763968872 \n",
      "\n",
      "Epoch 60\n",
      "Train loss: 0.035326246870681643\n",
      "Test  loss: 0.03186653257216676 \n",
      "\n",
      "Epoch 70\n",
      "Train loss: 0.027979360311292112\n",
      "Test  loss: 0.03093403884122381 \n",
      "\n",
      "Epoch 80\n",
      "Train loss: 0.01969673903658986\n",
      "Test  loss: 0.02899755709222518 \n",
      "\n",
      "Epoch 90\n",
      "Train loss: 0.023519353999290615\n",
      "Test  loss: 0.03426112525630742 \n",
      "\n",
      "Epoch 100\n",
      "Train loss: 0.020395484170876443\n",
      "Test  loss: 0.031958697945810854 \n",
      "\n"
     ]
    }
   ],
   "source": [
    "epochs = 101\n",
    "print(len(train_dataloader))\n",
    "print(len(test_dataloader))\n",
    "for t in range(epochs):\n",
    "    if t%10 == 0:\n",
    "        print(f\"Epoch {t}\")\n",
    "    train_loop(train_dataloader, model, loss_fn, optimizer, t%10==0)\n",
    "    if t%10 == 0:\n",
    "        test_loop(test_dataloader, model, loss_fn)"
   ]
  },
  {
   "cell_type": "code",
   "execution_count": 84,
   "id": "468f89bf-a3b6-4152-8d01-dc5db89d65f6",
   "metadata": {},
   "outputs": [
    {
     "name": "stdout",
     "output_type": "stream",
     "text": [
      "4.499999942553927 initial angle\n",
      "[1.8]\n",
      "2.7382931711488823\n"
     ]
    }
   ],
   "source": [
    "random_sample = out_set[randrange(len(out_set))]\n",
    "print(random_sample[0][599]*maxAngle, \"initial angle\")\n",
    "print(random_sample[1]*maxAngle)\n",
    "\n",
    "torch_data_input = torch.from_numpy(random_sample[0])\n",
    "print(model(torch_data_input).item()*maxAngle)"
   ]
  },
  {
   "cell_type": "code",
   "execution_count": null,
   "id": "573a4da4-95f1-4f09-ae35-c09d5056f310",
   "metadata": {},
   "outputs": [],
   "source": []
  }
 ],
 "metadata": {
  "kernelspec": {
   "display_name": "Python 3",
   "language": "python",
   "name": "python3"
  },
  "language_info": {
   "codemirror_mode": {
    "name": "ipython",
    "version": 3
   },
   "file_extension": ".py",
   "mimetype": "text/x-python",
   "name": "python",
   "nbconvert_exporter": "python",
   "pygments_lexer": "ipython3",
   "version": "3.8.5"
  }
 },
 "nbformat": 4,
 "nbformat_minor": 5
}
