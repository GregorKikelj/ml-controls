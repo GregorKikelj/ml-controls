{
 "cells": [
  {
   "cell_type": "code",
   "execution_count": 1,
   "id": "c9e1dfd6-88da-44fc-a701-4e53b1f7f949",
   "metadata": {},
   "outputs": [],
   "source": [
    "%matplotlib inline\n",
    "import mpld3\n",
    "mpld3.enable_notebook()\n",
    "from matplotlib import pyplot as plt\n",
    "plt.rcParams['figure.figsize'] = [12, 8]\n",
    "plt.rcParams['figure.dpi'] = 100\n",
    "\n",
    "import numpy as np\n",
    "from random import random, uniform, randrange, triangular\n",
    "from tqdm import tqdm"
   ]
  },
  {
   "cell_type": "code",
   "execution_count": 2,
   "id": "ef1f4c11-c75b-4d36-acb9-ca97bac3bb0a",
   "metadata": {},
   "outputs": [],
   "source": [
    "#Pytorch imports\n",
    "import torch\n",
    "from torch import nn\n",
    "from torch.utils.data import Dataset, DataLoader"
   ]
  },
  {
   "cell_type": "code",
   "execution_count": 3,
   "id": "1973b163-403e-410d-8a5c-5e1ac2193cfe",
   "metadata": {},
   "outputs": [
    {
     "name": "stdout",
     "output_type": "stream",
     "text": [
      "387047\n",
      "16.049999237060547 35.887664794921875 1.0 [19.161849975585938, 8.428146362304688, 11.452590942382812] [0.0880889892578125, 0.8147430419921875, 0.1421051025390625]\n"
     ]
    }
   ],
   "source": [
    "import os\n",
    "files = os.listdir(\"dataset\")\n",
    "\n",
    "import csv\n",
    "\n",
    "class Route:\n",
    "    def __init__(self, phi, v, M, IMU_v, IMU_alpha):\n",
    "        self.phi = phi\n",
    "        self.v = v\n",
    "        self.M = M\n",
    "        self.IMU_v = IMU_v\n",
    "        self.IMU_alpha = IMU_alpha\n",
    "    def __len__(self):\n",
    "        return len(self.phi)\n",
    "    \n",
    "routes = []\n",
    "\n",
    "allRows = 0\n",
    "\n",
    "maxAngle = 0\n",
    "maxSpeed = 0\n",
    "maxTorque = 0\n",
    "\n",
    "maxVDot = [0]*3\n",
    "maxAlphaDot = [0]*3\n",
    "for file in files:\n",
    "    path = os.path.join(\"dataset\", file)\n",
    "    with open(path, newline='') as csvfile:\n",
    "        spamreader = csv.reader(csvfile, delimiter=' ')\n",
    "        phi = []\n",
    "        v = []\n",
    "        M = []\n",
    "        IMU_v = []\n",
    "        IMU_alpha = []\n",
    "        for row in spamreader:\n",
    "            phi.append(float(row[1]))\n",
    "            v.append(float(row[2]))\n",
    "            M.append(float(row[3]))\n",
    "            \n",
    "            vPacket = [float(row[i]) for i in range(4, 7)]\n",
    "            alphaPacket = [float(row[i]) for i in range(7, 10)]\n",
    "            IMU_v.append(vPacket)\n",
    "            IMU_alpha.append(alphaPacket)\n",
    "            \n",
    "            maxAngle = max(abs(float(row[1])), maxAngle)\n",
    "            maxSpeed = max(abs(float(row[2])), maxSpeed)\n",
    "            maxTorque = max(abs(float(row[3])), maxTorque)\n",
    "            \n",
    "            for i in range(3):\n",
    "                maxVDot[i] = max(abs(float(row[4+i])), maxVDot[i])\n",
    "                maxAlphaDot[i] = max(abs(float(row[7+i])), maxAlphaDot[i])\n",
    "        routes.append(Route(torch.tensor(phi), torch.tensor(v), torch.tensor(M), torch.tensor(IMU_v).permute(1,0), torch.tensor(IMU_alpha).permute(1,0)))\n",
    "        allRows += len(phi)\n",
    "\n",
    "\n",
    "print(allRows)\n",
    "print(maxAngle, maxSpeed, maxTorque, maxVDot, maxAlphaDot)"
   ]
  },
  {
   "cell_type": "code",
   "execution_count": 25,
   "id": "03755193-2baf-4854-837d-83d4918db8fa",
   "metadata": {},
   "outputs": [
    {
     "name": "stdout",
     "output_type": "stream",
     "text": [
      "NeuralNetwork(\n",
      "  (linear_relu_stack): Sequential(\n",
      "    (0): Linear(in_features=270, out_features=64, bias=True)\n",
      "    (1): ReLU()\n",
      "    (2): Linear(in_features=64, out_features=32, bias=True)\n",
      "    (3): ReLU()\n",
      "    (4): Linear(in_features=32, out_features=5, bias=True)\n",
      "    (5): Tanh()\n",
      "  )\n",
      ")\n"
     ]
    }
   ],
   "source": [
    "class NeuralNetwork(nn.Module):\n",
    "    def __init__(self):\n",
    "        super(NeuralNetwork, self).__init__()\n",
    "        self.linear_relu_stack = nn.Sequential(\n",
    "            nn.Linear(input_length, 64),\n",
    "            nn.ReLU(),\n",
    "            nn.Linear(64, 32),\n",
    "            nn.ReLU(),\n",
    "            nn.Linear(32, output_length),\n",
    "            nn.Tanh()\n",
    "        )\n",
    "\n",
    "        \n",
    "    def forward(self, x):\n",
    "        return self.linear_relu_stack(x)\n",
    "\n",
    "model = torch.load('model_s.pth')\n",
    "print(model)"
   ]
  },
  {
   "cell_type": "code",
   "execution_count": 46,
   "id": "55c3a0c3-7ba7-4b1f-8b38-00136c7365d7",
   "metadata": {},
   "outputs": [
    {
     "name": "stdout",
     "output_type": "stream",
     "text": [
      "4915\n"
     ]
    }
   ],
   "source": [
    "r = routes[0]\n",
    "r_phi = r.phi\n",
    "r_v = r.v\n",
    "r_M = r.M\n",
    "r_IMU_v = r.IMU_v\n",
    "r_IMU_alpha = r.IMU_alpha\n",
    "\n",
    "print(len(r))\n",
    "\n",
    "groups = [5, 15, 4, 20, 20]\n",
    "\n",
    "prev_data = 300\n",
    "fwd_data = [20, 40, 60, 80, 100]\n",
    "norm = (16.049999237060547, 35.887664794921875, 1.0, [19.161849975585938, 8.428146362304688, 11.452590942382812], [0.0880889892578125, 0.8147430419921875, 0.1421051025390625])\n",
    "\n",
    "##Defining steps from model_controls\n",
    "\n",
    "wb = np.load('/home/gregor/openpilot/model_s_keras_weights.npz', allow_pickle=True)\n",
    "w, b = wb['wb']\n",
    "\n",
    "def np_model(x):\n",
    "  x = np.array(x, dtype=np.float32)\n",
    "  l0 = np.dot(x, w[0]) + b[0]\n",
    "  l0 = np.maximum(0, l0)\n",
    "  l1 = np.dot(l0, w[1]) + b[1]\n",
    "  l1 = np.maximum(0, l1)\n",
    "  l2 = np.dot(l1, w[2]) + b[2]\n",
    "  l2 = np.tanh(l2)\n",
    "  return l2\n",
    "\n",
    "def get_model_input(phi, v, M, IMU_v, IMU_alpha, M_fut):\n",
    "  phi_out = phi.reshape(-1, groups[0]).mean(axis=1)/norm[0]\n",
    "  v_out = v.reshape(-1, groups[1]).mean(axis=1)/norm[1]\n",
    "  M_out_l = M.reshape(-1, groups[2]).mean(axis=1)/norm[2]\n",
    "  M_out_r = M_fut.reshape(-1, groups[2]).mean(axis=1)/norm[2]\n",
    "  M_out = np.concatenate([M_out_l, M_out_r])\n",
    "  IMU_v_out = [IMU_v[i].reshape(-1, groups[3]).mean(axis=1)/norm[3][i] for i in range(3)]\n",
    "  IMU_alpha_out = [IMU_alpha[i].reshape(-1, groups[4]).mean(axis=1)/norm[4][i] for i in range(3)]\n",
    "\n",
    "  return np.concatenate([phi_out, v_out, M_out, IMU_v_out[0], IMU_v_out[1], IMU_v_out[2], IMU_alpha_out[0], IMU_alpha_out[1], IMU_alpha_out[2]])\n",
    "\n",
    "class ModelControls:\n",
    "  def __init__(self):\n",
    "    \n",
    "    self.phi = np.zeros((prev_data,))\n",
    "    self.v = np.zeros((prev_data,))\n",
    "    self.M = np.zeros((prev_data,))\n",
    "    self.IMU_v = [np.zeros((prev_data,)) for _ in range(3)]\n",
    "    self.IMU_alpha = [np.zeros((prev_data,)) for _ in range(3)]\n",
    "\n",
    "    self.active = False #Ensure good init on change\n",
    "    self.outputTorque = 0 #TODO refactor this variable\n",
    "\n",
    "\n",
    "  def parse_logs(self, idx):\n",
    "    phi = r_phi[idx]\n",
    "    v = r_v[idx]\n",
    "    M = r_M[idx]\n",
    "    self.outputTorque = M\n",
    "    IMU_v = [r_IMU_v[i][idx] for i in range(3)]\n",
    "    IMU_alpha = [r_IMU_alpha[i][idx] for i in range(3)]\n",
    "    \n",
    "    # spravi phi, v, M v numPy array\n",
    "    self.phi = np.roll(self.phi, -1)\n",
    "    self.phi[-1]=phi\n",
    "    self.v = np.roll(self.v, -1)\n",
    "    self.v[-1]=v\n",
    "    self.M = np.roll(self.M, -1)\n",
    "    self.M[-1]=M\n",
    "    for i in range(3):\n",
    "      self.IMU_v[i] = np.roll(self.IMU_v[i], -1)\n",
    "      self.IMU_v[i][-1] = IMU_v[i]\n",
    "      self.IMU_alpha[i] = np.roll(self.IMU_alpha[i], -1)\n",
    "      self.IMU_alpha[i][-1] = IMU_alpha[i]\n",
    "    \n",
    "  def predict_angle(self):\n",
    "    #Comments for np/torch comparison\n",
    "    M_fut = np.ones((fwd_data[-1],))*self.M[-1]\n",
    "    model_input = get_model_input(self.phi, self.v, self.M, self.IMU_v, self.IMU_alpha, M_fut)\n",
    "#     model_input_torch = torch.tensor(model_input, dtype=torch.float32)\n",
    "    predicted_angle = np_model(model_input)\n",
    "#     predicted_angle2 = model(model_input_torch)\n",
    "    return predicted_angle\n",
    "#     return predicted_angle, predicted_angle2\n",
    "\n"
   ]
  },
  {
   "cell_type": "code",
   "execution_count": 185,
   "id": "388e8f3b-f9b6-4bc5-b066-4a68224f6d9d",
   "metadata": {},
   "outputs": [],
   "source": [
    "idx = prev_data\n",
    "model_cont = ModelControls()\n",
    "for i in range(idx, idx+300):\n",
    "    model_cont.parse_logs(i)\n",
    "idx+=300"
   ]
  },
  {
   "cell_type": "code",
   "execution_count": 420,
   "id": "123363c8-a482-44a0-b016-8bf89fab1cbf",
   "metadata": {},
   "outputs": [
    {
     "name": "stdout",
     "output_type": "stream",
     "text": [
      "0.30000001192092896\n"
     ]
    },
    {
     "data": {
      "text/plain": [
       "[<matplotlib.lines.Line2D at 0x7f3b7fc7e9a0>]"
      ]
     },
     "execution_count": 420,
     "metadata": {},
     "output_type": "execute_result"
    },
    {
     "data": {
      "image/png": "[encoded data removed]",
      "text/html": [
       "\n",
       "\n",
       "<style>\n",
       "\n",
       "</style>\n",
       "\n",
       "<div id=\"fig_el297601398935250650084037170187\"></div>\n",
       "<script>\n",
       "function mpld3_load_lib(url, callback){\n",
       "  var s = document.createElement('script');\n",
       "  s.src = url;\n",
       "  s.async = true;\n",
       "  s.onreadystatechange = s.onload = callback;\n",
       "  s.onerror = function(){console.warn(\"failed to load library \" + url);};\n",
       "  document.getElementsByTagName(\"head\")[0].appendChild(s);\n",
       "}\n",
       "\n",
       "if(typeof(mpld3) !== \"undefined\" && mpld3._mpld3IsLoaded){\n",
       "   // already loaded: just create the figure\n",
       "   !function(mpld3){\n",
       "       \n",
       "       mpld3.draw_figure(\"fig_el297601398935250650084037170187\", {\"width\": 1200.0, \"height\": 800.0, \"axes\": [{\"bbox\": [0.125, 0.5368181818181819, 0.775, 0.34318181818181814], \"xlim\": [-0.25, 5.25], \"ylim\": [-1.1324999988079072, 1.7824999749660493], \"xdomain\": [-0.25, 5.25], \"ydomain\": [-1.1324999988079072, 1.7824999749660493], \"xscale\": \"linear\", \"yscale\": \"linear\", \"axes\": [{\"position\": \"bottom\", \"nticks\": 8, \"tickvalues\": null, \"tickformat_formatter\": \"\", \"tickformat\": null, \"scale\": \"linear\", \"fontsize\": 10.0, \"grid\": {\"gridOn\": false}, \"visible\": true}, {\"position\": \"left\", \"nticks\": 8, \"tickvalues\": null, \"tickformat_formatter\": \"\", \"tickformat\": null, \"scale\": \"linear\", \"fontsize\": 10.0, \"grid\": {\"gridOn\": false}, \"visible\": true}], \"axesbg\": \"#FFFFFF\", \"axesbgalpha\": null, \"zoomable\": true, \"id\": \"el29760139893523675936\", \"lines\": [{\"data\": \"data01\", \"xindex\": 0, \"yindex\": 1, \"coordinates\": \"data\", \"id\": \"el29760139893523566704\", \"color\": \"#1F77B4\", \"linewidth\": 1.5, \"dasharray\": \"none\", \"alpha\": 1, \"zorder\": 2, \"drawstyle\": \"default\"}, {\"data\": \"data01\", \"xindex\": 0, \"yindex\": 2, \"coordinates\": \"data\", \"id\": \"el29760139893523567616\", \"color\": \"#FF7F0E\", \"linewidth\": 1.5, \"dasharray\": \"none\", \"alpha\": 1, \"zorder\": 2, \"drawstyle\": \"default\"}, {\"data\": \"data01\", \"xindex\": 0, \"yindex\": 3, \"coordinates\": \"data\", \"id\": \"el29760139893523568528\", \"color\": \"#2CA02C\", \"linewidth\": 1.5, \"dasharray\": \"none\", \"alpha\": 1, \"zorder\": 2, \"drawstyle\": \"default\"}, {\"data\": \"data01\", \"xindex\": 0, \"yindex\": 4, \"coordinates\": \"data\", \"id\": \"el29760139893523569440\", \"color\": \"#D62728\", \"linewidth\": 1.5, \"dasharray\": \"none\", \"alpha\": 1, \"zorder\": 2, \"drawstyle\": \"default\"}], \"paths\": [], \"markers\": [], \"texts\": [], \"collections\": [], \"images\": [], \"sharex\": [], \"sharey\": []}, {\"bbox\": [0.125, 0.1250000000000001, 0.775, 0.34318181818181814], \"xlim\": [-4.95, 103.95], \"ylim\": [-1.1, 1.1], \"xdomain\": [-4.95, 103.95], \"ydomain\": [-1.1, 1.1], \"xscale\": \"linear\", \"yscale\": \"linear\", \"axes\": [{\"position\": \"bottom\", \"nticks\": 8, \"tickvalues\": null, \"tickformat_formatter\": \"\", \"tickformat\": null, \"scale\": \"linear\", \"fontsize\": 10.0, \"grid\": {\"gridOn\": false}, \"visible\": true}, {\"position\": \"left\", \"nticks\": 11, \"tickvalues\": null, \"tickformat_formatter\": \"\", \"tickformat\": null, \"scale\": \"linear\", \"fontsize\": 10.0, \"grid\": {\"gridOn\": false}, \"visible\": true}], \"axesbg\": \"#FFFFFF\", \"axesbgalpha\": null, \"zoomable\": true, \"id\": \"el29760139893523677040\", \"lines\": [{\"data\": \"data02\", \"xindex\": 0, \"yindex\": 1, \"coordinates\": \"data\", \"id\": \"el29760139893523570352\", \"color\": \"#1F77B4\", \"linewidth\": 1.5, \"dasharray\": \"none\", \"alpha\": 1, \"zorder\": 2, \"drawstyle\": \"default\"}, {\"data\": \"data02\", \"xindex\": 0, \"yindex\": 2, \"coordinates\": \"data\", \"id\": \"el29760139893523604096\", \"color\": \"#FF7F0E\", \"linewidth\": 1.5, \"dasharray\": \"none\", \"alpha\": 1, \"zorder\": 2, \"drawstyle\": \"default\"}, {\"data\": \"data02\", \"xindex\": 0, \"yindex\": 3, \"coordinates\": \"data\", \"id\": \"el29760139893523605008\", \"color\": \"#2CA02C\", \"linewidth\": 1.5, \"dasharray\": \"none\", \"alpha\": 1, \"zorder\": 2, \"drawstyle\": \"default\"}, {\"data\": \"data02\", \"xindex\": 0, \"yindex\": 4, \"coordinates\": \"data\", \"id\": \"el29760139893523605920\", \"color\": \"#D62728\", \"linewidth\": 1.5, \"dasharray\": \"none\", \"alpha\": 1, \"zorder\": 2, \"drawstyle\": \"default\"}], \"paths\": [], \"markers\": [], \"texts\": [], \"collections\": [], \"images\": [], \"sharex\": [], \"sharey\": []}], \"data\": {\"data01\": [[0.0, 0.30000001192092896, 0.30000001192092896, 1.0, -1.0], [1.0, 0.44999998807907104, 0.43824392557144165, 1.0, -1.0], [2.0, 0.6000000238418579, 0.4475076198577881, 1.0, -1.0], [3.0, 0.6000000238418579, 0.5306515097618103, 1.0, -1.0], [4.0, 0.8999999761581421, 0.5410665273666382, 1.0, -1.0], [5.0, 1.649999976158142, 0.675938606262207, 1.0, -1.0]], \"data02\": [[0.0, 0.06885550171136856, 0.06885550171136856, 1.0, -1.0], [1.0, 0.06861164420843124, 0.06885550171136856, 1.0, -1.0], [2.0, 0.06833689659833908, 0.06885550171136856, 1.0, -1.0], [3.0, 0.10207505524158478, 0.06885550171136856, 1.0, -1.0], [4.0, 0.09890223294496536, 0.06885550171136856, 1.0, -1.0], [5.0, 0.09874728322029114, 0.06885550171136856, 1.0, -1.0], [6.0, 0.09859108924865723, 0.06885550171136856, 1.0, -1.0], [7.0, 0.09844783693552017, 0.06885550171136856, 1.0, -1.0], [8.0, 0.12556496262550354, 0.06885550171136856, 1.0, -1.0], [9.0, 0.1255338191986084, 0.06885550171136856, 1.0, -1.0], [10.0, 0.12182559072971344, 0.06885550171136856, 1.0, -1.0], [11.0, 0.1217731162905693, 0.06885550171136856, 1.0, -1.0], [12.0, 0.12172075361013412, 0.06885550171136856, 1.0, -1.0], [13.0, 0.1652553677558899, 0.06885550171136856, 1.0, -1.0], [14.0, 0.1596696674823761, 0.06885550171136856, 1.0, -1.0], [15.0, 0.15977680683135986, 0.06885550171136856, 1.0, -1.0], [16.0, 0.15988563001155853, 0.06885550171136856, 1.0, -1.0], [17.0, 0.15999557077884674, 0.06885550171136856, 1.0, -1.0], [18.0, 0.1601054072380066, 0.06885550171136856, 1.0, -1.0], [19.0, 0.2131378948688507, 0.06885550171136856, 1.0, -1.0], [20.0, 0.20829249918460846, 0.06885550171136856, 1.0, -1.0], [21.0, 0.20854534208774567, 0.06885550171136856, 1.0, -1.0], [22.0, 0.2088158130645752, 0.06885550171136856, 1.0, -1.0], [23.0, 0.2310716211795807, 0.06885550171136856, 1.0, -1.0], [24.0, 0.2264823615550995, 0.06885550171136856, 1.0, -1.0], [25.0, 0.22681297361850739, 0.06885550171136856, 1.0, -1.0], [26.0, 0.22713635861873627, 0.06885550171136856, 1.0, -1.0], [27.0, 0.22745414078235626, 0.06885550171136856, 1.0, -1.0], [28.0, 0.22777698934078217, 0.06885550171136856, 1.0, -1.0], [29.0, 0.300888329744339, 0.06885550171136856, 1.0, -1.0], [30.0, 0.2951355576515198, 0.06885550171136856, 1.0, -1.0], [31.0, 0.29574623703956604, 0.06885550171136856, 1.0, -1.0], [32.0, 0.29634496569633484, 0.06885550171136856, 1.0, -1.0], [33.0, 0.20153376460075378, 0.06885550171136856, 1.0, -1.0], [34.0, 0.19360095262527466, 0.06885550171136856, 1.0, -1.0], [35.0, 0.1937323361635208, 0.06885550171136856, 1.0, -1.0], [36.0, 0.19384229183197021, 0.06885550171136856, 1.0, -1.0], [37.0, 0.19395683705806732, 0.06885550171136856, 1.0, -1.0], [38.0, 0.18243901431560516, 0.06885550171136856, 1.0, -1.0], [39.0, 0.18248553574085236, 0.06885550171136856, 1.0, -1.0], [40.0, 0.17647621035575867, 0.06885550171136856, 1.0, -1.0], [41.0, 0.17650724947452545, 0.06885550171136856, 1.0, -1.0], [42.0, 0.1765296757221222, 0.06885550171136856, 1.0, -1.0], [43.0, 0.21654631197452545, 0.06885550171136856, 1.0, -1.0], [44.0, 0.20933543145656586, 0.06885550171136856, 1.0, -1.0], [45.0, 0.20947757363319397, 0.06885550171136856, 1.0, -1.0], [46.0, 0.20961925387382507, 0.06885550171136856, 1.0, -1.0], [47.0, 0.20977933704853058, 0.06885550171136856, 1.0, -1.0], [48.0, 0.2629649341106415, 0.06885550171136856, 1.0, -1.0], [49.0, 0.2633831799030304, 0.06885550171136856, 1.0, -1.0], [50.0, 0.25705036520957947, 0.06885550171136856, 1.0, -1.0], [51.0, 0.2573941648006439, 0.06885550171136856, 1.0, -1.0], [52.0, 0.2577148675918579, 0.06885550171136856, 1.0, -1.0], [53.0, 0.2580854892730713, 0.06885550171136856, 1.0, -1.0], [54.0, 0.2852114737033844, 0.06885550171136856, 1.0, -1.0], [55.0, 0.2777436673641205, 0.06885550171136856, 1.0, -1.0], [56.0, 0.27818620204925537, 0.06885550171136856, 1.0, -1.0], [57.0, 0.2786042392253876, 0.06885550171136856, 1.0, -1.0], [58.0, 0.27902328968048096, 0.06885550171136856, 1.0, -1.0], [59.0, 0.3616025447845459, 0.06885550171136856, 1.0, -1.0], [60.0, 0.3624475300312042, 0.06885550171136856, 1.0, -1.0], [61.0, 0.3632657527923584, 0.06885550171136856, 1.0, -1.0], [62.0, 0.3640533983707428, 0.06885550171136856, 1.0, -1.0], [63.0, 0.36480849981307983, 0.06885550171136856, 1.0, -1.0], [64.0, 0.4395664930343628, 0.06885550171136856, 1.0, -1.0], [65.0, 0.440652459859848, 0.06885550171136856, 1.0, -1.0], [66.0, 0.4418349266052246, 0.06885550171136856, 1.0, -1.0], [67.0, 0.4429773986339569, 0.06885550171136856, 1.0, -1.0], [68.0, 0.5567459464073181, 0.06885550171136856, 1.0, -1.0], [69.0, 0.5309330821037292, 0.06885550171136856, 1.0, -1.0], [70.0, 0.5274376273155212, 0.06885550171136856, 1.0, -1.0], [71.0, 0.5288118124008179, 0.06885550171136856, 1.0, -1.0], [72.0, 0.5303277373313904, 0.06885550171136856, 1.0, -1.0], [73.0, 0.5876896977424622, 0.06885550171136856, 1.0, -1.0], [74.0, 0.5868009924888611, 0.06885550171136856, 1.0, -1.0], [75.0, 0.5884338617324829, 0.06885550171136856, 1.0, -1.0], [76.0, 0.5900416374206543, 0.06885550171136856, 1.0, -1.0], [77.0, 0.5642828345298767, 0.06885550171136856, 1.0, -1.0], [78.0, 0.5657870769500732, 0.06885550171136856, 1.0, -1.0], [79.0, 0.4930618107318878, 0.06885550171136856, 1.0, -1.0], [80.0, 0.4942837357521057, 0.06885550171136856, 1.0, -1.0], [81.0, 0.4920598566532135, 0.06885550171136856, 1.0, -1.0], [82.0, 0.49317052960395813, 0.06885550171136856, 1.0, -1.0], [83.0, 0.4668690264225006, 0.06885550171136856, 1.0, -1.0], [84.0, 0.541846752166748, 0.06885550171136856, 1.0, -1.0], [85.0, 0.5432605743408203, 0.06885550171136856, 1.0, -1.0], [86.0, 0.5446682572364807, 0.06885550171136856, 1.0, -1.0], [87.0, 0.5459388494491577, 0.06885550171136856, 1.0, -1.0], [88.0, 0.560632586479187, 0.06885550171136856, 1.0, -1.0], [89.0, 0.5601029992103577, 0.06885550171136856, 1.0, -1.0], [90.0, 0.5614527463912964, 0.06885550171136856, 1.0, -1.0], [91.0, 0.562917947769165, 0.06885550171136856, 1.0, -1.0], [92.0, 0.5369043350219727, 0.06885550171136856, 1.0, -1.0], [93.0, 0.5865117311477661, 0.06885550171136856, 1.0, -1.0], [94.0, 0.5863940119743347, 0.06885550171136856, 1.0, -1.0], [95.0, 0.587714433670044, 0.06885550171136856, 1.0, -1.0], [96.0, 0.5616844892501831, 0.06885550171136856, 1.0, -1.0], [97.0, 0.5629923343658447, 0.06885550171136856, 1.0, -1.0], [98.0, 0.633556604385376, 0.06885550171136856, 1.0, -1.0], [99.0, 0.6056213974952698, 0.06885550171136856, 1.0, -1.0]]}, \"id\": \"el29760139893525065008\", \"plugins\": [{\"type\": \"reset\"}, {\"type\": \"zoom\", \"button\": true, \"enabled\": false}, {\"type\": \"boxzoom\", \"button\": true, \"enabled\": false}]});\n",
       "   }(mpld3);\n",
       "}else if(typeof define === \"function\" && define.amd){\n",
       "   // require.js is available: use it to load d3/mpld3\n",
       "   require.config({paths: {d3: \"https://d3js.org/d3.v5\"}});\n",
       "   require([\"d3\"], function(d3){\n",
       "      window.d3 = d3;\n",
       "      mpld3_load_lib(\"https://mpld3.github.io/js/mpld3.v0.5.5.js\", function(){\n",
       "         \n",
       "         mpld3.draw_figure(\"fig_el297601398935250650084037170187\", {\"width\": 1200.0, \"height\": 800.0, \"axes\": [{\"bbox\": [0.125, 0.5368181818181819, 0.775, 0.34318181818181814], \"xlim\": [-0.25, 5.25], \"ylim\": [-1.1324999988079072, 1.7824999749660493], \"xdomain\": [-0.25, 5.25], \"ydomain\": [-1.1324999988079072, 1.7824999749660493], \"xscale\": \"linear\", \"yscale\": \"linear\", \"axes\": [{\"position\": \"bottom\", \"nticks\": 8, \"tickvalues\": null, \"tickformat_formatter\": \"\", \"tickformat\": null, \"scale\": \"linear\", \"fontsize\": 10.0, \"grid\": {\"gridOn\": false}, \"visible\": true}, {\"position\": \"left\", \"nticks\": 8, \"tickvalues\": null, \"tickformat_formatter\": \"\", \"tickformat\": null, \"scale\": \"linear\", \"fontsize\": 10.0, \"grid\": {\"gridOn\": false}, \"visible\": true}], \"axesbg\": \"#FFFFFF\", \"axesbgalpha\": null, \"zoomable\": true, \"id\": \"el29760139893523675936\", \"lines\": [{\"data\": \"data01\", \"xindex\": 0, \"yindex\": 1, \"coordinates\": \"data\", \"id\": \"el29760139893523566704\", \"color\": \"#1F77B4\", \"linewidth\": 1.5, \"dasharray\": \"none\", \"alpha\": 1, \"zorder\": 2, \"drawstyle\": \"default\"}, {\"data\": \"data01\", \"xindex\": 0, \"yindex\": 2, \"coordinates\": \"data\", \"id\": \"el29760139893523567616\", \"color\": \"#FF7F0E\", \"linewidth\": 1.5, \"dasharray\": \"none\", \"alpha\": 1, \"zorder\": 2, \"drawstyle\": \"default\"}, {\"data\": \"data01\", \"xindex\": 0, \"yindex\": 3, \"coordinates\": \"data\", \"id\": \"el29760139893523568528\", \"color\": \"#2CA02C\", \"linewidth\": 1.5, \"dasharray\": \"none\", \"alpha\": 1, \"zorder\": 2, \"drawstyle\": \"default\"}, {\"data\": \"data01\", \"xindex\": 0, \"yindex\": 4, \"coordinates\": \"data\", \"id\": \"el29760139893523569440\", \"color\": \"#D62728\", \"linewidth\": 1.5, \"dasharray\": \"none\", \"alpha\": 1, \"zorder\": 2, \"drawstyle\": \"default\"}], \"paths\": [], \"markers\": [], \"texts\": [], \"collections\": [], \"images\": [], \"sharex\": [], \"sharey\": []}, {\"bbox\": [0.125, 0.1250000000000001, 0.775, 0.34318181818181814], \"xlim\": [-4.95, 103.95], \"ylim\": [-1.1, 1.1], \"xdomain\": [-4.95, 103.95], \"ydomain\": [-1.1, 1.1], \"xscale\": \"linear\", \"yscale\": \"linear\", \"axes\": [{\"position\": \"bottom\", \"nticks\": 8, \"tickvalues\": null, \"tickformat_formatter\": \"\", \"tickformat\": null, \"scale\": \"linear\", \"fontsize\": 10.0, \"grid\": {\"gridOn\": false}, \"visible\": true}, {\"position\": \"left\", \"nticks\": 11, \"tickvalues\": null, \"tickformat_formatter\": \"\", \"tickformat\": null, \"scale\": \"linear\", \"fontsize\": 10.0, \"grid\": {\"gridOn\": false}, \"visible\": true}], \"axesbg\": \"#FFFFFF\", \"axesbgalpha\": null, \"zoomable\": true, \"id\": \"el29760139893523677040\", \"lines\": [{\"data\": \"data02\", \"xindex\": 0, \"yindex\": 1, \"coordinates\": \"data\", \"id\": \"el29760139893523570352\", \"color\": \"#1F77B4\", \"linewidth\": 1.5, \"dasharray\": \"none\", \"alpha\": 1, \"zorder\": 2, \"drawstyle\": \"default\"}, {\"data\": \"data02\", \"xindex\": 0, \"yindex\": 2, \"coordinates\": \"data\", \"id\": \"el29760139893523604096\", \"color\": \"#FF7F0E\", \"linewidth\": 1.5, \"dasharray\": \"none\", \"alpha\": 1, \"zorder\": 2, \"drawstyle\": \"default\"}, {\"data\": \"data02\", \"xindex\": 0, \"yindex\": 3, \"coordinates\": \"data\", \"id\": \"el29760139893523605008\", \"color\": \"#2CA02C\", \"linewidth\": 1.5, \"dasharray\": \"none\", \"alpha\": 1, \"zorder\": 2, \"drawstyle\": \"default\"}, {\"data\": \"data02\", \"xindex\": 0, \"yindex\": 4, \"coordinates\": \"data\", \"id\": \"el29760139893523605920\", \"color\": \"#D62728\", \"linewidth\": 1.5, \"dasharray\": \"none\", \"alpha\": 1, \"zorder\": 2, \"drawstyle\": \"default\"}], \"paths\": [], \"markers\": [], \"texts\": [], \"collections\": [], \"images\": [], \"sharex\": [], \"sharey\": []}], \"data\": {\"data01\": [[0.0, 0.30000001192092896, 0.30000001192092896, 1.0, -1.0], [1.0, 0.44999998807907104, 0.43824392557144165, 1.0, -1.0], [2.0, 0.6000000238418579, 0.4475076198577881, 1.0, -1.0], [3.0, 0.6000000238418579, 0.5306515097618103, 1.0, -1.0], [4.0, 0.8999999761581421, 0.5410665273666382, 1.0, -1.0], [5.0, 1.649999976158142, 0.675938606262207, 1.0, -1.0]], \"data02\": [[0.0, 0.06885550171136856, 0.06885550171136856, 1.0, -1.0], [1.0, 0.06861164420843124, 0.06885550171136856, 1.0, -1.0], [2.0, 0.06833689659833908, 0.06885550171136856, 1.0, -1.0], [3.0, 0.10207505524158478, 0.06885550171136856, 1.0, -1.0], [4.0, 0.09890223294496536, 0.06885550171136856, 1.0, -1.0], [5.0, 0.09874728322029114, 0.06885550171136856, 1.0, -1.0], [6.0, 0.09859108924865723, 0.06885550171136856, 1.0, -1.0], [7.0, 0.09844783693552017, 0.06885550171136856, 1.0, -1.0], [8.0, 0.12556496262550354, 0.06885550171136856, 1.0, -1.0], [9.0, 0.1255338191986084, 0.06885550171136856, 1.0, -1.0], [10.0, 0.12182559072971344, 0.06885550171136856, 1.0, -1.0], [11.0, 0.1217731162905693, 0.06885550171136856, 1.0, -1.0], [12.0, 0.12172075361013412, 0.06885550171136856, 1.0, -1.0], [13.0, 0.1652553677558899, 0.06885550171136856, 1.0, -1.0], [14.0, 0.1596696674823761, 0.06885550171136856, 1.0, -1.0], [15.0, 0.15977680683135986, 0.06885550171136856, 1.0, -1.0], [16.0, 0.15988563001155853, 0.06885550171136856, 1.0, -1.0], [17.0, 0.15999557077884674, 0.06885550171136856, 1.0, -1.0], [18.0, 0.1601054072380066, 0.06885550171136856, 1.0, -1.0], [19.0, 0.2131378948688507, 0.06885550171136856, 1.0, -1.0], [20.0, 0.20829249918460846, 0.06885550171136856, 1.0, -1.0], [21.0, 0.20854534208774567, 0.06885550171136856, 1.0, -1.0], [22.0, 0.2088158130645752, 0.06885550171136856, 1.0, -1.0], [23.0, 0.2310716211795807, 0.06885550171136856, 1.0, -1.0], [24.0, 0.2264823615550995, 0.06885550171136856, 1.0, -1.0], [25.0, 0.22681297361850739, 0.06885550171136856, 1.0, -1.0], [26.0, 0.22713635861873627, 0.06885550171136856, 1.0, -1.0], [27.0, 0.22745414078235626, 0.06885550171136856, 1.0, -1.0], [28.0, 0.22777698934078217, 0.06885550171136856, 1.0, -1.0], [29.0, 0.300888329744339, 0.06885550171136856, 1.0, -1.0], [30.0, 0.2951355576515198, 0.06885550171136856, 1.0, -1.0], [31.0, 0.29574623703956604, 0.06885550171136856, 1.0, -1.0], [32.0, 0.29634496569633484, 0.06885550171136856, 1.0, -1.0], [33.0, 0.20153376460075378, 0.06885550171136856, 1.0, -1.0], [34.0, 0.19360095262527466, 0.06885550171136856, 1.0, -1.0], [35.0, 0.1937323361635208, 0.06885550171136856, 1.0, -1.0], [36.0, 0.19384229183197021, 0.06885550171136856, 1.0, -1.0], [37.0, 0.19395683705806732, 0.06885550171136856, 1.0, -1.0], [38.0, 0.18243901431560516, 0.06885550171136856, 1.0, -1.0], [39.0, 0.18248553574085236, 0.06885550171136856, 1.0, -1.0], [40.0, 0.17647621035575867, 0.06885550171136856, 1.0, -1.0], [41.0, 0.17650724947452545, 0.06885550171136856, 1.0, -1.0], [42.0, 0.1765296757221222, 0.06885550171136856, 1.0, -1.0], [43.0, 0.21654631197452545, 0.06885550171136856, 1.0, -1.0], [44.0, 0.20933543145656586, 0.06885550171136856, 1.0, -1.0], [45.0, 0.20947757363319397, 0.06885550171136856, 1.0, -1.0], [46.0, 0.20961925387382507, 0.06885550171136856, 1.0, -1.0], [47.0, 0.20977933704853058, 0.06885550171136856, 1.0, -1.0], [48.0, 0.2629649341106415, 0.06885550171136856, 1.0, -1.0], [49.0, 0.2633831799030304, 0.06885550171136856, 1.0, -1.0], [50.0, 0.25705036520957947, 0.06885550171136856, 1.0, -1.0], [51.0, 0.2573941648006439, 0.06885550171136856, 1.0, -1.0], [52.0, 0.2577148675918579, 0.06885550171136856, 1.0, -1.0], [53.0, 0.2580854892730713, 0.06885550171136856, 1.0, -1.0], [54.0, 0.2852114737033844, 0.06885550171136856, 1.0, -1.0], [55.0, 0.2777436673641205, 0.06885550171136856, 1.0, -1.0], [56.0, 0.27818620204925537, 0.06885550171136856, 1.0, -1.0], [57.0, 0.2786042392253876, 0.06885550171136856, 1.0, -1.0], [58.0, 0.27902328968048096, 0.06885550171136856, 1.0, -1.0], [59.0, 0.3616025447845459, 0.06885550171136856, 1.0, -1.0], [60.0, 0.3624475300312042, 0.06885550171136856, 1.0, -1.0], [61.0, 0.3632657527923584, 0.06885550171136856, 1.0, -1.0], [62.0, 0.3640533983707428, 0.06885550171136856, 1.0, -1.0], [63.0, 0.36480849981307983, 0.06885550171136856, 1.0, -1.0], [64.0, 0.4395664930343628, 0.06885550171136856, 1.0, -1.0], [65.0, 0.440652459859848, 0.06885550171136856, 1.0, -1.0], [66.0, 0.4418349266052246, 0.06885550171136856, 1.0, -1.0], [67.0, 0.4429773986339569, 0.06885550171136856, 1.0, -1.0], [68.0, 0.5567459464073181, 0.06885550171136856, 1.0, -1.0], [69.0, 0.5309330821037292, 0.06885550171136856, 1.0, -1.0], [70.0, 0.5274376273155212, 0.06885550171136856, 1.0, -1.0], [71.0, 0.5288118124008179, 0.06885550171136856, 1.0, -1.0], [72.0, 0.5303277373313904, 0.06885550171136856, 1.0, -1.0], [73.0, 0.5876896977424622, 0.06885550171136856, 1.0, -1.0], [74.0, 0.5868009924888611, 0.06885550171136856, 1.0, -1.0], [75.0, 0.5884338617324829, 0.06885550171136856, 1.0, -1.0], [76.0, 0.5900416374206543, 0.06885550171136856, 1.0, -1.0], [77.0, 0.5642828345298767, 0.06885550171136856, 1.0, -1.0], [78.0, 0.5657870769500732, 0.06885550171136856, 1.0, -1.0], [79.0, 0.4930618107318878, 0.06885550171136856, 1.0, -1.0], [80.0, 0.4942837357521057, 0.06885550171136856, 1.0, -1.0], [81.0, 0.4920598566532135, 0.06885550171136856, 1.0, -1.0], [82.0, 0.49317052960395813, 0.06885550171136856, 1.0, -1.0], [83.0, 0.4668690264225006, 0.06885550171136856, 1.0, -1.0], [84.0, 0.541846752166748, 0.06885550171136856, 1.0, -1.0], [85.0, 0.5432605743408203, 0.06885550171136856, 1.0, -1.0], [86.0, 0.5446682572364807, 0.06885550171136856, 1.0, -1.0], [87.0, 0.5459388494491577, 0.06885550171136856, 1.0, -1.0], [88.0, 0.560632586479187, 0.06885550171136856, 1.0, -1.0], [89.0, 0.5601029992103577, 0.06885550171136856, 1.0, -1.0], [90.0, 0.5614527463912964, 0.06885550171136856, 1.0, -1.0], [91.0, 0.562917947769165, 0.06885550171136856, 1.0, -1.0], [92.0, 0.5369043350219727, 0.06885550171136856, 1.0, -1.0], [93.0, 0.5865117311477661, 0.06885550171136856, 1.0, -1.0], [94.0, 0.5863940119743347, 0.06885550171136856, 1.0, -1.0], [95.0, 0.587714433670044, 0.06885550171136856, 1.0, -1.0], [96.0, 0.5616844892501831, 0.06885550171136856, 1.0, -1.0], [97.0, 0.5629923343658447, 0.06885550171136856, 1.0, -1.0], [98.0, 0.633556604385376, 0.06885550171136856, 1.0, -1.0], [99.0, 0.6056213974952698, 0.06885550171136856, 1.0, -1.0]]}, \"id\": \"el29760139893525065008\", \"plugins\": [{\"type\": \"reset\"}, {\"type\": \"zoom\", \"button\": true, \"enabled\": false}, {\"type\": \"boxzoom\", \"button\": true, \"enabled\": false}]});\n",
       "      });\n",
       "    });\n",
       "}else{\n",
       "    // require.js not available: dynamically load d3 & mpld3\n",
       "    mpld3_load_lib(\"https://d3js.org/d3.v5.js\", function(){\n",
       "         mpld3_load_lib(\"https://mpld3.github.io/js/mpld3.v0.5.5.js\", function(){\n",
       "                 \n",
       "                 mpld3.draw_figure(\"fig_el297601398935250650084037170187\", {\"width\": 1200.0, \"height\": 800.0, \"axes\": [{\"bbox\": [0.125, 0.5368181818181819, 0.775, 0.34318181818181814], \"xlim\": [-0.25, 5.25], \"ylim\": [-1.1324999988079072, 1.7824999749660493], \"xdomain\": [-0.25, 5.25], \"ydomain\": [-1.1324999988079072, 1.7824999749660493], \"xscale\": \"linear\", \"yscale\": \"linear\", \"axes\": [{\"position\": \"bottom\", \"nticks\": 8, \"tickvalues\": null, \"tickformat_formatter\": \"\", \"tickformat\": null, \"scale\": \"linear\", \"fontsize\": 10.0, \"grid\": {\"gridOn\": false}, \"visible\": true}, {\"position\": \"left\", \"nticks\": 8, \"tickvalues\": null, \"tickformat_formatter\": \"\", \"tickformat\": null, \"scale\": \"linear\", \"fontsize\": 10.0, \"grid\": {\"gridOn\": false}, \"visible\": true}], \"axesbg\": \"#FFFFFF\", \"axesbgalpha\": null, \"zoomable\": true, \"id\": \"el29760139893523675936\", \"lines\": [{\"data\": \"data01\", \"xindex\": 0, \"yindex\": 1, \"coordinates\": \"data\", \"id\": \"el29760139893523566704\", \"color\": \"#1F77B4\", \"linewidth\": 1.5, \"dasharray\": \"none\", \"alpha\": 1, \"zorder\": 2, \"drawstyle\": \"default\"}, {\"data\": \"data01\", \"xindex\": 0, \"yindex\": 2, \"coordinates\": \"data\", \"id\": \"el29760139893523567616\", \"color\": \"#FF7F0E\", \"linewidth\": 1.5, \"dasharray\": \"none\", \"alpha\": 1, \"zorder\": 2, \"drawstyle\": \"default\"}, {\"data\": \"data01\", \"xindex\": 0, \"yindex\": 3, \"coordinates\": \"data\", \"id\": \"el29760139893523568528\", \"color\": \"#2CA02C\", \"linewidth\": 1.5, \"dasharray\": \"none\", \"alpha\": 1, \"zorder\": 2, \"drawstyle\": \"default\"}, {\"data\": \"data01\", \"xindex\": 0, \"yindex\": 4, \"coordinates\": \"data\", \"id\": \"el29760139893523569440\", \"color\": \"#D62728\", \"linewidth\": 1.5, \"dasharray\": \"none\", \"alpha\": 1, \"zorder\": 2, \"drawstyle\": \"default\"}], \"paths\": [], \"markers\": [], \"texts\": [], \"collections\": [], \"images\": [], \"sharex\": [], \"sharey\": []}, {\"bbox\": [0.125, 0.1250000000000001, 0.775, 0.34318181818181814], \"xlim\": [-4.95, 103.95], \"ylim\": [-1.1, 1.1], \"xdomain\": [-4.95, 103.95], \"ydomain\": [-1.1, 1.1], \"xscale\": \"linear\", \"yscale\": \"linear\", \"axes\": [{\"position\": \"bottom\", \"nticks\": 8, \"tickvalues\": null, \"tickformat_formatter\": \"\", \"tickformat\": null, \"scale\": \"linear\", \"fontsize\": 10.0, \"grid\": {\"gridOn\": false}, \"visible\": true}, {\"position\": \"left\", \"nticks\": 11, \"tickvalues\": null, \"tickformat_formatter\": \"\", \"tickformat\": null, \"scale\": \"linear\", \"fontsize\": 10.0, \"grid\": {\"gridOn\": false}, \"visible\": true}], \"axesbg\": \"#FFFFFF\", \"axesbgalpha\": null, \"zoomable\": true, \"id\": \"el29760139893523677040\", \"lines\": [{\"data\": \"data02\", \"xindex\": 0, \"yindex\": 1, \"coordinates\": \"data\", \"id\": \"el29760139893523570352\", \"color\": \"#1F77B4\", \"linewidth\": 1.5, \"dasharray\": \"none\", \"alpha\": 1, \"zorder\": 2, \"drawstyle\": \"default\"}, {\"data\": \"data02\", \"xindex\": 0, \"yindex\": 2, \"coordinates\": \"data\", \"id\": \"el29760139893523604096\", \"color\": \"#FF7F0E\", \"linewidth\": 1.5, \"dasharray\": \"none\", \"alpha\": 1, \"zorder\": 2, \"drawstyle\": \"default\"}, {\"data\": \"data02\", \"xindex\": 0, \"yindex\": 3, \"coordinates\": \"data\", \"id\": \"el29760139893523605008\", \"color\": \"#2CA02C\", \"linewidth\": 1.5, \"dasharray\": \"none\", \"alpha\": 1, \"zorder\": 2, \"drawstyle\": \"default\"}, {\"data\": \"data02\", \"xindex\": 0, \"yindex\": 4, \"coordinates\": \"data\", \"id\": \"el29760139893523605920\", \"color\": \"#D62728\", \"linewidth\": 1.5, \"dasharray\": \"none\", \"alpha\": 1, \"zorder\": 2, \"drawstyle\": \"default\"}], \"paths\": [], \"markers\": [], \"texts\": [], \"collections\": [], \"images\": [], \"sharex\": [], \"sharey\": []}], \"data\": {\"data01\": [[0.0, 0.30000001192092896, 0.30000001192092896, 1.0, -1.0], [1.0, 0.44999998807907104, 0.43824392557144165, 1.0, -1.0], [2.0, 0.6000000238418579, 0.4475076198577881, 1.0, -1.0], [3.0, 0.6000000238418579, 0.5306515097618103, 1.0, -1.0], [4.0, 0.8999999761581421, 0.5410665273666382, 1.0, -1.0], [5.0, 1.649999976158142, 0.675938606262207, 1.0, -1.0]], \"data02\": [[0.0, 0.06885550171136856, 0.06885550171136856, 1.0, -1.0], [1.0, 0.06861164420843124, 0.06885550171136856, 1.0, -1.0], [2.0, 0.06833689659833908, 0.06885550171136856, 1.0, -1.0], [3.0, 0.10207505524158478, 0.06885550171136856, 1.0, -1.0], [4.0, 0.09890223294496536, 0.06885550171136856, 1.0, -1.0], [5.0, 0.09874728322029114, 0.06885550171136856, 1.0, -1.0], [6.0, 0.09859108924865723, 0.06885550171136856, 1.0, -1.0], [7.0, 0.09844783693552017, 0.06885550171136856, 1.0, -1.0], [8.0, 0.12556496262550354, 0.06885550171136856, 1.0, -1.0], [9.0, 0.1255338191986084, 0.06885550171136856, 1.0, -1.0], [10.0, 0.12182559072971344, 0.06885550171136856, 1.0, -1.0], [11.0, 0.1217731162905693, 0.06885550171136856, 1.0, -1.0], [12.0, 0.12172075361013412, 0.06885550171136856, 1.0, -1.0], [13.0, 0.1652553677558899, 0.06885550171136856, 1.0, -1.0], [14.0, 0.1596696674823761, 0.06885550171136856, 1.0, -1.0], [15.0, 0.15977680683135986, 0.06885550171136856, 1.0, -1.0], [16.0, 0.15988563001155853, 0.06885550171136856, 1.0, -1.0], [17.0, 0.15999557077884674, 0.06885550171136856, 1.0, -1.0], [18.0, 0.1601054072380066, 0.06885550171136856, 1.0, -1.0], [19.0, 0.2131378948688507, 0.06885550171136856, 1.0, -1.0], [20.0, 0.20829249918460846, 0.06885550171136856, 1.0, -1.0], [21.0, 0.20854534208774567, 0.06885550171136856, 1.0, -1.0], [22.0, 0.2088158130645752, 0.06885550171136856, 1.0, -1.0], [23.0, 0.2310716211795807, 0.06885550171136856, 1.0, -1.0], [24.0, 0.2264823615550995, 0.06885550171136856, 1.0, -1.0], [25.0, 0.22681297361850739, 0.06885550171136856, 1.0, -1.0], [26.0, 0.22713635861873627, 0.06885550171136856, 1.0, -1.0], [27.0, 0.22745414078235626, 0.06885550171136856, 1.0, -1.0], [28.0, 0.22777698934078217, 0.06885550171136856, 1.0, -1.0], [29.0, 0.300888329744339, 0.06885550171136856, 1.0, -1.0], [30.0, 0.2951355576515198, 0.06885550171136856, 1.0, -1.0], [31.0, 0.29574623703956604, 0.06885550171136856, 1.0, -1.0], [32.0, 0.29634496569633484, 0.06885550171136856, 1.0, -1.0], [33.0, 0.20153376460075378, 0.06885550171136856, 1.0, -1.0], [34.0, 0.19360095262527466, 0.06885550171136856, 1.0, -1.0], [35.0, 0.1937323361635208, 0.06885550171136856, 1.0, -1.0], [36.0, 0.19384229183197021, 0.06885550171136856, 1.0, -1.0], [37.0, 0.19395683705806732, 0.06885550171136856, 1.0, -1.0], [38.0, 0.18243901431560516, 0.06885550171136856, 1.0, -1.0], [39.0, 0.18248553574085236, 0.06885550171136856, 1.0, -1.0], [40.0, 0.17647621035575867, 0.06885550171136856, 1.0, -1.0], [41.0, 0.17650724947452545, 0.06885550171136856, 1.0, -1.0], [42.0, 0.1765296757221222, 0.06885550171136856, 1.0, -1.0], [43.0, 0.21654631197452545, 0.06885550171136856, 1.0, -1.0], [44.0, 0.20933543145656586, 0.06885550171136856, 1.0, -1.0], [45.0, 0.20947757363319397, 0.06885550171136856, 1.0, -1.0], [46.0, 0.20961925387382507, 0.06885550171136856, 1.0, -1.0], [47.0, 0.20977933704853058, 0.06885550171136856, 1.0, -1.0], [48.0, 0.2629649341106415, 0.06885550171136856, 1.0, -1.0], [49.0, 0.2633831799030304, 0.06885550171136856, 1.0, -1.0], [50.0, 0.25705036520957947, 0.06885550171136856, 1.0, -1.0], [51.0, 0.2573941648006439, 0.06885550171136856, 1.0, -1.0], [52.0, 0.2577148675918579, 0.06885550171136856, 1.0, -1.0], [53.0, 0.2580854892730713, 0.06885550171136856, 1.0, -1.0], [54.0, 0.2852114737033844, 0.06885550171136856, 1.0, -1.0], [55.0, 0.2777436673641205, 0.06885550171136856, 1.0, -1.0], [56.0, 0.27818620204925537, 0.06885550171136856, 1.0, -1.0], [57.0, 0.2786042392253876, 0.06885550171136856, 1.0, -1.0], [58.0, 0.27902328968048096, 0.06885550171136856, 1.0, -1.0], [59.0, 0.3616025447845459, 0.06885550171136856, 1.0, -1.0], [60.0, 0.3624475300312042, 0.06885550171136856, 1.0, -1.0], [61.0, 0.3632657527923584, 0.06885550171136856, 1.0, -1.0], [62.0, 0.3640533983707428, 0.06885550171136856, 1.0, -1.0], [63.0, 0.36480849981307983, 0.06885550171136856, 1.0, -1.0], [64.0, 0.4395664930343628, 0.06885550171136856, 1.0, -1.0], [65.0, 0.440652459859848, 0.06885550171136856, 1.0, -1.0], [66.0, 0.4418349266052246, 0.06885550171136856, 1.0, -1.0], [67.0, 0.4429773986339569, 0.06885550171136856, 1.0, -1.0], [68.0, 0.5567459464073181, 0.06885550171136856, 1.0, -1.0], [69.0, 0.5309330821037292, 0.06885550171136856, 1.0, -1.0], [70.0, 0.5274376273155212, 0.06885550171136856, 1.0, -1.0], [71.0, 0.5288118124008179, 0.06885550171136856, 1.0, -1.0], [72.0, 0.5303277373313904, 0.06885550171136856, 1.0, -1.0], [73.0, 0.5876896977424622, 0.06885550171136856, 1.0, -1.0], [74.0, 0.5868009924888611, 0.06885550171136856, 1.0, -1.0], [75.0, 0.5884338617324829, 0.06885550171136856, 1.0, -1.0], [76.0, 0.5900416374206543, 0.06885550171136856, 1.0, -1.0], [77.0, 0.5642828345298767, 0.06885550171136856, 1.0, -1.0], [78.0, 0.5657870769500732, 0.06885550171136856, 1.0, -1.0], [79.0, 0.4930618107318878, 0.06885550171136856, 1.0, -1.0], [80.0, 0.4942837357521057, 0.06885550171136856, 1.0, -1.0], [81.0, 0.4920598566532135, 0.06885550171136856, 1.0, -1.0], [82.0, 0.49317052960395813, 0.06885550171136856, 1.0, -1.0], [83.0, 0.4668690264225006, 0.06885550171136856, 1.0, -1.0], [84.0, 0.541846752166748, 0.06885550171136856, 1.0, -1.0], [85.0, 0.5432605743408203, 0.06885550171136856, 1.0, -1.0], [86.0, 0.5446682572364807, 0.06885550171136856, 1.0, -1.0], [87.0, 0.5459388494491577, 0.06885550171136856, 1.0, -1.0], [88.0, 0.560632586479187, 0.06885550171136856, 1.0, -1.0], [89.0, 0.5601029992103577, 0.06885550171136856, 1.0, -1.0], [90.0, 0.5614527463912964, 0.06885550171136856, 1.0, -1.0], [91.0, 0.562917947769165, 0.06885550171136856, 1.0, -1.0], [92.0, 0.5369043350219727, 0.06885550171136856, 1.0, -1.0], [93.0, 0.5865117311477661, 0.06885550171136856, 1.0, -1.0], [94.0, 0.5863940119743347, 0.06885550171136856, 1.0, -1.0], [95.0, 0.587714433670044, 0.06885550171136856, 1.0, -1.0], [96.0, 0.5616844892501831, 0.06885550171136856, 1.0, -1.0], [97.0, 0.5629923343658447, 0.06885550171136856, 1.0, -1.0], [98.0, 0.633556604385376, 0.06885550171136856, 1.0, -1.0], [99.0, 0.6056213974952698, 0.06885550171136856, 1.0, -1.0]]}, \"id\": \"el29760139893525065008\", \"plugins\": [{\"type\": \"reset\"}, {\"type\": \"zoom\", \"button\": true, \"enabled\": false}, {\"type\": \"boxzoom\", \"button\": true, \"enabled\": false}]});\n",
       "            })\n",
       "         });\n",
       "}\n",
       "</script>"
      ],
      "text/plain": [
       "<Figure size 1200x800 with 2 Axes>"
      ]
     },
     "metadata": {
      "needs_background": "light"
     },
     "output_type": "display_data"
    }
   ],
   "source": [
    "for _ in range(1):\n",
    "    idx+=1\n",
    "    initial_angle = r_phi[idx]\n",
    "    model_cont.parse_logs(idx)\n",
    "data_output = model_cont.predict_angle()*maxAngle\n",
    "\n",
    "output_length = len(fwd_data)\n",
    "M_fut_len = fwd_data[-1]\n",
    "\n",
    "phi_good = [initial_angle] +[r_phi[idx+fwd_data[i]] for i in range(output_length)]\n",
    "phi_pred = [initial_angle] +[data_output[i] for i in range(output_length)]\n",
    "\n",
    "M_imagined = [r_M[idx] for _ in range(M_fut_len)]\n",
    "M_real = [r_M[idx+i] for i in range(M_fut_len)]\n",
    "\n",
    "print(r_phi[idx].item())\n",
    "axs = plt.subplots(2)[1]\n",
    "\n",
    "axs[0].plot(np.linspace(0, output_length, output_length+1), phi_good)\n",
    "axs[0].plot(np.linspace(0, output_length, output_length+1), phi_pred)\n",
    "axs[0].plot(np.linspace(0, output_length, output_length+1), np.ones((output_length+1,))*1)\n",
    "axs[0].plot(np.linspace(0, output_length, output_length+1), np.ones((output_length+1,))*-1)\n",
    "\n",
    "axs[1].plot(np.linspace(0, M_fut_len-1, M_fut_len), M_real)\n",
    "axs[1].plot(np.linspace(0, M_fut_len-1, M_fut_len), M_imagined)\n",
    "axs[1].plot(np.linspace(0, M_fut_len-1, M_fut_len), np.ones((M_fut_len,))*1)\n",
    "axs[1].plot(np.linspace(0, M_fut_len-1, M_fut_len), np.ones((M_fut_len,))*-1)"
   ]
  },
  {
   "cell_type": "code",
   "execution_count": null,
   "id": "90b96afd-3742-4428-8b2c-8873b3ccf632",
   "metadata": {},
   "outputs": [],
   "source": []
  }
 ],
 "metadata": {
  "kernelspec": {
   "display_name": "Python 3",
   "language": "python",
   "name": "python3"
  },
  "language_info": {
   "codemirror_mode": {
    "name": "ipython",
    "version": 3
   },
   "file_extension": ".py",
   "mimetype": "text/x-python",
   "name": "python",
   "nbconvert_exporter": "python",
   "pygments_lexer": "ipython3",
   "version": "3.8.5"
  }
 },
 "nbformat": 4,
 "nbformat_minor": 5
}
