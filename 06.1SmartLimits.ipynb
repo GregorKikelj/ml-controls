{
 "cells": [
  {
   "cell_type": "code",
   "execution_count": 2,
   "id": "c9e1dfd6-88da-44fc-a701-4e53b1f7f949",
   "metadata": {},
   "outputs": [],
   "source": [
    "%matplotlib inline\n",
    "import mpld3\n",
    "mpld3.enable_notebook()\n",
    "from matplotlib import pyplot as plt\n",
    "plt.rcParams['figure.figsize'] = [12, 8]\n",
    "plt.rcParams['figure.dpi'] = 100\n",
    "\n",
    "import numpy as np\n",
    "from random import random, uniform, randrange, triangular\n",
    "from tqdm import tqdm"
   ]
  },
  {
   "cell_type": "code",
   "execution_count": 3,
   "id": "ef1f4c11-c75b-4d36-acb9-ca97bac3bb0a",
   "metadata": {},
   "outputs": [],
   "source": [
    "#Pytorch imports\n",
    "import torch\n",
    "from torch import nn\n",
    "from torch.utils.data import Dataset, DataLoader"
   ]
  },
  {
   "cell_type": "code",
   "execution_count": 4,
   "id": "1973b163-403e-410d-8a5c-5e1ac2193cfe",
   "metadata": {},
   "outputs": [
    {
     "name": "stdout",
     "output_type": "stream",
     "text": [
      "491822\n",
      "41.70000076293945 39.09857177734375 1.0 [19.161849975585938, 8.428146362304688, 11.452590942382812] [0.18414306640625, 0.8147430419921875, 0.1421051025390625]\n"
     ]
    }
   ],
   "source": [
    "import os\n",
    "files = os.listdir(\"dataset\")\n",
    "\n",
    "import csv\n",
    "cv = []\n",
    "class Route:\n",
    "    def __init__(self, phi, v, M, IMU_v, IMU_alpha):\n",
    "        self.phi = phi\n",
    "        self.v = v\n",
    "        self.M = M\n",
    "        self.IMU_v = IMU_v\n",
    "        self.IMU_alpha = IMU_alpha\n",
    "    def __len__(self):\n",
    "        return len(self.phi)\n",
    "    \n",
    "routes = []\n",
    "\n",
    "allRows = 0\n",
    "\n",
    "maxAngle = 0\n",
    "maxSpeed = 0\n",
    "maxTorque = 0\n",
    "\n",
    "maxVDot = [0]*3\n",
    "maxAlphaDot = [0]*3\n",
    "for file in files:\n",
    "    path = os.path.join(\"dataset\", file)\n",
    "    with open(path, newline='') as csvfile:\n",
    "        spamreader = csv.reader(csvfile, delimiter=' ')\n",
    "        phi = []\n",
    "        v = []\n",
    "        M = []\n",
    "        IMU_v = []\n",
    "        IMU_alpha = []\n",
    "        for row in spamreader:\n",
    "            phi.append(float(row[1]))\n",
    "            v.append(float(row[2]))\n",
    "            cv.append(float(row[2]))\n",
    "            M.append(float(row[3]))\n",
    "            \n",
    "            vPacket = [float(row[i]) for i in range(4, 7)]\n",
    "            alphaPacket = [float(row[i]) for i in range(7, 10)]\n",
    "            IMU_v.append(vPacket)\n",
    "            IMU_alpha.append(alphaPacket)\n",
    "            \n",
    "            maxAngle = max(abs(float(row[1])), maxAngle)\n",
    "            maxSpeed = max(abs(float(row[2])), maxSpeed)\n",
    "            maxTorque = max(abs(float(row[3])), maxTorque)\n",
    "            \n",
    "            for i in range(3):\n",
    "                maxVDot[i] = max(abs(float(row[4+i])), maxVDot[i])\n",
    "                maxAlphaDot[i] = max(abs(float(row[7+i])), maxAlphaDot[i])\n",
    "        if min(v) > 25:\n",
    "            routes.append(Route(torch.tensor(phi), torch.tensor(v), torch.tensor(M), torch.tensor(IMU_v).permute(1,0), torch.tensor(IMU_alpha).permute(1,0)))\n",
    "            allRows += len(phi)\n",
    "\n",
    "\n",
    "print(allRows)\n",
    "print(maxAngle, maxSpeed, maxTorque, maxVDot, maxAlphaDot)"
   ]
  },
  {
   "cell_type": "code",
   "execution_count": 5,
   "id": "b713b566-3446-4e0c-8694-4a648688e04e",
   "metadata": {},
   "outputs": [
    {
     "data": {
      "image/png": "[encoded data removed]",
      "text/html": [
       "\n",
       "\n",
       "<style>\n",
       "\n",
       "</style>\n",
       "\n",
       "<div id=\"fig_el7660661399872212817126763963159\"></div>\n",
       "<script>\n",
       "function mpld3_load_lib(url, callback){\n",
       "  var s = document.createElement('script');\n",
       "  s.src = url;\n",
       "  s.async = true;\n",
       "  s.onreadystatechange = s.onload = callback;\n",
       "  s.onerror = function(){console.warn(\"failed to load library \" + url);};\n",
       "  document.getElementsByTagName(\"head\")[0].appendChild(s);\n",
       "}\n",
       "\n",
       "if(typeof(mpld3) !== \"undefined\" && mpld3._mpld3IsLoaded){\n",
       "   // already loaded: just create the figure\n",
       "   !function(mpld3){\n",
       "       \n",
       "       mpld3.draw_figure(\"fig_el7660661399872212817126763963159\", {\"width\": 1200.0, \"height\": 800.0, \"axes\": [{\"bbox\": [0.125, 0.125, 0.775, 0.755], \"xlim\": [15.607078079700468, 40.15846490430832], \"ylim\": [0.0, 113031.45], \"xdomain\": [15.607078079700468, 40.15846490430832], \"ydomain\": [0.0, 113031.45], \"xscale\": \"linear\", \"yscale\": \"linear\", \"axes\": [{\"position\": \"bottom\", \"nticks\": 7, \"tickvalues\": null, \"tickformat_formatter\": \"\", \"tickformat\": null, \"scale\": \"linear\", \"fontsize\": 10.0, \"grid\": {\"gridOn\": true, \"color\": \"#B0B0B0\", \"dasharray\": \"none\", \"alpha\": 1.0}, \"visible\": true}, {\"position\": \"left\", \"nticks\": 7, \"tickvalues\": null, \"tickformat_formatter\": \"\", \"tickformat\": null, \"scale\": \"linear\", \"fontsize\": 10.0, \"grid\": {\"gridOn\": true, \"color\": \"#B0B0B0\", \"dasharray\": \"none\", \"alpha\": 0.75}, \"visible\": true}], \"axesbg\": \"#FFFFFF\", \"axesbgalpha\": null, \"zoomable\": true, \"id\": \"el766066139987215116032\", \"lines\": [], \"paths\": [{\"data\": \"data01\", \"xindex\": 0, \"yindex\": 1, \"coordinates\": \"data\", \"pathcodes\": [\"M\", \"L\", \"L\", \"L\", \"Z\"], \"id\": \"el766066139987215024720\", \"dasharray\": \"none\", \"alpha\": 1, \"facecolor\": \"#607C8E\", \"edgecolor\": \"none\", \"edgewidth\": 1.0, \"zorder\": 1}, {\"data\": \"data02\", \"xindex\": 0, \"yindex\": 1, \"coordinates\": \"data\", \"pathcodes\": [\"M\", \"L\", \"L\", \"L\", \"Z\"], \"id\": \"el766066139987215024336\", \"dasharray\": \"none\", \"alpha\": 1, \"facecolor\": \"#607C8E\", \"edgecolor\": \"none\", \"edgewidth\": 1.0, \"zorder\": 1}, {\"data\": \"data03\", \"xindex\": 0, \"yindex\": 1, \"coordinates\": \"data\", \"pathcodes\": [\"M\", \"L\", \"L\", \"L\", \"Z\"], \"id\": \"el766066139987215026016\", \"dasharray\": \"none\", \"alpha\": 1, \"facecolor\": \"#607C8E\", \"edgecolor\": \"none\", \"edgewidth\": 1.0, \"zorder\": 1}, {\"data\": \"data04\", \"xindex\": 0, \"yindex\": 1, \"coordinates\": \"data\", \"pathcodes\": [\"M\", \"L\", \"L\", \"L\", \"Z\"], \"id\": \"el766066139987215026544\", \"dasharray\": \"none\", \"alpha\": 1, \"facecolor\": \"#607C8E\", \"edgecolor\": \"none\", \"edgewidth\": 1.0, \"zorder\": 1}, {\"data\": \"data05\", \"xindex\": 0, \"yindex\": 1, \"coordinates\": \"data\", \"pathcodes\": [\"M\", \"L\", \"L\", \"L\", \"Z\"], \"id\": \"el766066139987215027072\", \"dasharray\": \"none\", \"alpha\": 1, \"facecolor\": \"#607C8E\", \"edgecolor\": \"none\", \"edgewidth\": 1.0, \"zorder\": 1}, {\"data\": \"data06\", \"xindex\": 0, \"yindex\": 1, \"coordinates\": \"data\", \"pathcodes\": [\"M\", \"L\", \"L\", \"L\", \"Z\"], \"id\": \"el766066139987215027600\", \"dasharray\": \"none\", \"alpha\": 1, \"facecolor\": \"#607C8E\", \"edgecolor\": \"none\", \"edgewidth\": 1.0, \"zorder\": 1}, {\"data\": \"data07\", \"xindex\": 0, \"yindex\": 1, \"coordinates\": \"data\", \"pathcodes\": [\"M\", \"L\", \"L\", \"L\", \"Z\"], \"id\": \"el766066139987215028128\", \"dasharray\": \"none\", \"alpha\": 1, \"facecolor\": \"#607C8E\", \"edgecolor\": \"none\", \"edgewidth\": 1.0, \"zorder\": 1}, {\"data\": \"data08\", \"xindex\": 0, \"yindex\": 1, \"coordinates\": \"data\", \"pathcodes\": [\"M\", \"L\", \"L\", \"L\", \"Z\"], \"id\": \"el766066139987215102448\", \"dasharray\": \"none\", \"alpha\": 1, \"facecolor\": \"#607C8E\", \"edgecolor\": \"none\", \"edgewidth\": 1.0, \"zorder\": 1}, {\"data\": \"data09\", \"xindex\": 0, \"yindex\": 1, \"coordinates\": \"data\", \"pathcodes\": [\"M\", \"L\", \"L\", \"L\", \"Z\"], \"id\": \"el766066139987215102976\", \"dasharray\": \"none\", \"alpha\": 1, \"facecolor\": \"#607C8E\", \"edgecolor\": \"none\", \"edgewidth\": 1.0, \"zorder\": 1}, {\"data\": \"data10\", \"xindex\": 0, \"yindex\": 1, \"coordinates\": \"data\", \"pathcodes\": [\"M\", \"L\", \"L\", \"L\", \"Z\"], \"id\": \"el766066139987215103504\", \"dasharray\": \"none\", \"alpha\": 1, \"facecolor\": \"#607C8E\", \"edgecolor\": \"none\", \"edgewidth\": 1.0, \"zorder\": 1}, {\"data\": \"data11\", \"xindex\": 0, \"yindex\": 1, \"coordinates\": \"data\", \"pathcodes\": [\"M\", \"L\", \"L\", \"L\", \"Z\"], \"id\": \"el766066139987215104032\", \"dasharray\": \"none\", \"alpha\": 1, \"facecolor\": \"#607C8E\", \"edgecolor\": \"none\", \"edgewidth\": 1.0, \"zorder\": 1}, {\"data\": \"data12\", \"xindex\": 0, \"yindex\": 1, \"coordinates\": \"data\", \"pathcodes\": [\"M\", \"L\", \"L\", \"L\", \"Z\"], \"id\": \"el766066139987215104560\", \"dasharray\": \"none\", \"alpha\": 1, \"facecolor\": \"#607C8E\", \"edgecolor\": \"none\", \"edgewidth\": 1.0, \"zorder\": 1}, {\"data\": \"data13\", \"xindex\": 0, \"yindex\": 1, \"coordinates\": \"data\", \"pathcodes\": [\"M\", \"L\", \"L\", \"L\", \"Z\"], \"id\": \"el766066139987215105088\", \"dasharray\": \"none\", \"alpha\": 1, \"facecolor\": \"#607C8E\", \"edgecolor\": \"none\", \"edgewidth\": 1.0, \"zorder\": 1}, {\"data\": \"data14\", \"xindex\": 0, \"yindex\": 1, \"coordinates\": \"data\", \"pathcodes\": [\"M\", \"L\", \"L\", \"L\", \"Z\"], \"id\": \"el766066139987215105616\", \"dasharray\": \"none\", \"alpha\": 1, \"facecolor\": \"#607C8E\", \"edgecolor\": \"none\", \"edgewidth\": 1.0, \"zorder\": 1}, {\"data\": \"data15\", \"xindex\": 0, \"yindex\": 1, \"coordinates\": \"data\", \"pathcodes\": [\"M\", \"L\", \"L\", \"L\", \"Z\"], \"id\": \"el766066139987215105664\", \"dasharray\": \"none\", \"alpha\": 1, \"facecolor\": \"#607C8E\", \"edgecolor\": \"none\", \"edgewidth\": 1.0, \"zorder\": 1}, {\"data\": \"data16\", \"xindex\": 0, \"yindex\": 1, \"coordinates\": \"data\", \"pathcodes\": [\"M\", \"L\", \"L\", \"L\", \"Z\"], \"id\": \"el766066139987214635696\", \"dasharray\": \"none\", \"alpha\": 1, \"facecolor\": \"#607C8E\", \"edgecolor\": \"none\", \"edgewidth\": 1.0, \"zorder\": 1}, {\"data\": \"data17\", \"xindex\": 0, \"yindex\": 1, \"coordinates\": \"data\", \"pathcodes\": [\"M\", \"L\", \"L\", \"L\", \"Z\"], \"id\": \"el766066139987214636224\", \"dasharray\": \"none\", \"alpha\": 1, \"facecolor\": \"#607C8E\", \"edgecolor\": \"none\", \"edgewidth\": 1.0, \"zorder\": 1}, {\"data\": \"data18\", \"xindex\": 0, \"yindex\": 1, \"coordinates\": \"data\", \"pathcodes\": [\"M\", \"L\", \"L\", \"L\", \"Z\"], \"id\": \"el766066139987214636752\", \"dasharray\": \"none\", \"alpha\": 1, \"facecolor\": \"#607C8E\", \"edgecolor\": \"none\", \"edgewidth\": 1.0, \"zorder\": 1}, {\"data\": \"data19\", \"xindex\": 0, \"yindex\": 1, \"coordinates\": \"data\", \"pathcodes\": [\"M\", \"L\", \"L\", \"L\", \"Z\"], \"id\": \"el766066139987214637280\", \"dasharray\": \"none\", \"alpha\": 1, \"facecolor\": \"#607C8E\", \"edgecolor\": \"none\", \"edgewidth\": 1.0, \"zorder\": 1}, {\"data\": \"data20\", \"xindex\": 0, \"yindex\": 1, \"coordinates\": \"data\", \"pathcodes\": [\"M\", \"L\", \"L\", \"L\", \"Z\"], \"id\": \"el766066139987214637808\", \"dasharray\": \"none\", \"alpha\": 1, \"facecolor\": \"#607C8E\", \"edgecolor\": \"none\", \"edgewidth\": 1.0, \"zorder\": 1}], \"markers\": [], \"texts\": [{\"text\": \"Counts\", \"position\": [0.5, -0.048473142016188395], \"coordinates\": \"axes\", \"h_anchor\": \"middle\", \"v_baseline\": \"hanging\", \"rotation\": -0.0, \"fontsize\": 10.0, \"color\": \"#000000\", \"alpha\": 1, \"zorder\": 3, \"id\": \"el766066139987215117952\"}, {\"text\": \"Speed\", \"position\": [-0.07301373954599762, 0.5], \"coordinates\": \"axes\", \"h_anchor\": \"middle\", \"v_baseline\": \"auto\", \"rotation\": -90.0, \"fontsize\": 10.0, \"color\": \"#000000\", \"alpha\": 1, \"zorder\": 3, \"id\": \"el766066139987215176848\"}], \"collections\": [], \"images\": [], \"sharex\": [], \"sharey\": []}], \"data\": {\"data01\": [[16.723050208091735, 0.0], [17.732472233772274, 0.0], [17.732472233772274, 2627.0], [16.723050208091735, 2627.0]], \"data02\": [[17.844630236625672, 0.0], [18.854052262306215, 0.0], [18.854052262306215, 2414.0], [17.844630236625672, 2414.0]], \"data03\": [[18.96621026515961, 0.0], [19.97563229084015, 0.0], [19.97563229084015, 3573.0], [18.96621026515961, 3573.0]], \"data04\": [[20.08779029369354, 0.0], [21.097212319374083, 0.0], [21.097212319374083, 4813.0], [20.08779029369354, 4813.0]], \"data05\": [[21.20937032222748, 0.0], [22.218792347908018, 0.0], [22.218792347908018, 1667.0], [21.20937032222748, 1667.0]], \"data06\": [[22.330950350761412, 0.0], [23.34037237644195, 0.0], [23.34037237644195, 6329.0], [22.330950350761412, 6329.0]], \"data07\": [[23.452530379295347, 0.0], [24.461952404975886, 0.0], [24.461952404975886, 14319.0], [23.452530379295347, 14319.0]], \"data08\": [[24.574110407829284, 0.0], [25.583532433509827, 0.0], [25.583532433509827, 32204.0], [24.574110407829284, 32204.0]], \"data09\": [[25.69569043636322, 0.0], [26.70511246204376, 0.0], [26.70511246204376, 46067.0], [25.69569043636322, 46067.0]], \"data10\": [[26.817270464897156, 0.0], [27.826692490577695, 0.0], [27.826692490577695, 47196.0], [26.817270464897156, 47196.0]], \"data11\": [[27.93885049343109, 0.0], [28.94827251911163, 0.0], [28.94827251911163, 86981.0], [27.93885049343109, 86981.0]], \"data12\": [[29.060430521965024, 0.0], [30.069852547645564, 0.0], [30.069852547645564, 107649.0], [29.060430521965024, 107649.0]], \"data13\": [[30.182010550498962, 0.0], [31.191432576179505, 0.0], [31.191432576179505, 93143.0], [30.182010550498962, 93143.0]], \"data14\": [[31.3035905790329, 0.0], [32.313012604713435, 0.0], [32.313012604713435, 83961.0], [31.3035905790329, 83961.0]], \"data15\": [[32.42517060756683, 0.0], [33.43459263324738, 0.0], [33.43459263324738, 74860.0], [32.42517060756683, 74860.0]], \"data16\": [[33.546750636100775, 0.0], [34.55617266178132, 0.0], [34.55617266178132, 38000.0], [33.546750636100775, 38000.0]], \"data17\": [[34.6683306646347, 0.0], [35.677752690315245, 0.0], [35.677752690315245, 21861.0], [34.6683306646347, 21861.0]], \"data18\": [[35.789910693168636, 0.0], [36.799332718849186, 0.0], [36.799332718849186, 5181.0], [35.789910693168636, 5181.0]], \"data19\": [[36.91149072170258, 0.0], [37.92091274738311, 0.0], [37.92091274738311, 582.0], [36.91149072170258, 582.0]], \"data20\": [[38.033070750236504, 0.0], [39.042492775917054, 0.0], [39.042492775917054, 561.0], [38.033070750236504, 561.0]]}, \"id\": \"el766066139987221281712\", \"plugins\": [{\"type\": \"reset\"}, {\"type\": \"zoom\", \"button\": true, \"enabled\": false}, {\"type\": \"boxzoom\", \"button\": true, \"enabled\": false}]});\n",
       "   }(mpld3);\n",
       "}else if(typeof define === \"function\" && define.amd){\n",
       "   // require.js is available: use it to load d3/mpld3\n",
       "   require.config({paths: {d3: \"https://d3js.org/d3.v5\"}});\n",
       "   require([\"d3\"], function(d3){\n",
       "      window.d3 = d3;\n",
       "      mpld3_load_lib(\"https://mpld3.github.io/js/mpld3.v0.5.5.js\", function(){\n",
       "         \n",
       "         mpld3.draw_figure(\"fig_el7660661399872212817126763963159\", {\"width\": 1200.0, \"height\": 800.0, \"axes\": [{\"bbox\": [0.125, 0.125, 0.775, 0.755], \"xlim\": [15.607078079700468, 40.15846490430832], \"ylim\": [0.0, 113031.45], \"xdomain\": [15.607078079700468, 40.15846490430832], \"ydomain\": [0.0, 113031.45], \"xscale\": \"linear\", \"yscale\": \"linear\", \"axes\": [{\"position\": \"bottom\", \"nticks\": 7, \"tickvalues\": null, \"tickformat_formatter\": \"\", \"tickformat\": null, \"scale\": \"linear\", \"fontsize\": 10.0, \"grid\": {\"gridOn\": true, \"color\": \"#B0B0B0\", \"dasharray\": \"none\", \"alpha\": 1.0}, \"visible\": true}, {\"position\": \"left\", \"nticks\": 7, \"tickvalues\": null, \"tickformat_formatter\": \"\", \"tickformat\": null, \"scale\": \"linear\", \"fontsize\": 10.0, \"grid\": {\"gridOn\": true, \"color\": \"#B0B0B0\", \"dasharray\": \"none\", \"alpha\": 0.75}, \"visible\": true}], \"axesbg\": \"#FFFFFF\", \"axesbgalpha\": null, \"zoomable\": true, \"id\": \"el766066139987215116032\", \"lines\": [], \"paths\": [{\"data\": \"data01\", \"xindex\": 0, \"yindex\": 1, \"coordinates\": \"data\", \"pathcodes\": [\"M\", \"L\", \"L\", \"L\", \"Z\"], \"id\": \"el766066139987215024720\", \"dasharray\": \"none\", \"alpha\": 1, \"facecolor\": \"#607C8E\", \"edgecolor\": \"none\", \"edgewidth\": 1.0, \"zorder\": 1}, {\"data\": \"data02\", \"xindex\": 0, \"yindex\": 1, \"coordinates\": \"data\", \"pathcodes\": [\"M\", \"L\", \"L\", \"L\", \"Z\"], \"id\": \"el766066139987215024336\", \"dasharray\": \"none\", \"alpha\": 1, \"facecolor\": \"#607C8E\", \"edgecolor\": \"none\", \"edgewidth\": 1.0, \"zorder\": 1}, {\"data\": \"data03\", \"xindex\": 0, \"yindex\": 1, \"coordinates\": \"data\", \"pathcodes\": [\"M\", \"L\", \"L\", \"L\", \"Z\"], \"id\": \"el766066139987215026016\", \"dasharray\": \"none\", \"alpha\": 1, \"facecolor\": \"#607C8E\", \"edgecolor\": \"none\", \"edgewidth\": 1.0, \"zorder\": 1}, {\"data\": \"data04\", \"xindex\": 0, \"yindex\": 1, \"coordinates\": \"data\", \"pathcodes\": [\"M\", \"L\", \"L\", \"L\", \"Z\"], \"id\": \"el766066139987215026544\", \"dasharray\": \"none\", \"alpha\": 1, \"facecolor\": \"#607C8E\", \"edgecolor\": \"none\", \"edgewidth\": 1.0, \"zorder\": 1}, {\"data\": \"data05\", \"xindex\": 0, \"yindex\": 1, \"coordinates\": \"data\", \"pathcodes\": [\"M\", \"L\", \"L\", \"L\", \"Z\"], \"id\": \"el766066139987215027072\", \"dasharray\": \"none\", \"alpha\": 1, \"facecolor\": \"#607C8E\", \"edgecolor\": \"none\", \"edgewidth\": 1.0, \"zorder\": 1}, {\"data\": \"data06\", \"xindex\": 0, \"yindex\": 1, \"coordinates\": \"data\", \"pathcodes\": [\"M\", \"L\", \"L\", \"L\", \"Z\"], \"id\": \"el766066139987215027600\", \"dasharray\": \"none\", \"alpha\": 1, \"facecolor\": \"#607C8E\", \"edgecolor\": \"none\", \"edgewidth\": 1.0, \"zorder\": 1}, {\"data\": \"data07\", \"xindex\": 0, \"yindex\": 1, \"coordinates\": \"data\", \"pathcodes\": [\"M\", \"L\", \"L\", \"L\", \"Z\"], \"id\": \"el766066139987215028128\", \"dasharray\": \"none\", \"alpha\": 1, \"facecolor\": \"#607C8E\", \"edgecolor\": \"none\", \"edgewidth\": 1.0, \"zorder\": 1}, {\"data\": \"data08\", \"xindex\": 0, \"yindex\": 1, \"coordinates\": \"data\", \"pathcodes\": [\"M\", \"L\", \"L\", \"L\", \"Z\"], \"id\": \"el766066139987215102448\", \"dasharray\": \"none\", \"alpha\": 1, \"facecolor\": \"#607C8E\", \"edgecolor\": \"none\", \"edgewidth\": 1.0, \"zorder\": 1}, {\"data\": \"data09\", \"xindex\": 0, \"yindex\": 1, \"coordinates\": \"data\", \"pathcodes\": [\"M\", \"L\", \"L\", \"L\", \"Z\"], \"id\": \"el766066139987215102976\", \"dasharray\": \"none\", \"alpha\": 1, \"facecolor\": \"#607C8E\", \"edgecolor\": \"none\", \"edgewidth\": 1.0, \"zorder\": 1}, {\"data\": \"data10\", \"xindex\": 0, \"yindex\": 1, \"coordinates\": \"data\", \"pathcodes\": [\"M\", \"L\", \"L\", \"L\", \"Z\"], \"id\": \"el766066139987215103504\", \"dasharray\": \"none\", \"alpha\": 1, \"facecolor\": \"#607C8E\", \"edgecolor\": \"none\", \"edgewidth\": 1.0, \"zorder\": 1}, {\"data\": \"data11\", \"xindex\": 0, \"yindex\": 1, \"coordinates\": \"data\", \"pathcodes\": [\"M\", \"L\", \"L\", \"L\", \"Z\"], \"id\": \"el766066139987215104032\", \"dasharray\": \"none\", \"alpha\": 1, \"facecolor\": \"#607C8E\", \"edgecolor\": \"none\", \"edgewidth\": 1.0, \"zorder\": 1}, {\"data\": \"data12\", \"xindex\": 0, \"yindex\": 1, \"coordinates\": \"data\", \"pathcodes\": [\"M\", \"L\", \"L\", \"L\", \"Z\"], \"id\": \"el766066139987215104560\", \"dasharray\": \"none\", \"alpha\": 1, \"facecolor\": \"#607C8E\", \"edgecolor\": \"none\", \"edgewidth\": 1.0, \"zorder\": 1}, {\"data\": \"data13\", \"xindex\": 0, \"yindex\": 1, \"coordinates\": \"data\", \"pathcodes\": [\"M\", \"L\", \"L\", \"L\", \"Z\"], \"id\": \"el766066139987215105088\", \"dasharray\": \"none\", \"alpha\": 1, \"facecolor\": \"#607C8E\", \"edgecolor\": \"none\", \"edgewidth\": 1.0, \"zorder\": 1}, {\"data\": \"data14\", \"xindex\": 0, \"yindex\": 1, \"coordinates\": \"data\", \"pathcodes\": [\"M\", \"L\", \"L\", \"L\", \"Z\"], \"id\": \"el766066139987215105616\", \"dasharray\": \"none\", \"alpha\": 1, \"facecolor\": \"#607C8E\", \"edgecolor\": \"none\", \"edgewidth\": 1.0, \"zorder\": 1}, {\"data\": \"data15\", \"xindex\": 0, \"yindex\": 1, \"coordinates\": \"data\", \"pathcodes\": [\"M\", \"L\", \"L\", \"L\", \"Z\"], \"id\": \"el766066139987215105664\", \"dasharray\": \"none\", \"alpha\": 1, \"facecolor\": \"#607C8E\", \"edgecolor\": \"none\", \"edgewidth\": 1.0, \"zorder\": 1}, {\"data\": \"data16\", \"xindex\": 0, \"yindex\": 1, \"coordinates\": \"data\", \"pathcodes\": [\"M\", \"L\", \"L\", \"L\", \"Z\"], \"id\": \"el766066139987214635696\", \"dasharray\": \"none\", \"alpha\": 1, \"facecolor\": \"#607C8E\", \"edgecolor\": \"none\", \"edgewidth\": 1.0, \"zorder\": 1}, {\"data\": \"data17\", \"xindex\": 0, \"yindex\": 1, \"coordinates\": \"data\", \"pathcodes\": [\"M\", \"L\", \"L\", \"L\", \"Z\"], \"id\": \"el766066139987214636224\", \"dasharray\": \"none\", \"alpha\": 1, \"facecolor\": \"#607C8E\", \"edgecolor\": \"none\", \"edgewidth\": 1.0, \"zorder\": 1}, {\"data\": \"data18\", \"xindex\": 0, \"yindex\": 1, \"coordinates\": \"data\", \"pathcodes\": [\"M\", \"L\", \"L\", \"L\", \"Z\"], \"id\": \"el766066139987214636752\", \"dasharray\": \"none\", \"alpha\": 1, \"facecolor\": \"#607C8E\", \"edgecolor\": \"none\", \"edgewidth\": 1.0, \"zorder\": 1}, {\"data\": \"data19\", \"xindex\": 0, \"yindex\": 1, \"coordinates\": \"data\", \"pathcodes\": [\"M\", \"L\", \"L\", \"L\", \"Z\"], \"id\": \"el766066139987214637280\", \"dasharray\": \"none\", \"alpha\": 1, \"facecolor\": \"#607C8E\", \"edgecolor\": \"none\", \"edgewidth\": 1.0, \"zorder\": 1}, {\"data\": \"data20\", \"xindex\": 0, \"yindex\": 1, \"coordinates\": \"data\", \"pathcodes\": [\"M\", \"L\", \"L\", \"L\", \"Z\"], \"id\": \"el766066139987214637808\", \"dasharray\": \"none\", \"alpha\": 1, \"facecolor\": \"#607C8E\", \"edgecolor\": \"none\", \"edgewidth\": 1.0, \"zorder\": 1}], \"markers\": [], \"texts\": [{\"text\": \"Counts\", \"position\": [0.5, -0.048473142016188395], \"coordinates\": \"axes\", \"h_anchor\": \"middle\", \"v_baseline\": \"hanging\", \"rotation\": -0.0, \"fontsize\": 10.0, \"color\": \"#000000\", \"alpha\": 1, \"zorder\": 3, \"id\": \"el766066139987215117952\"}, {\"text\": \"Speed\", \"position\": [-0.07301373954599762, 0.5], \"coordinates\": \"axes\", \"h_anchor\": \"middle\", \"v_baseline\": \"auto\", \"rotation\": -90.0, \"fontsize\": 10.0, \"color\": \"#000000\", \"alpha\": 1, \"zorder\": 3, \"id\": \"el766066139987215176848\"}], \"collections\": [], \"images\": [], \"sharex\": [], \"sharey\": []}], \"data\": {\"data01\": [[16.723050208091735, 0.0], [17.732472233772274, 0.0], [17.732472233772274, 2627.0], [16.723050208091735, 2627.0]], \"data02\": [[17.844630236625672, 0.0], [18.854052262306215, 0.0], [18.854052262306215, 2414.0], [17.844630236625672, 2414.0]], \"data03\": [[18.96621026515961, 0.0], [19.97563229084015, 0.0], [19.97563229084015, 3573.0], [18.96621026515961, 3573.0]], \"data04\": [[20.08779029369354, 0.0], [21.097212319374083, 0.0], [21.097212319374083, 4813.0], [20.08779029369354, 4813.0]], \"data05\": [[21.20937032222748, 0.0], [22.218792347908018, 0.0], [22.218792347908018, 1667.0], [21.20937032222748, 1667.0]], \"data06\": [[22.330950350761412, 0.0], [23.34037237644195, 0.0], [23.34037237644195, 6329.0], [22.330950350761412, 6329.0]], \"data07\": [[23.452530379295347, 0.0], [24.461952404975886, 0.0], [24.461952404975886, 14319.0], [23.452530379295347, 14319.0]], \"data08\": [[24.574110407829284, 0.0], [25.583532433509827, 0.0], [25.583532433509827, 32204.0], [24.574110407829284, 32204.0]], \"data09\": [[25.69569043636322, 0.0], [26.70511246204376, 0.0], [26.70511246204376, 46067.0], [25.69569043636322, 46067.0]], \"data10\": [[26.817270464897156, 0.0], [27.826692490577695, 0.0], [27.826692490577695, 47196.0], [26.817270464897156, 47196.0]], \"data11\": [[27.93885049343109, 0.0], [28.94827251911163, 0.0], [28.94827251911163, 86981.0], [27.93885049343109, 86981.0]], \"data12\": [[29.060430521965024, 0.0], [30.069852547645564, 0.0], [30.069852547645564, 107649.0], [29.060430521965024, 107649.0]], \"data13\": [[30.182010550498962, 0.0], [31.191432576179505, 0.0], [31.191432576179505, 93143.0], [30.182010550498962, 93143.0]], \"data14\": [[31.3035905790329, 0.0], [32.313012604713435, 0.0], [32.313012604713435, 83961.0], [31.3035905790329, 83961.0]], \"data15\": [[32.42517060756683, 0.0], [33.43459263324738, 0.0], [33.43459263324738, 74860.0], [32.42517060756683, 74860.0]], \"data16\": [[33.546750636100775, 0.0], [34.55617266178132, 0.0], [34.55617266178132, 38000.0], [33.546750636100775, 38000.0]], \"data17\": [[34.6683306646347, 0.0], [35.677752690315245, 0.0], [35.677752690315245, 21861.0], [34.6683306646347, 21861.0]], \"data18\": [[35.789910693168636, 0.0], [36.799332718849186, 0.0], [36.799332718849186, 5181.0], [35.789910693168636, 5181.0]], \"data19\": [[36.91149072170258, 0.0], [37.92091274738311, 0.0], [37.92091274738311, 582.0], [36.91149072170258, 582.0]], \"data20\": [[38.033070750236504, 0.0], [39.042492775917054, 0.0], [39.042492775917054, 561.0], [38.033070750236504, 561.0]]}, \"id\": \"el766066139987221281712\", \"plugins\": [{\"type\": \"reset\"}, {\"type\": \"zoom\", \"button\": true, \"enabled\": false}, {\"type\": \"boxzoom\", \"button\": true, \"enabled\": false}]});\n",
       "      });\n",
       "    });\n",
       "}else{\n",
       "    // require.js not available: dynamically load d3 & mpld3\n",
       "    mpld3_load_lib(\"https://d3js.org/d3.v5.js\", function(){\n",
       "         mpld3_load_lib(\"https://mpld3.github.io/js/mpld3.v0.5.5.js\", function(){\n",
       "                 \n",
       "                 mpld3.draw_figure(\"fig_el7660661399872212817126763963159\", {\"width\": 1200.0, \"height\": 800.0, \"axes\": [{\"bbox\": [0.125, 0.125, 0.775, 0.755], \"xlim\": [15.607078079700468, 40.15846490430832], \"ylim\": [0.0, 113031.45], \"xdomain\": [15.607078079700468, 40.15846490430832], \"ydomain\": [0.0, 113031.45], \"xscale\": \"linear\", \"yscale\": \"linear\", \"axes\": [{\"position\": \"bottom\", \"nticks\": 7, \"tickvalues\": null, \"tickformat_formatter\": \"\", \"tickformat\": null, \"scale\": \"linear\", \"fontsize\": 10.0, \"grid\": {\"gridOn\": true, \"color\": \"#B0B0B0\", \"dasharray\": \"none\", \"alpha\": 1.0}, \"visible\": true}, {\"position\": \"left\", \"nticks\": 7, \"tickvalues\": null, \"tickformat_formatter\": \"\", \"tickformat\": null, \"scale\": \"linear\", \"fontsize\": 10.0, \"grid\": {\"gridOn\": true, \"color\": \"#B0B0B0\", \"dasharray\": \"none\", \"alpha\": 0.75}, \"visible\": true}], \"axesbg\": \"#FFFFFF\", \"axesbgalpha\": null, \"zoomable\": true, \"id\": \"el766066139987215116032\", \"lines\": [], \"paths\": [{\"data\": \"data01\", \"xindex\": 0, \"yindex\": 1, \"coordinates\": \"data\", \"pathcodes\": [\"M\", \"L\", \"L\", \"L\", \"Z\"], \"id\": \"el766066139987215024720\", \"dasharray\": \"none\", \"alpha\": 1, \"facecolor\": \"#607C8E\", \"edgecolor\": \"none\", \"edgewidth\": 1.0, \"zorder\": 1}, {\"data\": \"data02\", \"xindex\": 0, \"yindex\": 1, \"coordinates\": \"data\", \"pathcodes\": [\"M\", \"L\", \"L\", \"L\", \"Z\"], \"id\": \"el766066139987215024336\", \"dasharray\": \"none\", \"alpha\": 1, \"facecolor\": \"#607C8E\", \"edgecolor\": \"none\", \"edgewidth\": 1.0, \"zorder\": 1}, {\"data\": \"data03\", \"xindex\": 0, \"yindex\": 1, \"coordinates\": \"data\", \"pathcodes\": [\"M\", \"L\", \"L\", \"L\", \"Z\"], \"id\": \"el766066139987215026016\", \"dasharray\": \"none\", \"alpha\": 1, \"facecolor\": \"#607C8E\", \"edgecolor\": \"none\", \"edgewidth\": 1.0, \"zorder\": 1}, {\"data\": \"data04\", \"xindex\": 0, \"yindex\": 1, \"coordinates\": \"data\", \"pathcodes\": [\"M\", \"L\", \"L\", \"L\", \"Z\"], \"id\": \"el766066139987215026544\", \"dasharray\": \"none\", \"alpha\": 1, \"facecolor\": \"#607C8E\", \"edgecolor\": \"none\", \"edgewidth\": 1.0, \"zorder\": 1}, {\"data\": \"data05\", \"xindex\": 0, \"yindex\": 1, \"coordinates\": \"data\", \"pathcodes\": [\"M\", \"L\", \"L\", \"L\", \"Z\"], \"id\": \"el766066139987215027072\", \"dasharray\": \"none\", \"alpha\": 1, \"facecolor\": \"#607C8E\", \"edgecolor\": \"none\", \"edgewidth\": 1.0, \"zorder\": 1}, {\"data\": \"data06\", \"xindex\": 0, \"yindex\": 1, \"coordinates\": \"data\", \"pathcodes\": [\"M\", \"L\", \"L\", \"L\", \"Z\"], \"id\": \"el766066139987215027600\", \"dasharray\": \"none\", \"alpha\": 1, \"facecolor\": \"#607C8E\", \"edgecolor\": \"none\", \"edgewidth\": 1.0, \"zorder\": 1}, {\"data\": \"data07\", \"xindex\": 0, \"yindex\": 1, \"coordinates\": \"data\", \"pathcodes\": [\"M\", \"L\", \"L\", \"L\", \"Z\"], \"id\": \"el766066139987215028128\", \"dasharray\": \"none\", \"alpha\": 1, \"facecolor\": \"#607C8E\", \"edgecolor\": \"none\", \"edgewidth\": 1.0, \"zorder\": 1}, {\"data\": \"data08\", \"xindex\": 0, \"yindex\": 1, \"coordinates\": \"data\", \"pathcodes\": [\"M\", \"L\", \"L\", \"L\", \"Z\"], \"id\": \"el766066139987215102448\", \"dasharray\": \"none\", \"alpha\": 1, \"facecolor\": \"#607C8E\", \"edgecolor\": \"none\", \"edgewidth\": 1.0, \"zorder\": 1}, {\"data\": \"data09\", \"xindex\": 0, \"yindex\": 1, \"coordinates\": \"data\", \"pathcodes\": [\"M\", \"L\", \"L\", \"L\", \"Z\"], \"id\": \"el766066139987215102976\", \"dasharray\": \"none\", \"alpha\": 1, \"facecolor\": \"#607C8E\", \"edgecolor\": \"none\", \"edgewidth\": 1.0, \"zorder\": 1}, {\"data\": \"data10\", \"xindex\": 0, \"yindex\": 1, \"coordinates\": \"data\", \"pathcodes\": [\"M\", \"L\", \"L\", \"L\", \"Z\"], \"id\": \"el766066139987215103504\", \"dasharray\": \"none\", \"alpha\": 1, \"facecolor\": \"#607C8E\", \"edgecolor\": \"none\", \"edgewidth\": 1.0, \"zorder\": 1}, {\"data\": \"data11\", \"xindex\": 0, \"yindex\": 1, \"coordinates\": \"data\", \"pathcodes\": [\"M\", \"L\", \"L\", \"L\", \"Z\"], \"id\": \"el766066139987215104032\", \"dasharray\": \"none\", \"alpha\": 1, \"facecolor\": \"#607C8E\", \"edgecolor\": \"none\", \"edgewidth\": 1.0, \"zorder\": 1}, {\"data\": \"data12\", \"xindex\": 0, \"yindex\": 1, \"coordinates\": \"data\", \"pathcodes\": [\"M\", \"L\", \"L\", \"L\", \"Z\"], \"id\": \"el766066139987215104560\", \"dasharray\": \"none\", \"alpha\": 1, \"facecolor\": \"#607C8E\", \"edgecolor\": \"none\", \"edgewidth\": 1.0, \"zorder\": 1}, {\"data\": \"data13\", \"xindex\": 0, \"yindex\": 1, \"coordinates\": \"data\", \"pathcodes\": [\"M\", \"L\", \"L\", \"L\", \"Z\"], \"id\": \"el766066139987215105088\", \"dasharray\": \"none\", \"alpha\": 1, \"facecolor\": \"#607C8E\", \"edgecolor\": \"none\", \"edgewidth\": 1.0, \"zorder\": 1}, {\"data\": \"data14\", \"xindex\": 0, \"yindex\": 1, \"coordinates\": \"data\", \"pathcodes\": [\"M\", \"L\", \"L\", \"L\", \"Z\"], \"id\": \"el766066139987215105616\", \"dasharray\": \"none\", \"alpha\": 1, \"facecolor\": \"#607C8E\", \"edgecolor\": \"none\", \"edgewidth\": 1.0, \"zorder\": 1}, {\"data\": \"data15\", \"xindex\": 0, \"yindex\": 1, \"coordinates\": \"data\", \"pathcodes\": [\"M\", \"L\", \"L\", \"L\", \"Z\"], \"id\": \"el766066139987215105664\", \"dasharray\": \"none\", \"alpha\": 1, \"facecolor\": \"#607C8E\", \"edgecolor\": \"none\", \"edgewidth\": 1.0, \"zorder\": 1}, {\"data\": \"data16\", \"xindex\": 0, \"yindex\": 1, \"coordinates\": \"data\", \"pathcodes\": [\"M\", \"L\", \"L\", \"L\", \"Z\"], \"id\": \"el766066139987214635696\", \"dasharray\": \"none\", \"alpha\": 1, \"facecolor\": \"#607C8E\", \"edgecolor\": \"none\", \"edgewidth\": 1.0, \"zorder\": 1}, {\"data\": \"data17\", \"xindex\": 0, \"yindex\": 1, \"coordinates\": \"data\", \"pathcodes\": [\"M\", \"L\", \"L\", \"L\", \"Z\"], \"id\": \"el766066139987214636224\", \"dasharray\": \"none\", \"alpha\": 1, \"facecolor\": \"#607C8E\", \"edgecolor\": \"none\", \"edgewidth\": 1.0, \"zorder\": 1}, {\"data\": \"data18\", \"xindex\": 0, \"yindex\": 1, \"coordinates\": \"data\", \"pathcodes\": [\"M\", \"L\", \"L\", \"L\", \"Z\"], \"id\": \"el766066139987214636752\", \"dasharray\": \"none\", \"alpha\": 1, \"facecolor\": \"#607C8E\", \"edgecolor\": \"none\", \"edgewidth\": 1.0, \"zorder\": 1}, {\"data\": \"data19\", \"xindex\": 0, \"yindex\": 1, \"coordinates\": \"data\", \"pathcodes\": [\"M\", \"L\", \"L\", \"L\", \"Z\"], \"id\": \"el766066139987214637280\", \"dasharray\": \"none\", \"alpha\": 1, \"facecolor\": \"#607C8E\", \"edgecolor\": \"none\", \"edgewidth\": 1.0, \"zorder\": 1}, {\"data\": \"data20\", \"xindex\": 0, \"yindex\": 1, \"coordinates\": \"data\", \"pathcodes\": [\"M\", \"L\", \"L\", \"L\", \"Z\"], \"id\": \"el766066139987214637808\", \"dasharray\": \"none\", \"alpha\": 1, \"facecolor\": \"#607C8E\", \"edgecolor\": \"none\", \"edgewidth\": 1.0, \"zorder\": 1}], \"markers\": [], \"texts\": [{\"text\": \"Counts\", \"position\": [0.5, -0.048473142016188395], \"coordinates\": \"axes\", \"h_anchor\": \"middle\", \"v_baseline\": \"hanging\", \"rotation\": -0.0, \"fontsize\": 10.0, \"color\": \"#000000\", \"alpha\": 1, \"zorder\": 3, \"id\": \"el766066139987215117952\"}, {\"text\": \"Speed\", \"position\": [-0.07301373954599762, 0.5], \"coordinates\": \"axes\", \"h_anchor\": \"middle\", \"v_baseline\": \"auto\", \"rotation\": -90.0, \"fontsize\": 10.0, \"color\": \"#000000\", \"alpha\": 1, \"zorder\": 3, \"id\": \"el766066139987215176848\"}], \"collections\": [], \"images\": [], \"sharex\": [], \"sharey\": []}], \"data\": {\"data01\": [[16.723050208091735, 0.0], [17.732472233772274, 0.0], [17.732472233772274, 2627.0], [16.723050208091735, 2627.0]], \"data02\": [[17.844630236625672, 0.0], [18.854052262306215, 0.0], [18.854052262306215, 2414.0], [17.844630236625672, 2414.0]], \"data03\": [[18.96621026515961, 0.0], [19.97563229084015, 0.0], [19.97563229084015, 3573.0], [18.96621026515961, 3573.0]], \"data04\": [[20.08779029369354, 0.0], [21.097212319374083, 0.0], [21.097212319374083, 4813.0], [20.08779029369354, 4813.0]], \"data05\": [[21.20937032222748, 0.0], [22.218792347908018, 0.0], [22.218792347908018, 1667.0], [21.20937032222748, 1667.0]], \"data06\": [[22.330950350761412, 0.0], [23.34037237644195, 0.0], [23.34037237644195, 6329.0], [22.330950350761412, 6329.0]], \"data07\": [[23.452530379295347, 0.0], [24.461952404975886, 0.0], [24.461952404975886, 14319.0], [23.452530379295347, 14319.0]], \"data08\": [[24.574110407829284, 0.0], [25.583532433509827, 0.0], [25.583532433509827, 32204.0], [24.574110407829284, 32204.0]], \"data09\": [[25.69569043636322, 0.0], [26.70511246204376, 0.0], [26.70511246204376, 46067.0], [25.69569043636322, 46067.0]], \"data10\": [[26.817270464897156, 0.0], [27.826692490577695, 0.0], [27.826692490577695, 47196.0], [26.817270464897156, 47196.0]], \"data11\": [[27.93885049343109, 0.0], [28.94827251911163, 0.0], [28.94827251911163, 86981.0], [27.93885049343109, 86981.0]], \"data12\": [[29.060430521965024, 0.0], [30.069852547645564, 0.0], [30.069852547645564, 107649.0], [29.060430521965024, 107649.0]], \"data13\": [[30.182010550498962, 0.0], [31.191432576179505, 0.0], [31.191432576179505, 93143.0], [30.182010550498962, 93143.0]], \"data14\": [[31.3035905790329, 0.0], [32.313012604713435, 0.0], [32.313012604713435, 83961.0], [31.3035905790329, 83961.0]], \"data15\": [[32.42517060756683, 0.0], [33.43459263324738, 0.0], [33.43459263324738, 74860.0], [32.42517060756683, 74860.0]], \"data16\": [[33.546750636100775, 0.0], [34.55617266178132, 0.0], [34.55617266178132, 38000.0], [33.546750636100775, 38000.0]], \"data17\": [[34.6683306646347, 0.0], [35.677752690315245, 0.0], [35.677752690315245, 21861.0], [34.6683306646347, 21861.0]], \"data18\": [[35.789910693168636, 0.0], [36.799332718849186, 0.0], [36.799332718849186, 5181.0], [35.789910693168636, 5181.0]], \"data19\": [[36.91149072170258, 0.0], [37.92091274738311, 0.0], [37.92091274738311, 582.0], [36.91149072170258, 582.0]], \"data20\": [[38.033070750236504, 0.0], [39.042492775917054, 0.0], [39.042492775917054, 561.0], [38.033070750236504, 561.0]]}, \"id\": \"el766066139987221281712\", \"plugins\": [{\"type\": \"reset\"}, {\"type\": \"zoom\", \"button\": true, \"enabled\": false}, {\"type\": \"boxzoom\", \"button\": true, \"enabled\": false}]});\n",
       "            })\n",
       "         });\n",
       "}\n",
       "</script>"
      ],
      "text/plain": [
       "<Figure size 1200x800 with 1 Axes>"
      ]
     },
     "metadata": {
      "needs_background": "light"
     },
     "output_type": "display_data"
    }
   ],
   "source": [
    "import pandas as pd\n",
    "\n",
    "size, scale = 1000, 10\n",
    "commutes = pd.Series(np.array(cv))\n",
    "\n",
    "commutes.plot.hist(grid=True, bins=20, rwidth=0.9,\n",
    "                   color='#607c8e')\n",
    "plt.xlabel('Counts')\n",
    "plt.ylabel('Speed')\n",
    "plt.grid(axis='y', alpha=0.75)"
   ]
  },
  {
   "cell_type": "code",
   "execution_count": 10,
   "id": "03755193-2baf-4854-837d-83d4918db8fa",
   "metadata": {},
   "outputs": [
    {
     "name": "stderr",
     "output_type": "stream",
     "text": [
      "  0%|          | 0/51 [00:00<?, ?it/s]"
     ]
    },
    {
     "name": "stdout",
     "output_type": "stream",
     "text": [
      "62 routes\n"
     ]
    },
    {
     "name": "stderr",
     "output_type": "stream",
     "text": [
      "  2%|▏         | 1/51 [00:00<00:18,  2.65it/s]"
     ]
    },
    {
     "name": "stdout",
     "output_type": "stream",
     "text": [
      "[tensor(0.5604), tensor(0.0854), tensor(0.1705)] [tensor(0.1356), tensor(0.0422), tensor(0.1657)]\n"
     ]
    },
    {
     "name": "stderr",
     "output_type": "stream",
     "text": [
      "  4%|▍         | 2/51 [00:00<00:13,  3.52it/s]"
     ]
    },
    {
     "name": "stdout",
     "output_type": "stream",
     "text": [
      "[tensor(0.5609), tensor(0.1613), tensor(0.2459)] [tensor(0.1815), tensor(0.0621), tensor(0.1975)]\n"
     ]
    },
    {
     "name": "stderr",
     "output_type": "stream",
     "text": [
      "  6%|▌         | 3/51 [00:01<00:19,  2.45it/s]"
     ]
    },
    {
     "name": "stdout",
     "output_type": "stream",
     "text": [
      "[tensor(0.6198), tensor(0.1613), tensor(0.2571)] [tensor(0.3081), tensor(0.0855), tensor(0.2955)]\n"
     ]
    },
    {
     "name": "stderr",
     "output_type": "stream",
     "text": [
      "  8%|▊         | 4/51 [00:01<00:18,  2.54it/s]"
     ]
    },
    {
     "name": "stdout",
     "output_type": "stream",
     "text": [
      "[tensor(0.6198), tensor(0.1613), tensor(0.2571)] [tensor(0.3081), tensor(0.1175), tensor(0.4180)]\n"
     ]
    },
    {
     "name": "stderr",
     "output_type": "stream",
     "text": [
      " 10%|▉         | 5/51 [00:01<00:16,  2.82it/s]"
     ]
    },
    {
     "name": "stdout",
     "output_type": "stream",
     "text": [
      "[tensor(0.6198), tensor(0.1613), tensor(0.2571)] [tensor(0.3081), tensor(0.1175), tensor(0.4180)]\n"
     ]
    },
    {
     "name": "stderr",
     "output_type": "stream",
     "text": [
      " 12%|█▏        | 6/51 [00:04<00:57,  1.28s/it]"
     ]
    },
    {
     "name": "stdout",
     "output_type": "stream",
     "text": [
      "[tensor(0.6198), tensor(0.1967), tensor(0.3354)] [tensor(0.3081), tensor(0.1175), tensor(0.4180)]\n"
     ]
    },
    {
     "name": "stderr",
     "output_type": "stream",
     "text": [
      " 14%|█▎        | 7/51 [00:09<01:39,  2.26s/it]"
     ]
    },
    {
     "name": "stdout",
     "output_type": "stream",
     "text": [
      "[tensor(0.6198), tensor(0.1967), tensor(0.3354)] [tensor(0.3147), tensor(0.1175), tensor(0.4308)]\n"
     ]
    },
    {
     "name": "stderr",
     "output_type": "stream",
     "text": [
      " 16%|█▌        | 8/51 [00:10<01:20,  1.88s/it]"
     ]
    },
    {
     "name": "stdout",
     "output_type": "stream",
     "text": [
      "[tensor(0.6198), tensor(0.1967), tensor(0.3354)] [tensor(0.3147), tensor(0.1175), tensor(0.4308)]\n"
     ]
    },
    {
     "name": "stderr",
     "output_type": "stream",
     "text": [
      " 20%|█▉        | 10/51 [00:10<00:42,  1.03s/it]"
     ]
    },
    {
     "name": "stdout",
     "output_type": "stream",
     "text": [
      "[tensor(0.6343), tensor(0.1967), tensor(0.3354)] [tensor(0.3610), tensor(0.1175), tensor(0.4308)]\n",
      "[tensor(0.6343), tensor(0.1967), tensor(0.3354)] [tensor(0.3610), tensor(0.1175), tensor(0.4308)]\n"
     ]
    },
    {
     "name": "stderr",
     "output_type": "stream",
     "text": [
      " 22%|██▏       | 11/51 [00:11<00:33,  1.21it/s]"
     ]
    },
    {
     "name": "stdout",
     "output_type": "stream",
     "text": [
      "[tensor(0.6343), tensor(0.1967), tensor(0.3354)] [tensor(0.3610), tensor(0.1175), tensor(0.4308)]\n"
     ]
    },
    {
     "name": "stderr",
     "output_type": "stream",
     "text": [
      " 24%|██▎       | 12/51 [00:11<00:25,  1.53it/s]"
     ]
    },
    {
     "name": "stdout",
     "output_type": "stream",
     "text": [
      "[tensor(0.6343), tensor(0.1967), tensor(0.3354)] [tensor(0.3610), tensor(0.1215), tensor(0.4308)]\n"
     ]
    },
    {
     "name": "stderr",
     "output_type": "stream",
     "text": [
      " 25%|██▌       | 13/51 [00:15<01:09,  1.83s/it]"
     ]
    },
    {
     "name": "stdout",
     "output_type": "stream",
     "text": [
      "[tensor(0.6343), tensor(0.1967), tensor(0.3354)] [tensor(0.3610), tensor(0.1215), tensor(0.4308)]\n"
     ]
    },
    {
     "name": "stderr",
     "output_type": "stream",
     "text": [
      " 27%|██▋       | 14/51 [00:19<01:29,  2.41s/it]"
     ]
    },
    {
     "name": "stdout",
     "output_type": "stream",
     "text": [
      "[tensor(0.6343), tensor(0.1967), tensor(0.3354)] [tensor(0.3610), tensor(0.1215), tensor(0.4765)]\n"
     ]
    },
    {
     "name": "stderr",
     "output_type": "stream",
     "text": [
      " 29%|██▉       | 15/51 [00:23<01:41,  2.82s/it]"
     ]
    },
    {
     "name": "stdout",
     "output_type": "stream",
     "text": [
      "[tensor(0.6343), tensor(0.1967), tensor(0.3354)] [tensor(0.3610), tensor(0.1215), tensor(0.4765)]\n"
     ]
    },
    {
     "name": "stderr",
     "output_type": "stream",
     "text": [
      " 31%|███▏      | 16/51 [00:26<01:41,  2.91s/it]"
     ]
    },
    {
     "name": "stdout",
     "output_type": "stream",
     "text": [
      "[tensor(0.6343), tensor(0.1967), tensor(0.3354)] [tensor(0.3610), tensor(0.1215), tensor(0.4765)]\n"
     ]
    },
    {
     "name": "stderr",
     "output_type": "stream",
     "text": [
      " 33%|███▎      | 17/51 [00:27<01:14,  2.21s/it]"
     ]
    },
    {
     "name": "stdout",
     "output_type": "stream",
     "text": [
      "[tensor(0.6343), tensor(0.1967), tensor(0.3354)] [tensor(0.3996), tensor(0.1215), tensor(0.4765)]\n"
     ]
    },
    {
     "name": "stderr",
     "output_type": "stream",
     "text": [
      " 35%|███▌      | 18/51 [00:31<01:34,  2.87s/it]"
     ]
    },
    {
     "name": "stdout",
     "output_type": "stream",
     "text": [
      "[tensor(0.6343), tensor(0.1967), tensor(0.3354)] [tensor(0.3996), tensor(0.1215), tensor(0.4765)]\n"
     ]
    },
    {
     "name": "stderr",
     "output_type": "stream",
     "text": [
      " 39%|███▉      | 20/51 [00:32<00:50,  1.64s/it]"
     ]
    },
    {
     "name": "stdout",
     "output_type": "stream",
     "text": [
      "[tensor(0.6343), tensor(0.1967), tensor(0.3354)] [tensor(0.3996), tensor(0.1215), tensor(0.4765)]\n",
      "[tensor(0.6343), tensor(0.1967), tensor(0.3354)] [tensor(0.3996), tensor(0.1215), tensor(0.4765)]\n"
     ]
    },
    {
     "name": "stderr",
     "output_type": "stream",
     "text": [
      " 43%|████▎     | 22/51 [00:33<00:27,  1.07it/s]"
     ]
    },
    {
     "name": "stdout",
     "output_type": "stream",
     "text": [
      "[tensor(0.6343), tensor(0.1967), tensor(0.3354)] [tensor(0.3996), tensor(0.1215), tensor(0.4765)]\n",
      "[tensor(0.6343), tensor(0.1967), tensor(0.3354)] [tensor(0.3996), tensor(0.1215), tensor(0.4765)]\n"
     ]
    },
    {
     "name": "stderr",
     "output_type": "stream",
     "text": [
      " 45%|████▌     | 23/51 [00:33<00:19,  1.40it/s]"
     ]
    },
    {
     "name": "stdout",
     "output_type": "stream",
     "text": [
      "[tensor(0.6343), tensor(0.1967), tensor(0.3354)] [tensor(0.3996), tensor(0.1215), tensor(0.4765)]\n"
     ]
    },
    {
     "name": "stderr",
     "output_type": "stream",
     "text": [
      " 47%|████▋     | 24/51 [00:34<00:20,  1.29it/s]"
     ]
    },
    {
     "name": "stdout",
     "output_type": "stream",
     "text": [
      "[tensor(0.6343), tensor(0.1967), tensor(0.3354)] [tensor(0.3996), tensor(0.1277), tensor(0.5504)]\n"
     ]
    },
    {
     "name": "stderr",
     "output_type": "stream",
     "text": [
      " 49%|████▉     | 25/51 [00:35<00:19,  1.33it/s]"
     ]
    },
    {
     "name": "stdout",
     "output_type": "stream",
     "text": [
      "[tensor(0.6343), tensor(0.2819), tensor(0.3354)] [tensor(0.5309), tensor(0.1277), tensor(0.5504)]\n"
     ]
    },
    {
     "name": "stderr",
     "output_type": "stream",
     "text": [
      " 51%|█████     | 26/51 [00:35<00:18,  1.34it/s]"
     ]
    },
    {
     "name": "stdout",
     "output_type": "stream",
     "text": [
      "[tensor(0.6343), tensor(0.2819), tensor(0.3354)] [tensor(0.5309), tensor(0.1277), tensor(0.5504)]\n"
     ]
    },
    {
     "name": "stderr",
     "output_type": "stream",
     "text": [
      " 53%|█████▎    | 27/51 [00:35<00:14,  1.67it/s]"
     ]
    },
    {
     "name": "stdout",
     "output_type": "stream",
     "text": [
      "[tensor(0.6343), tensor(0.2819), tensor(0.3354)] [tensor(0.5309), tensor(0.1277), tensor(0.5504)]\n"
     ]
    },
    {
     "name": "stderr",
     "output_type": "stream",
     "text": [
      " 55%|█████▍    | 28/51 [00:36<00:11,  2.07it/s]"
     ]
    },
    {
     "name": "stdout",
     "output_type": "stream",
     "text": [
      "[tensor(0.6640), tensor(0.2819), tensor(0.3354)] [tensor(0.5309), tensor(0.1277), tensor(0.5504)]\n"
     ]
    },
    {
     "name": "stderr",
     "output_type": "stream",
     "text": [
      " 57%|█████▋    | 29/51 [00:36<00:10,  2.10it/s]"
     ]
    },
    {
     "name": "stdout",
     "output_type": "stream",
     "text": [
      "[tensor(0.6640), tensor(0.2819), tensor(0.3354)] [tensor(0.5309), tensor(0.1277), tensor(0.5504)]\n"
     ]
    },
    {
     "name": "stderr",
     "output_type": "stream",
     "text": [
      " 59%|█████▉    | 30/51 [00:36<00:08,  2.47it/s]"
     ]
    },
    {
     "name": "stdout",
     "output_type": "stream",
     "text": [
      "[tensor(0.6640), tensor(0.2819), tensor(0.3354)] [tensor(0.5309), tensor(0.1277), tensor(0.5504)]\n"
     ]
    },
    {
     "name": "stderr",
     "output_type": "stream",
     "text": [
      " 61%|██████    | 31/51 [00:39<00:22,  1.13s/it]"
     ]
    },
    {
     "name": "stdout",
     "output_type": "stream",
     "text": [
      "[tensor(0.6640), tensor(0.2819), tensor(0.3354)] [tensor(0.5309), tensor(0.1277), tensor(0.5664)]\n"
     ]
    },
    {
     "name": "stderr",
     "output_type": "stream",
     "text": [
      " 63%|██████▎   | 32/51 [00:40<00:20,  1.06s/it]"
     ]
    },
    {
     "name": "stdout",
     "output_type": "stream",
     "text": [
      "[tensor(0.6640), tensor(0.2819), tensor(0.3354)] [tensor(0.5309), tensor(0.1277), tensor(0.5664)]\n"
     ]
    },
    {
     "name": "stderr",
     "output_type": "stream",
     "text": [
      " 65%|██████▍   | 33/51 [00:40<00:15,  1.19it/s]"
     ]
    },
    {
     "name": "stdout",
     "output_type": "stream",
     "text": [
      "[tensor(0.6640), tensor(0.2819), tensor(0.3354)] [tensor(0.5309), tensor(0.1277), tensor(0.5664)]\n"
     ]
    },
    {
     "name": "stderr",
     "output_type": "stream",
     "text": [
      " 67%|██████▋   | 34/51 [00:42<00:17,  1.02s/it]"
     ]
    },
    {
     "name": "stdout",
     "output_type": "stream",
     "text": [
      "[tensor(0.6640), tensor(0.2819), tensor(0.3354)] [tensor(0.5309), tensor(0.1277), tensor(0.6338)]\n"
     ]
    },
    {
     "name": "stderr",
     "output_type": "stream",
     "text": [
      " 69%|██████▊   | 35/51 [00:42<00:13,  1.22it/s]"
     ]
    },
    {
     "name": "stdout",
     "output_type": "stream",
     "text": [
      "[tensor(0.6640), tensor(0.2819), tensor(0.3354)] [tensor(0.5309), tensor(0.1277), tensor(0.6338)]\n"
     ]
    },
    {
     "name": "stderr",
     "output_type": "stream",
     "text": [
      " 71%|███████   | 36/51 [00:43<00:12,  1.18it/s]"
     ]
    },
    {
     "name": "stdout",
     "output_type": "stream",
     "text": [
      "[tensor(0.6640), tensor(0.2819), tensor(0.3354)] [tensor(0.5309), tensor(0.1277), tensor(0.6338)]\n"
     ]
    },
    {
     "name": "stderr",
     "output_type": "stream",
     "text": [
      " 73%|███████▎  | 37/51 [00:44<00:11,  1.17it/s]"
     ]
    },
    {
     "name": "stdout",
     "output_type": "stream",
     "text": [
      "[tensor(0.6640), tensor(0.2819), tensor(0.3354)] [tensor(0.5309), tensor(0.1277), tensor(0.6338)]\n"
     ]
    },
    {
     "name": "stderr",
     "output_type": "stream",
     "text": [
      " 75%|███████▍  | 38/51 [00:44<00:09,  1.35it/s]"
     ]
    },
    {
     "name": "stdout",
     "output_type": "stream",
     "text": [
      "[tensor(0.6640), tensor(0.2819), tensor(0.3354)] [tensor(0.5309), tensor(0.1277), tensor(0.6338)]\n"
     ]
    },
    {
     "name": "stderr",
     "output_type": "stream",
     "text": [
      " 76%|███████▋  | 39/51 [00:46<00:12,  1.01s/it]"
     ]
    },
    {
     "name": "stdout",
     "output_type": "stream",
     "text": [
      "[tensor(0.6640), tensor(0.2819), tensor(0.3354)] [tensor(0.5309), tensor(0.1277), tensor(0.6338)]\n"
     ]
    },
    {
     "name": "stderr",
     "output_type": "stream",
     "text": [
      " 80%|████████  | 41/51 [00:48<00:09,  1.01it/s]"
     ]
    },
    {
     "name": "stdout",
     "output_type": "stream",
     "text": [
      "[tensor(0.6640), tensor(0.2819), tensor(0.3354)] [tensor(0.5309), tensor(0.1277), tensor(0.6338)]\n",
      "[tensor(0.6640), tensor(0.2819), tensor(0.3354)] [tensor(0.5309), tensor(0.1277), tensor(0.6338)]\n"
     ]
    },
    {
     "name": "stderr",
     "output_type": "stream",
     "text": [
      " 82%|████████▏ | 42/51 [00:53<00:18,  2.06s/it]"
     ]
    },
    {
     "name": "stdout",
     "output_type": "stream",
     "text": [
      "[tensor(0.6640), tensor(0.2819), tensor(0.3354)] [tensor(0.5309), tensor(0.1277), tensor(0.8263)]\n"
     ]
    },
    {
     "name": "stderr",
     "output_type": "stream",
     "text": [
      " 84%|████████▍ | 43/51 [00:55<00:15,  1.96s/it]"
     ]
    },
    {
     "name": "stdout",
     "output_type": "stream",
     "text": [
      "[tensor(0.6640), tensor(0.2819), tensor(0.3354)] [tensor(0.5309), tensor(0.1277), tensor(0.8263)]\n"
     ]
    },
    {
     "name": "stderr",
     "output_type": "stream",
     "text": [
      " 86%|████████▋ | 44/51 [00:56<00:11,  1.62s/it]"
     ]
    },
    {
     "name": "stdout",
     "output_type": "stream",
     "text": [
      "[tensor(0.6640), tensor(0.2819), tensor(0.3354)] [tensor(0.5309), tensor(0.1277), tensor(0.8263)]\n"
     ]
    },
    {
     "name": "stderr",
     "output_type": "stream",
     "text": [
      " 90%|█████████ | 46/51 [00:56<00:04,  1.04it/s]"
     ]
    },
    {
     "name": "stdout",
     "output_type": "stream",
     "text": [
      "[tensor(0.6640), tensor(0.2819), tensor(0.3354)] [tensor(0.5309), tensor(0.1277), tensor(0.8263)]\n",
      "[tensor(0.6640), tensor(0.2819), tensor(0.3354)] [tensor(0.5309), tensor(0.1277), tensor(0.8263)]\n"
     ]
    },
    {
     "name": "stderr",
     "output_type": "stream",
     "text": [
      " 92%|█████████▏| 47/51 [00:56<00:02,  1.37it/s]"
     ]
    },
    {
     "name": "stdout",
     "output_type": "stream",
     "text": [
      "[tensor(0.6640), tensor(0.2819), tensor(0.3354)] [tensor(0.5309), tensor(0.1277), tensor(0.8263)]\n"
     ]
    },
    {
     "name": "stderr",
     "output_type": "stream",
     "text": [
      " 94%|█████████▍| 48/51 [00:57<00:02,  1.44it/s]"
     ]
    },
    {
     "name": "stdout",
     "output_type": "stream",
     "text": [
      "[tensor(0.6640), tensor(0.2819), tensor(0.3354)] [tensor(0.5309), tensor(0.1277), tensor(0.8263)]\n"
     ]
    },
    {
     "name": "stderr",
     "output_type": "stream",
     "text": [
      " 98%|█████████▊| 50/51 [00:58<00:00,  1.80it/s]"
     ]
    },
    {
     "name": "stdout",
     "output_type": "stream",
     "text": [
      "[tensor(0.6640), tensor(0.2819), tensor(0.3354)] [tensor(0.5309), tensor(0.1277), tensor(0.8263)]\n",
      "[tensor(0.6640), tensor(0.2819), tensor(0.3354)] [tensor(0.5309), tensor(0.1277), tensor(0.8263)]\n"
     ]
    },
    {
     "name": "stderr",
     "output_type": "stream",
     "text": [
      "100%|██████████| 51/51 [00:59<00:00,  1.16s/it]\n",
      "  0%|          | 0/11 [00:00<?, ?it/s]"
     ]
    },
    {
     "name": "stdout",
     "output_type": "stream",
     "text": [
      "[tensor(0.6640), tensor(0.2819), tensor(0.3354)] [tensor(0.5309), tensor(0.1277), tensor(0.8263)]\n"
     ]
    },
    {
     "name": "stderr",
     "output_type": "stream",
     "text": [
      "  9%|▉         | 1/11 [00:00<00:01,  6.53it/s]"
     ]
    },
    {
     "name": "stdout",
     "output_type": "stream",
     "text": [
      "[tensor(0.6640), tensor(0.2819), tensor(0.3354)] [tensor(0.5309), tensor(0.1277), tensor(0.8263)]\n"
     ]
    },
    {
     "name": "stderr",
     "output_type": "stream",
     "text": [
      " 27%|██▋       | 3/11 [00:00<00:01,  4.14it/s]"
     ]
    },
    {
     "name": "stdout",
     "output_type": "stream",
     "text": [
      "[tensor(0.6640), tensor(0.2819), tensor(0.3354)] [tensor(0.5309), tensor(0.1277), tensor(0.8263)]\n",
      "[tensor(0.6640), tensor(0.2819), tensor(0.3354)] [tensor(0.5309), tensor(0.1277), tensor(0.8263)]\n"
     ]
    },
    {
     "name": "stderr",
     "output_type": "stream",
     "text": [
      " 36%|███▋      | 4/11 [00:01<00:02,  2.81it/s]"
     ]
    },
    {
     "name": "stdout",
     "output_type": "stream",
     "text": [
      "[tensor(0.6640), tensor(0.2819), tensor(0.3354)] [tensor(0.5309), tensor(0.1277), tensor(0.8263)]\n"
     ]
    },
    {
     "name": "stderr",
     "output_type": "stream",
     "text": [
      " 45%|████▌     | 5/11 [00:01<00:02,  2.71it/s]"
     ]
    },
    {
     "name": "stdout",
     "output_type": "stream",
     "text": [
      "[tensor(0.6640), tensor(0.2819), tensor(0.3354)] [tensor(0.5309), tensor(0.1277), tensor(0.8263)]\n"
     ]
    },
    {
     "name": "stderr",
     "output_type": "stream",
     "text": [
      " 55%|█████▍    | 6/11 [00:02<00:01,  2.75it/s]"
     ]
    },
    {
     "name": "stdout",
     "output_type": "stream",
     "text": [
      "[tensor(0.6640), tensor(0.2819), tensor(0.3354)] [tensor(0.5309), tensor(0.1277), tensor(0.8263)]\n"
     ]
    },
    {
     "name": "stderr",
     "output_type": "stream",
     "text": [
      " 64%|██████▎   | 7/11 [00:03<00:02,  1.69it/s]"
     ]
    },
    {
     "name": "stdout",
     "output_type": "stream",
     "text": [
      "[tensor(0.6640), tensor(0.2819), tensor(0.3354)] [tensor(0.5309), tensor(0.1277), tensor(0.8263)]\n"
     ]
    },
    {
     "name": "stderr",
     "output_type": "stream",
     "text": [
      " 73%|███████▎  | 8/11 [00:04<00:02,  1.17it/s]"
     ]
    },
    {
     "name": "stdout",
     "output_type": "stream",
     "text": [
      "[tensor(0.6640), tensor(0.2819), tensor(0.3354)] [tensor(0.5309), tensor(0.1277), tensor(0.8263)]\n"
     ]
    },
    {
     "name": "stderr",
     "output_type": "stream",
     "text": [
      " 82%|████████▏ | 9/11 [00:05<00:01,  1.14it/s]"
     ]
    },
    {
     "name": "stdout",
     "output_type": "stream",
     "text": [
      "[tensor(0.6640), tensor(0.2819), tensor(0.3354)] [tensor(0.5309), tensor(0.1277), tensor(0.8263)]\n"
     ]
    },
    {
     "name": "stderr",
     "output_type": "stream",
     "text": [
      "100%|██████████| 11/11 [00:06<00:00,  1.63it/s]"
     ]
    },
    {
     "name": "stdout",
     "output_type": "stream",
     "text": [
      "[tensor(0.6640), tensor(0.2819), tensor(0.3354)] [tensor(0.5309), tensor(0.1493), tensor(0.8263)]\n",
      "[tensor(0.6640), tensor(0.2819), tensor(0.3354)] [tensor(0.5309), tensor(0.1493), tensor(0.8263)]\n",
      "86609 9797 [33, 58, 17, 45, 47, 59, 9, 17, 44, 16, 8, 29]\n"
     ]
    },
    {
     "name": "stderr",
     "output_type": "stream",
     "text": [
      "\n"
     ]
    }
   ],
   "source": [
    "class SimDataset(Dataset):\n",
    "    def __init__(self, length, i, o):\n",
    "        self.len = length\n",
    "        self.i = i\n",
    "        self.o = o\n",
    "\n",
    "    def __len__(self):\n",
    "        return self.len\n",
    "\n",
    "    def __getitem__(self, idx):\n",
    "        return self.i[idx], self.o[idx]\n",
    "\n",
    "#PLAN: Model dobi phi, v in IMU, ter phi v nekaj tockah\n",
    "# v prihodnosti in mora izracunati potreben navor \n",
    "# da se doseze tisti kot\n",
    "\n",
    "prev_data = 100\n",
    "\n",
    "group_phi_fut = 20\n",
    "fwd_data = [group_phi_fut*i for i in range(1, 4)]\n",
    "M_prev_len = 50\n",
    "\n",
    "all_routes = len(routes)\n",
    "print(f\"{all_routes} routes\")\n",
    "test_count = int(all_routes*0.2)\n",
    "# test_routes_id = [randrange(all_routes) for _ in range(test_count)]\n",
    "test_routes_id = [33, 58, 17, 45, 47, 59, 9, 17, 44, 16, 8, 29]\n",
    "\n",
    "train_routes = [routes[i] for i in range(all_routes) if i not in test_routes_id]\n",
    "test_routes = [routes[i] for i in range(all_routes) if i in test_routes_id]\n",
    "#Phi, v, IMU_v, IMU_alpha\n",
    "groups = [1, 10, 10, 10]\n",
    "input_length = prev_data//groups[0] + prev_data//groups[1] + 3*prev_data//groups[2] + 3*prev_data//groups[3] + 1 +len(fwd_data)\n",
    "output_length = len(fwd_data)\n",
    "\n",
    "mad1 = [0]*3\n",
    "mad2 = [0]*3\n",
    "def caddy_dataset(train):\n",
    "    i_data = []\n",
    "    o_data = []\n",
    "    routes = train_routes if train else test_routes\n",
    "    for route in tqdm(routes):\n",
    "        for idx in range(prev_data, len(route.v)-fwd_data[-1], 5):\n",
    "            phi = route.phi[idx-prev_data : idx]/maxAngle\n",
    "            phi_fut = route.phi[idx : idx + fwd_data[-1]]/maxAngle\n",
    "            v = route.v[idx-prev_data : idx]/maxSpeed\n",
    "            M = route.M[idx - M_prev_len : idx]/maxTorque\n",
    "            M_fut = route.M[idx : idx + fwd_data[-1]]/maxTorque\n",
    "#             print(phi*maxAngle, end=\"\\n------\\n\")\n",
    "#             print(phi_fut*maxAngle, end=\"\\n------\\n\")\n",
    "#             print(route.M[idx], M_fut, end=\"\\n------\\n\")\n",
    "            \n",
    "            phi = phi.reshape(-1, groups[0]).mean(axis=1)\n",
    "            phi_fut = phi_fut.reshape(-1, group_phi_fut).mean(axis=1)\n",
    "            v = v.reshape(-1, groups[1]).mean(axis=1)\n",
    "            M = M.reshape(-1, M_prev_len).mean(axis=1)\n",
    "            M_fut = M_fut.reshape(-1, group_phi_fut).mean(axis=1)\n",
    "#             print(phi*maxAngle, end=\"\\n------\\n\")\n",
    "#             print(phi_fut*maxAngle, end=\"\\n------\\n\")\n",
    "            \n",
    "            IMU_v = [(route.IMU_v[i][idx-prev_data:idx]/maxVDot[i]).reshape(-1, groups[2]).mean(axis=1) for i in range(3)]\n",
    "            IMU_alpha = [(route.IMU_alpha[i][idx-prev_data:idx]/maxAlphaDot[i]).reshape(-1, groups[3]).mean(axis=1) for i in range(3)]\n",
    "            for i in range(3):\n",
    "                mad1[i] = max(max([abs(a) for a in IMU_v[i]]), mad1[i])\n",
    "            for i in range(3):\n",
    "                mad2[i] = max(max([abs(a) for a in IMU_alpha[i]]), mad2[i])\n",
    "            \n",
    "            o = torch.zeros((output_length,))\n",
    "            for i in range(output_length):\n",
    "                o[i] = M_fut[i]\n",
    "#             print(o)\n",
    "            data = (phi, v, IMU_v[0], IMU_v[1], IMU_v[2], IMU_alpha[0], IMU_alpha[1], IMU_alpha[2], M, phi_fut)\n",
    "            data_input = np.concatenate(data)\n",
    "            i_data.append(data_input)\n",
    "            o_data.append(o)\n",
    "#             return []\n",
    "        print(mad1, mad2)\n",
    "    return SimDataset(len(i_data), i_data, o_data)\n",
    "\n",
    "\n",
    "train_set = caddy_dataset(True)\n",
    "test_set = caddy_dataset(False)\n",
    "\n",
    "print(len(train_set), len(test_set), test_routes_id)"
   ]
  },
  {
   "cell_type": "code",
   "execution_count": 263,
   "id": "55c3a0c3-7ba7-4b1f-8b38-00136c7365d7",
   "metadata": {},
   "outputs": [
    {
     "name": "stdout",
     "output_type": "stream",
     "text": [
      "1353\n",
      "154\n"
     ]
    }
   ],
   "source": [
    "train_dataloader = DataLoader(train_set, batch_size=64, shuffle=True, drop_last=True)\n",
    "test_dataloader = DataLoader(test_set, batch_size=64, shuffle=False)\n",
    "print(len(train_dataloader))\n",
    "print(len(test_dataloader))"
   ]
  },
  {
   "cell_type": "code",
   "execution_count": 265,
   "id": "388e8f3b-f9b6-4bc5-b066-4a68224f6d9d",
   "metadata": {},
   "outputs": [
    {
     "name": "stdout",
     "output_type": "stream",
     "text": [
      "264\n"
     ]
    }
   ],
   "source": [
    "class NeuralNetwork(nn.Module):\n",
    "    def __init__(self):\n",
    "        super(NeuralNetwork, self).__init__()\n",
    "        self.linear_relu_stack = nn.Sequential(\n",
    "            nn.Linear(input_length, 64),\n",
    "            nn.ReLU(),\n",
    "            nn.Linear(64, 64),\n",
    "            nn.ReLU(),\n",
    "            nn.Linear(64, 32),\n",
    "            nn.ReLU(),\n",
    "            nn.Linear(32, output_length),\n",
    "            nn.Tanh()\n",
    "        )\n",
    "\n",
    "        \n",
    "    def forward(self, x):\n",
    "        return self.linear_relu_stack(x)\n",
    "print(input_length)"
   ]
  },
  {
   "cell_type": "code",
   "execution_count": 266,
   "id": "123363c8-a482-44a0-b016-8bf89fab1cbf",
   "metadata": {},
   "outputs": [
    {
     "name": "stdout",
     "output_type": "stream",
     "text": [
      "torch.Size([64, 264])\n",
      "torch.Size([64])\n",
      "torch.Size([64, 64])\n",
      "torch.Size([64])\n",
      "torch.Size([32, 64])\n",
      "torch.Size([32])\n",
      "torch.Size([3, 32])\n",
      "torch.Size([3])\n",
      "23299\n"
     ]
    }
   ],
   "source": [
    "def train_loop(dataloader, model, loss_fn, optimizer, debug):\n",
    "    size = len(dataloader.dataset)\n",
    "    for X, y in dataloader:\n",
    "        # Compute prediction and loss\n",
    "        pred = model(X)\n",
    "        loss = loss_fn(pred, y)\n",
    "\n",
    "        # Backpropagation\n",
    "        optimizer.zero_grad()\n",
    "        loss.backward()\n",
    "        optimizer.step()\n",
    "    if debug:\n",
    "        loss = loss.item()\n",
    "        print(f\"Train loss: {loss}\")\n",
    "    return loss\n",
    "\n",
    "def test_loop(dataloader, model, loss_fn):\n",
    "    size = len(dataloader.dataset)\n",
    "    num_batches = len(dataloader)\n",
    "    test_loss = 0\n",
    "\n",
    "    with torch.no_grad():\n",
    "        for X, y in dataloader:\n",
    "            pred = model(X)\n",
    "            test_loss += loss_fn(pred, y).item()\n",
    "\n",
    "    test_loss /= num_batches\n",
    "    print(f\"Test  loss: {test_loss} \\n\")\n",
    "    return test_loss\n",
    "\n",
    "model = NeuralNetwork()\n",
    "for p in model.parameters():\n",
    "    print(p.shape)\n",
    "print(sum(p.numel() for p in model.parameters() if p.requires_grad))\n",
    "loss_fn = nn.MSELoss()\n",
    "optimizer = torch.optim.Adam(model.parameters(), lr=1e-5)"
   ]
  },
  {
   "cell_type": "markdown",
   "id": "8f2adbde-6266-4670-a797-4b532f28e875",
   "metadata": {},
   "source": [
    "epochs = 50\n",
    "skip = 1\n",
    "loss_t = []\n",
    "loss_e = []\n",
    "for t in range(epochs):\n",
    "    if t%skip == 0:\n",
    "        print(f\"Epoch {t}\")\n",
    "    loss_t.append(train_loop(train_dataloader, model, loss_fn, optimizer, t%skip==0))\n",
    "    if t%skip == 0:\n",
    "        loss_e.append(test_loop(test_dataloader, model, loss_fn))\n",
    "\n",
    "plt_skip = 5\n",
    "\n",
    "plt.plot(np.linspace(1, epochs-plt_skip, epochs-plt_skip), loss_t[plt_skip:])\n",
    "plt.plot(np.linspace(1, epochs-plt_skip, epochs-plt_skip), loss_e[plt_skip:])"
   ]
  },
  {
   "cell_type": "code",
   "execution_count": 279,
   "id": "08f60d0f-0f9b-40e6-b7e8-d4d2b14ad620",
   "metadata": {},
   "outputs": [
    {
     "name": "stdout",
     "output_type": "stream",
     "text": [
      "tensor([-0.1283, -0.1260, -0.1262], grad_fn=<MulBackward0>)\n"
     ]
    },
    {
     "data": {
      "text/plain": [
       "[<matplotlib.lines.Line2D at 0x7feb81ac6070>]"
      ]
     },
     "execution_count": 279,
     "metadata": {},
     "output_type": "execute_result"
    },
    {
     "data": {
      "image/png": "[encoded data removed]",
      "text/html": [
       "\n",
       "\n",
       "<style>\n",
       "\n",
       "</style>\n",
       "\n",
       "<div id=\"fig_el11398140649471330528982599029\"></div>\n",
       "<script>\n",
       "function mpld3_load_lib(url, callback){\n",
       "  var s = document.createElement('script');\n",
       "  s.src = url;\n",
       "  s.async = true;\n",
       "  s.onreadystatechange = s.onload = callback;\n",
       "  s.onerror = function(){console.warn(\"failed to load library \" + url);};\n",
       "  document.getElementsByTagName(\"head\")[0].appendChild(s);\n",
       "}\n",
       "\n",
       "if(typeof(mpld3) !== \"undefined\" && mpld3._mpld3IsLoaded){\n",
       "   // already loaded: just create the figure\n",
       "   !function(mpld3){\n",
       "       \n",
       "       mpld3.draw_figure(\"fig_el11398140649471330528982599029\", {\"width\": 1200.0, \"height\": 800.0, \"axes\": [{\"bbox\": [0.125, 0.125, 0.775, 0.755], \"xlim\": [-0.15000000000000002, 3.15], \"ylim\": [-1.1, 1.1], \"xdomain\": [-0.15000000000000002, 3.15], \"ydomain\": [-1.1, 1.1], \"xscale\": \"linear\", \"yscale\": \"linear\", \"axes\": [{\"position\": \"bottom\", \"nticks\": 9, \"tickvalues\": null, \"tickformat_formatter\": \"\", \"tickformat\": null, \"scale\": \"linear\", \"fontsize\": 10.0, \"grid\": {\"gridOn\": false}, \"visible\": true}, {\"position\": \"left\", \"nticks\": 11, \"tickvalues\": null, \"tickformat_formatter\": \"\", \"tickformat\": null, \"scale\": \"linear\", \"fontsize\": 10.0, \"grid\": {\"gridOn\": false}, \"visible\": true}], \"axesbg\": \"#FFFFFF\", \"axesbgalpha\": null, \"zoomable\": true, \"id\": \"el11398140649474820176\", \"lines\": [{\"data\": \"data01\", \"xindex\": 0, \"yindex\": 1, \"coordinates\": \"data\", \"id\": \"el11398140649469743600\", \"color\": \"#1F77B4\", \"linewidth\": 1.5, \"dasharray\": \"none\", \"alpha\": 1, \"zorder\": 2, \"drawstyle\": \"default\"}, {\"data\": \"data01\", \"xindex\": 0, \"yindex\": 2, \"coordinates\": \"data\", \"id\": \"el11398140649469744512\", \"color\": \"#FF7F0E\", \"linewidth\": 1.5, \"dasharray\": \"none\", \"alpha\": 1, \"zorder\": 2, \"drawstyle\": \"default\"}, {\"data\": \"data01\", \"xindex\": 0, \"yindex\": 3, \"coordinates\": \"data\", \"id\": \"el11398140649469745424\", \"color\": \"#2CA02C\", \"linewidth\": 1.5, \"dasharray\": \"none\", \"alpha\": 1, \"zorder\": 2, \"drawstyle\": \"default\"}, {\"data\": \"data01\", \"xindex\": 0, \"yindex\": 4, \"coordinates\": \"data\", \"id\": \"el11398140649469746336\", \"color\": \"#D62728\", \"linewidth\": 1.5, \"dasharray\": \"none\", \"alpha\": 1, \"zorder\": 2, \"drawstyle\": \"default\"}, {\"data\": \"data01\", \"xindex\": 0, \"yindex\": 5, \"coordinates\": \"data\", \"id\": \"el11398140649469599856\", \"color\": \"#9467BD\", \"linewidth\": 1.5, \"dasharray\": \"none\", \"alpha\": 1, \"zorder\": 2, \"drawstyle\": \"default\"}], \"paths\": [], \"markers\": [], \"texts\": [], \"collections\": [], \"images\": [], \"sharex\": [], \"sharey\": []}], \"data\": {\"data01\": [[0.0, -0.13055028021335602, -0.12833888828754425, 1.0, -1.0, -0.1748361587524414], [1.5, -0.0036998167634010315, -0.1259901374578476, 1.0, -1.0, -0.1748361587524414], [3.0, 0.052313048392534256, -0.1262000948190689, 1.0, -1.0, -0.1748361587524414]]}, \"id\": \"el11398140649471330528\", \"plugins\": [{\"type\": \"reset\"}, {\"type\": \"zoom\", \"button\": true, \"enabled\": false}, {\"type\": \"boxzoom\", \"button\": true, \"enabled\": false}]});\n",
       "   }(mpld3);\n",
       "}else if(typeof define === \"function\" && define.amd){\n",
       "   // require.js is available: use it to load d3/mpld3\n",
       "   require.config({paths: {d3: \"https://d3js.org/d3.v5\"}});\n",
       "   require([\"d3\"], function(d3){\n",
       "      window.d3 = d3;\n",
       "      mpld3_load_lib(\"https://mpld3.github.io/js/mpld3.v0.5.5.js\", function(){\n",
       "         \n",
       "         mpld3.draw_figure(\"fig_el11398140649471330528982599029\", {\"width\": 1200.0, \"height\": 800.0, \"axes\": [{\"bbox\": [0.125, 0.125, 0.775, 0.755], \"xlim\": [-0.15000000000000002, 3.15], \"ylim\": [-1.1, 1.1], \"xdomain\": [-0.15000000000000002, 3.15], \"ydomain\": [-1.1, 1.1], \"xscale\": \"linear\", \"yscale\": \"linear\", \"axes\": [{\"position\": \"bottom\", \"nticks\": 9, \"tickvalues\": null, \"tickformat_formatter\": \"\", \"tickformat\": null, \"scale\": \"linear\", \"fontsize\": 10.0, \"grid\": {\"gridOn\": false}, \"visible\": true}, {\"position\": \"left\", \"nticks\": 11, \"tickvalues\": null, \"tickformat_formatter\": \"\", \"tickformat\": null, \"scale\": \"linear\", \"fontsize\": 10.0, \"grid\": {\"gridOn\": false}, \"visible\": true}], \"axesbg\": \"#FFFFFF\", \"axesbgalpha\": null, \"zoomable\": true, \"id\": \"el11398140649474820176\", \"lines\": [{\"data\": \"data01\", \"xindex\": 0, \"yindex\": 1, \"coordinates\": \"data\", \"id\": \"el11398140649469743600\", \"color\": \"#1F77B4\", \"linewidth\": 1.5, \"dasharray\": \"none\", \"alpha\": 1, \"zorder\": 2, \"drawstyle\": \"default\"}, {\"data\": \"data01\", \"xindex\": 0, \"yindex\": 2, \"coordinates\": \"data\", \"id\": \"el11398140649469744512\", \"color\": \"#FF7F0E\", \"linewidth\": 1.5, \"dasharray\": \"none\", \"alpha\": 1, \"zorder\": 2, \"drawstyle\": \"default\"}, {\"data\": \"data01\", \"xindex\": 0, \"yindex\": 3, \"coordinates\": \"data\", \"id\": \"el11398140649469745424\", \"color\": \"#2CA02C\", \"linewidth\": 1.5, \"dasharray\": \"none\", \"alpha\": 1, \"zorder\": 2, \"drawstyle\": \"default\"}, {\"data\": \"data01\", \"xindex\": 0, \"yindex\": 4, \"coordinates\": \"data\", \"id\": \"el11398140649469746336\", \"color\": \"#D62728\", \"linewidth\": 1.5, \"dasharray\": \"none\", \"alpha\": 1, \"zorder\": 2, \"drawstyle\": \"default\"}, {\"data\": \"data01\", \"xindex\": 0, \"yindex\": 5, \"coordinates\": \"data\", \"id\": \"el11398140649469599856\", \"color\": \"#9467BD\", \"linewidth\": 1.5, \"dasharray\": \"none\", \"alpha\": 1, \"zorder\": 2, \"drawstyle\": \"default\"}], \"paths\": [], \"markers\": [], \"texts\": [], \"collections\": [], \"images\": [], \"sharex\": [], \"sharey\": []}], \"data\": {\"data01\": [[0.0, -0.13055028021335602, -0.12833888828754425, 1.0, -1.0, -0.1748361587524414], [1.5, -0.0036998167634010315, -0.1259901374578476, 1.0, -1.0, -0.1748361587524414], [3.0, 0.052313048392534256, -0.1262000948190689, 1.0, -1.0, -0.1748361587524414]]}, \"id\": \"el11398140649471330528\", \"plugins\": [{\"type\": \"reset\"}, {\"type\": \"zoom\", \"button\": true, \"enabled\": false}, {\"type\": \"boxzoom\", \"button\": true, \"enabled\": false}]});\n",
       "      });\n",
       "    });\n",
       "}else{\n",
       "    // require.js not available: dynamically load d3 & mpld3\n",
       "    mpld3_load_lib(\"https://d3js.org/d3.v5.js\", function(){\n",
       "         mpld3_load_lib(\"https://mpld3.github.io/js/mpld3.v0.5.5.js\", function(){\n",
       "                 \n",
       "                 mpld3.draw_figure(\"fig_el11398140649471330528982599029\", {\"width\": 1200.0, \"height\": 800.0, \"axes\": [{\"bbox\": [0.125, 0.125, 0.775, 0.755], \"xlim\": [-0.15000000000000002, 3.15], \"ylim\": [-1.1, 1.1], \"xdomain\": [-0.15000000000000002, 3.15], \"ydomain\": [-1.1, 1.1], \"xscale\": \"linear\", \"yscale\": \"linear\", \"axes\": [{\"position\": \"bottom\", \"nticks\": 9, \"tickvalues\": null, \"tickformat_formatter\": \"\", \"tickformat\": null, \"scale\": \"linear\", \"fontsize\": 10.0, \"grid\": {\"gridOn\": false}, \"visible\": true}, {\"position\": \"left\", \"nticks\": 11, \"tickvalues\": null, \"tickformat_formatter\": \"\", \"tickformat\": null, \"scale\": \"linear\", \"fontsize\": 10.0, \"grid\": {\"gridOn\": false}, \"visible\": true}], \"axesbg\": \"#FFFFFF\", \"axesbgalpha\": null, \"zoomable\": true, \"id\": \"el11398140649474820176\", \"lines\": [{\"data\": \"data01\", \"xindex\": 0, \"yindex\": 1, \"coordinates\": \"data\", \"id\": \"el11398140649469743600\", \"color\": \"#1F77B4\", \"linewidth\": 1.5, \"dasharray\": \"none\", \"alpha\": 1, \"zorder\": 2, \"drawstyle\": \"default\"}, {\"data\": \"data01\", \"xindex\": 0, \"yindex\": 2, \"coordinates\": \"data\", \"id\": \"el11398140649469744512\", \"color\": \"#FF7F0E\", \"linewidth\": 1.5, \"dasharray\": \"none\", \"alpha\": 1, \"zorder\": 2, \"drawstyle\": \"default\"}, {\"data\": \"data01\", \"xindex\": 0, \"yindex\": 3, \"coordinates\": \"data\", \"id\": \"el11398140649469745424\", \"color\": \"#2CA02C\", \"linewidth\": 1.5, \"dasharray\": \"none\", \"alpha\": 1, \"zorder\": 2, \"drawstyle\": \"default\"}, {\"data\": \"data01\", \"xindex\": 0, \"yindex\": 4, \"coordinates\": \"data\", \"id\": \"el11398140649469746336\", \"color\": \"#D62728\", \"linewidth\": 1.5, \"dasharray\": \"none\", \"alpha\": 1, \"zorder\": 2, \"drawstyle\": \"default\"}, {\"data\": \"data01\", \"xindex\": 0, \"yindex\": 5, \"coordinates\": \"data\", \"id\": \"el11398140649469599856\", \"color\": \"#9467BD\", \"linewidth\": 1.5, \"dasharray\": \"none\", \"alpha\": 1, \"zorder\": 2, \"drawstyle\": \"default\"}], \"paths\": [], \"markers\": [], \"texts\": [], \"collections\": [], \"images\": [], \"sharex\": [], \"sharey\": []}], \"data\": {\"data01\": [[0.0, -0.13055028021335602, -0.12833888828754425, 1.0, -1.0, -0.1748361587524414], [1.5, -0.0036998167634010315, -0.1259901374578476, 1.0, -1.0, -0.1748361587524414], [3.0, 0.052313048392534256, -0.1262000948190689, 1.0, -1.0, -0.1748361587524414]]}, \"id\": \"el11398140649471330528\", \"plugins\": [{\"type\": \"reset\"}, {\"type\": \"zoom\", \"button\": true, \"enabled\": false}, {\"type\": \"boxzoom\", \"button\": true, \"enabled\": false}]});\n",
       "            })\n",
       "         });\n",
       "}\n",
       "</script>"
      ],
      "text/plain": [
       "<Figure size 1200x800 with 1 Axes>"
      ]
     },
     "metadata": {
      "needs_background": "light"
     },
     "output_type": "display_data"
    }
   ],
   "source": [
    "random_sample = test_set[randrange(len(test_set))]\n",
    "data_input = random_sample[0]\n",
    "init_M = data_input[-len(fwd_data)-1]\n",
    "torch_data_input = torch.from_numpy(data_input)\n",
    "torch_data_output = model(torch_data_input)\n",
    "\n",
    "print(torch_data_output*maxTorque)\n",
    "\n",
    "ls_good = [random_sample[1][i]*maxTorque for i in range(output_length)]\n",
    "ls_pred = [torch_data_output[i]*maxTorque for i in range(output_length)]\n",
    "\n",
    "plt.plot(np.linspace(0, output_length, output_length), ls_good)\n",
    "plt.plot(np.linspace(0, output_length, output_length), ls_pred)\n",
    "plt.plot(np.linspace(0, output_length, output_length), np.ones((output_length,)))\n",
    "plt.plot(np.linspace(0, output_length, output_length), np.ones((output_length,))*-1)\n",
    "plt.plot(np.linspace(0, output_length, output_length), np.ones((output_length,))*init_M)"
   ]
  },
  {
   "cell_type": "code",
   "execution_count": 282,
   "id": "a2bcce94-930e-4372-8e46-450561cdbbc8",
   "metadata": {},
   "outputs": [
    {
     "data": {
      "image/png": "[encoded data removed]",
      "text/html": [
       "\n",
       "\n",
       "<style>\n",
       "\n",
       "</style>\n",
       "\n",
       "<div id=\"fig_el113981406494793709767091826751\"></div>\n",
       "<script>\n",
       "function mpld3_load_lib(url, callback){\n",
       "  var s = document.createElement('script');\n",
       "  s.src = url;\n",
       "  s.async = true;\n",
       "  s.onreadystatechange = s.onload = callback;\n",
       "  s.onerror = function(){console.warn(\"failed to load library \" + url);};\n",
       "  document.getElementsByTagName(\"head\")[0].appendChild(s);\n",
       "}\n",
       "\n",
       "if(typeof(mpld3) !== \"undefined\" && mpld3._mpld3IsLoaded){\n",
       "   // already loaded: just create the figure\n",
       "   !function(mpld3){\n",
       "       \n",
       "       mpld3.draw_figure(\"fig_el113981406494793709767091826751\", {\"width\": 1200.0, \"height\": 800.0, \"axes\": [{\"bbox\": [0.125, 0.125, 0.775, 0.755], \"xlim\": [-0.06779111533573848, 1.4240897142065991], \"ylim\": [0.0, 8786.4], \"xdomain\": [-0.06779111533573848, 1.4240897142065991], \"ydomain\": [0.0, 8786.4], \"xscale\": \"linear\", \"yscale\": \"linear\", \"axes\": [{\"position\": \"bottom\", \"nticks\": 10, \"tickvalues\": null, \"tickformat_formatter\": \"\", \"tickformat\": null, \"scale\": \"linear\", \"fontsize\": 10.0, \"grid\": {\"gridOn\": true, \"color\": \"#B0B0B0\", \"dasharray\": \"none\", \"alpha\": 1.0}, \"visible\": true}, {\"position\": \"left\", \"nticks\": 10, \"tickvalues\": null, \"tickformat_formatter\": \"\", \"tickformat\": null, \"scale\": \"linear\", \"fontsize\": 10.0, \"grid\": {\"gridOn\": true, \"color\": \"#B0B0B0\", \"dasharray\": \"none\", \"alpha\": 0.75}, \"visible\": true}], \"axesbg\": \"#FFFFFF\", \"axesbgalpha\": null, \"zoomable\": true, \"id\": \"el11398140649479275136\", \"lines\": [], \"paths\": [{\"data\": \"data01\", \"xindex\": 0, \"yindex\": 1, \"coordinates\": \"data\", \"pathcodes\": [\"M\", \"L\", \"L\", \"L\", \"Z\"], \"id\": \"el11398140649479405472\", \"dasharray\": \"none\", \"alpha\": 1, \"facecolor\": \"#607C8E\", \"edgecolor\": \"none\", \"edgewidth\": 1.0, \"zorder\": 1}, {\"data\": \"data02\", \"xindex\": 0, \"yindex\": 1, \"coordinates\": \"data\", \"pathcodes\": [\"M\", \"L\", \"L\", \"L\", \"Z\"], \"id\": \"el11398140649479405088\", \"dasharray\": \"none\", \"alpha\": 1, \"facecolor\": \"#607C8E\", \"edgecolor\": \"none\", \"edgewidth\": 1.0, \"zorder\": 1}, {\"data\": \"data03\", \"xindex\": 0, \"yindex\": 1, \"coordinates\": \"data\", \"pathcodes\": [\"M\", \"L\", \"L\", \"L\", \"Z\"], \"id\": \"el11398140649479484608\", \"dasharray\": \"none\", \"alpha\": 1, \"facecolor\": \"#607C8E\", \"edgecolor\": \"none\", \"edgewidth\": 1.0, \"zorder\": 1}, {\"data\": \"data04\", \"xindex\": 0, \"yindex\": 1, \"coordinates\": \"data\", \"pathcodes\": [\"M\", \"L\", \"L\", \"L\", \"Z\"], \"id\": \"el11398140649479485136\", \"dasharray\": \"none\", \"alpha\": 1, \"facecolor\": \"#607C8E\", \"edgecolor\": \"none\", \"edgewidth\": 1.0, \"zorder\": 1}, {\"data\": \"data05\", \"xindex\": 0, \"yindex\": 1, \"coordinates\": \"data\", \"pathcodes\": [\"M\", \"L\", \"L\", \"L\", \"Z\"], \"id\": \"el11398140649479485664\", \"dasharray\": \"none\", \"alpha\": 1, \"facecolor\": \"#607C8E\", \"edgecolor\": \"none\", \"edgewidth\": 1.0, \"zorder\": 1}, {\"data\": \"data06\", \"xindex\": 0, \"yindex\": 1, \"coordinates\": \"data\", \"pathcodes\": [\"M\", \"L\", \"L\", \"L\", \"Z\"], \"id\": \"el11398140649479486192\", \"dasharray\": \"none\", \"alpha\": 1, \"facecolor\": \"#607C8E\", \"edgecolor\": \"none\", \"edgewidth\": 1.0, \"zorder\": 1}, {\"data\": \"data07\", \"xindex\": 0, \"yindex\": 1, \"coordinates\": \"data\", \"pathcodes\": [\"M\", \"L\", \"L\", \"L\", \"Z\"], \"id\": \"el11398140649479486720\", \"dasharray\": \"none\", \"alpha\": 1, \"facecolor\": \"#607C8E\", \"edgecolor\": \"none\", \"edgewidth\": 1.0, \"zorder\": 1}, {\"data\": \"data08\", \"xindex\": 0, \"yindex\": 1, \"coordinates\": \"data\", \"pathcodes\": [\"M\", \"L\", \"L\", \"L\", \"Z\"], \"id\": \"el11398140649479487248\", \"dasharray\": \"none\", \"alpha\": 1, \"facecolor\": \"#607C8E\", \"edgecolor\": \"none\", \"edgewidth\": 1.0, \"zorder\": 1}, {\"data\": \"data08\", \"xindex\": 2, \"yindex\": 1, \"coordinates\": \"data\", \"pathcodes\": [\"M\", \"L\", \"L\", \"L\", \"Z\"], \"id\": \"el11398140649478812000\", \"dasharray\": \"none\", \"alpha\": 1, \"facecolor\": \"#607C8E\", \"edgecolor\": \"none\", \"edgewidth\": 1.0, \"zorder\": 1}, {\"data\": \"data07\", \"xindex\": 2, \"yindex\": 1, \"coordinates\": \"data\", \"pathcodes\": [\"M\", \"L\", \"L\", \"L\", \"Z\"], \"id\": \"el11398140649478812528\", \"dasharray\": \"none\", \"alpha\": 1, \"facecolor\": \"#607C8E\", \"edgecolor\": \"none\", \"edgewidth\": 1.0, \"zorder\": 1}, {\"data\": \"data09\", \"xindex\": 0, \"yindex\": 1, \"coordinates\": \"data\", \"pathcodes\": [\"M\", \"L\", \"L\", \"L\", \"Z\"], \"id\": \"el11398140649478813056\", \"dasharray\": \"none\", \"alpha\": 1, \"facecolor\": \"#607C8E\", \"edgecolor\": \"none\", \"edgewidth\": 1.0, \"zorder\": 1}, {\"data\": \"data10\", \"xindex\": 0, \"yindex\": 1, \"coordinates\": \"data\", \"pathcodes\": [\"M\", \"L\", \"L\", \"L\", \"Z\"], \"id\": \"el11398140649478813584\", \"dasharray\": \"none\", \"alpha\": 1, \"facecolor\": \"#607C8E\", \"edgecolor\": \"none\", \"edgewidth\": 1.0, \"zorder\": 1}, {\"data\": \"data11\", \"xindex\": 0, \"yindex\": 1, \"coordinates\": \"data\", \"pathcodes\": [\"M\", \"L\", \"L\", \"L\", \"Z\"], \"id\": \"el11398140649478814112\", \"dasharray\": \"none\", \"alpha\": 1, \"facecolor\": \"#607C8E\", \"edgecolor\": \"none\", \"edgewidth\": 1.0, \"zorder\": 1}, {\"data\": \"data12\", \"xindex\": 0, \"yindex\": 1, \"coordinates\": \"data\", \"pathcodes\": [\"M\", \"L\", \"L\", \"L\", \"Z\"], \"id\": \"el11398140649478814640\", \"dasharray\": \"none\", \"alpha\": 1, \"facecolor\": \"#607C8E\", \"edgecolor\": \"none\", \"edgewidth\": 1.0, \"zorder\": 1}, {\"data\": \"data12\", \"xindex\": 2, \"yindex\": 1, \"coordinates\": \"data\", \"pathcodes\": [\"M\", \"L\", \"L\", \"L\", \"Z\"], \"id\": \"el11398140649478815168\", \"dasharray\": \"none\", \"alpha\": 1, \"facecolor\": \"#607C8E\", \"edgecolor\": \"none\", \"edgewidth\": 1.0, \"zorder\": 1}, {\"data\": \"data13\", \"xindex\": 0, \"yindex\": 1, \"coordinates\": \"data\", \"pathcodes\": [\"M\", \"L\", \"L\", \"L\", \"Z\"], \"id\": \"el11398140649478815696\", \"dasharray\": \"none\", \"alpha\": 1, \"facecolor\": \"#607C8E\", \"edgecolor\": \"none\", \"edgewidth\": 1.0, \"zorder\": 1}, {\"data\": \"data14\", \"xindex\": 0, \"yindex\": 1, \"coordinates\": \"data\", \"pathcodes\": [\"M\", \"L\", \"L\", \"L\", \"Z\"], \"id\": \"el11398140649478943264\", \"dasharray\": \"none\", \"alpha\": 1, \"facecolor\": \"#607C8E\", \"edgecolor\": \"none\", \"edgewidth\": 1.0, \"zorder\": 1}, {\"data\": \"data14\", \"xindex\": 2, \"yindex\": 1, \"coordinates\": \"data\", \"pathcodes\": [\"M\", \"L\", \"L\", \"L\", \"Z\"], \"id\": \"el11398140649478943792\", \"dasharray\": \"none\", \"alpha\": 1, \"facecolor\": \"#607C8E\", \"edgecolor\": \"none\", \"edgewidth\": 1.0, \"zorder\": 1}, {\"data\": \"data14\", \"xindex\": 3, \"yindex\": 1, \"coordinates\": \"data\", \"pathcodes\": [\"M\", \"L\", \"L\", \"L\", \"Z\"], \"id\": \"el11398140649478944320\", \"dasharray\": \"none\", \"alpha\": 1, \"facecolor\": \"#607C8E\", \"edgecolor\": \"none\", \"edgewidth\": 1.0, \"zorder\": 1}, {\"data\": \"data15\", \"xindex\": 0, \"yindex\": 1, \"coordinates\": \"data\", \"pathcodes\": [\"M\", \"L\", \"L\", \"L\", \"Z\"], \"id\": \"el11398140649478944848\", \"dasharray\": \"none\", \"alpha\": 1, \"facecolor\": \"#607C8E\", \"edgecolor\": \"none\", \"edgewidth\": 1.0, \"zorder\": 1}], \"markers\": [], \"texts\": [{\"text\": \"Counts\", \"position\": [0.5, -0.048473142016188395], \"coordinates\": \"axes\", \"h_anchor\": \"middle\", \"v_baseline\": \"hanging\", \"rotation\": -0.0, \"fontsize\": 10.0, \"color\": \"#000000\", \"alpha\": 1, \"zorder\": 3, \"id\": \"el11398140649479277968\"}, {\"text\": \"Speed\", \"position\": [-0.05419653524492235, 0.5], \"coordinates\": \"axes\", \"h_anchor\": \"middle\", \"v_baseline\": \"auto\", \"rotation\": -90.0, \"fontsize\": 10.0, \"color\": \"#000000\", \"alpha\": 1, \"zorder\": 3, \"id\": \"el11398140649479312192\"}], \"collections\": [], \"images\": [], \"sharex\": [], \"sharey\": []}], \"data\": {\"data01\": [[2.1649643458701573e-05, 0.0], [0.06783441462265587, 0.0], [0.06783441462265587, 8368.0], [2.1649643458701573e-05, 8368.0]], \"data02\": [[0.06783441462265588, 0.0], [0.13564717960185302, 0.0], [0.13564717960185302, 962.0], [0.06783441462265588, 962.0]], \"data03\": [[0.13564717960185302, 0.0], [0.2034599445810502, 0.0], [0.2034599445810502, 229.0], [0.13564717960185302, 229.0]], \"data04\": [[0.2034599445810502, 0.0], [0.27127270956024735, 0.0], [0.27127270956024735, 90.0], [0.2034599445810502, 90.0]], \"data05\": [[0.27127270956024735, 0.0], [0.33908547453944454, 0.0], [0.33908547453944454, 43.0], [0.27127270956024735, 43.0]], \"data06\": [[0.3390854745394446, 0.0], [0.40689823951864174, 0.0], [0.40689823951864174, 32.0], [0.3390854745394446, 32.0]], \"data07\": [[0.4068982395186417, 0.0, 0.6103365344562333], [0.4747110044978388, 0.0, 0.6781492994354305], [0.4747110044978388, 13.0, 0.6781492994354305], [0.4068982395186417, 13.0, 0.6103365344562333]], \"data08\": [[0.47471100449783876, 0.0, 0.542523769477036], [0.542523769477036, 0.0, 0.6103365344562331], [0.542523769477036, 11.0, 0.6103365344562331], [0.47471100449783876, 11.0, 0.542523769477036]], \"data09\": [[0.6781492994354305, 0.0], [0.7459620644146275, 0.0], [0.7459620644146275, 5.0], [0.6781492994354305, 5.0]], \"data10\": [[0.7459620644146274, 0.0], [0.8137748293938246, 0.0], [0.8137748293938246, 6.0], [0.7459620644146274, 6.0]], \"data11\": [[0.8137748293938247, 0.0], [0.8815875943730219, 0.0], [0.8815875943730219, 4.0], [0.8137748293938247, 4.0]], \"data12\": [[0.8815875943730219, 0.0, 0.9494003593522189], [0.949400359352219, 0.0, 1.0172131243314162], [0.949400359352219, 2.0, 1.0172131243314162], [0.8815875943730219, 2.0, 0.9494003593522189]], \"data13\": [[1.0172131243314162, 0.0], [1.0850258893106133, 0.0], [1.0850258893106133, 0.0], [1.0172131243314162, 0.0]], \"data14\": [[1.085025889310613, 0.0, 1.1528386542898104, 1.2206514192690077], [1.1528386542898101, 0.0, 1.2206514192690077, 1.2884641842482047], [1.1528386542898101, 1.0, 1.2206514192690077, 1.2884641842482047], [1.085025889310613, 1.0, 1.1528386542898104, 1.2206514192690077]], \"data15\": [[1.2884641842482047, 0.0], [1.356276949227402, 0.0], [1.356276949227402, 3.0], [1.2884641842482047, 3.0]]}, \"id\": \"el11398140649479370976\", \"plugins\": [{\"type\": \"reset\"}, {\"type\": \"zoom\", \"button\": true, \"enabled\": false}, {\"type\": \"boxzoom\", \"button\": true, \"enabled\": false}]});\n",
       "   }(mpld3);\n",
       "}else if(typeof define === \"function\" && define.amd){\n",
       "   // require.js is available: use it to load d3/mpld3\n",
       "   require.config({paths: {d3: \"https://d3js.org/d3.v5\"}});\n",
       "   require([\"d3\"], function(d3){\n",
       "      window.d3 = d3;\n",
       "      mpld3_load_lib(\"https://mpld3.github.io/js/mpld3.v0.5.5.js\", function(){\n",
       "         \n",
       "         mpld3.draw_figure(\"fig_el113981406494793709767091826751\", {\"width\": 1200.0, \"height\": 800.0, \"axes\": [{\"bbox\": [0.125, 0.125, 0.775, 0.755], \"xlim\": [-0.06779111533573848, 1.4240897142065991], \"ylim\": [0.0, 8786.4], \"xdomain\": [-0.06779111533573848, 1.4240897142065991], \"ydomain\": [0.0, 8786.4], \"xscale\": \"linear\", \"yscale\": \"linear\", \"axes\": [{\"position\": \"bottom\", \"nticks\": 10, \"tickvalues\": null, \"tickformat_formatter\": \"\", \"tickformat\": null, \"scale\": \"linear\", \"fontsize\": 10.0, \"grid\": {\"gridOn\": true, \"color\": \"#B0B0B0\", \"dasharray\": \"none\", \"alpha\": 1.0}, \"visible\": true}, {\"position\": \"left\", \"nticks\": 10, \"tickvalues\": null, \"tickformat_formatter\": \"\", \"tickformat\": null, \"scale\": \"linear\", \"fontsize\": 10.0, \"grid\": {\"gridOn\": true, \"color\": \"#B0B0B0\", \"dasharray\": \"none\", \"alpha\": 0.75}, \"visible\": true}], \"axesbg\": \"#FFFFFF\", \"axesbgalpha\": null, \"zoomable\": true, \"id\": \"el11398140649479275136\", \"lines\": [], \"paths\": [{\"data\": \"data01\", \"xindex\": 0, \"yindex\": 1, \"coordinates\": \"data\", \"pathcodes\": [\"M\", \"L\", \"L\", \"L\", \"Z\"], \"id\": \"el11398140649479405472\", \"dasharray\": \"none\", \"alpha\": 1, \"facecolor\": \"#607C8E\", \"edgecolor\": \"none\", \"edgewidth\": 1.0, \"zorder\": 1}, {\"data\": \"data02\", \"xindex\": 0, \"yindex\": 1, \"coordinates\": \"data\", \"pathcodes\": [\"M\", \"L\", \"L\", \"L\", \"Z\"], \"id\": \"el11398140649479405088\", \"dasharray\": \"none\", \"alpha\": 1, \"facecolor\": \"#607C8E\", \"edgecolor\": \"none\", \"edgewidth\": 1.0, \"zorder\": 1}, {\"data\": \"data03\", \"xindex\": 0, \"yindex\": 1, \"coordinates\": \"data\", \"pathcodes\": [\"M\", \"L\", \"L\", \"L\", \"Z\"], \"id\": \"el11398140649479484608\", \"dasharray\": \"none\", \"alpha\": 1, \"facecolor\": \"#607C8E\", \"edgecolor\": \"none\", \"edgewidth\": 1.0, \"zorder\": 1}, {\"data\": \"data04\", \"xindex\": 0, \"yindex\": 1, \"coordinates\": \"data\", \"pathcodes\": [\"M\", \"L\", \"L\", \"L\", \"Z\"], \"id\": \"el11398140649479485136\", \"dasharray\": \"none\", \"alpha\": 1, \"facecolor\": \"#607C8E\", \"edgecolor\": \"none\", \"edgewidth\": 1.0, \"zorder\": 1}, {\"data\": \"data05\", \"xindex\": 0, \"yindex\": 1, \"coordinates\": \"data\", \"pathcodes\": [\"M\", \"L\", \"L\", \"L\", \"Z\"], \"id\": \"el11398140649479485664\", \"dasharray\": \"none\", \"alpha\": 1, \"facecolor\": \"#607C8E\", \"edgecolor\": \"none\", \"edgewidth\": 1.0, \"zorder\": 1}, {\"data\": \"data06\", \"xindex\": 0, \"yindex\": 1, \"coordinates\": \"data\", \"pathcodes\": [\"M\", \"L\", \"L\", \"L\", \"Z\"], \"id\": \"el11398140649479486192\", \"dasharray\": \"none\", \"alpha\": 1, \"facecolor\": \"#607C8E\", \"edgecolor\": \"none\", \"edgewidth\": 1.0, \"zorder\": 1}, {\"data\": \"data07\", \"xindex\": 0, \"yindex\": 1, \"coordinates\": \"data\", \"pathcodes\": [\"M\", \"L\", \"L\", \"L\", \"Z\"], \"id\": \"el11398140649479486720\", \"dasharray\": \"none\", \"alpha\": 1, \"facecolor\": \"#607C8E\", \"edgecolor\": \"none\", \"edgewidth\": 1.0, \"zorder\": 1}, {\"data\": \"data08\", \"xindex\": 0, \"yindex\": 1, \"coordinates\": \"data\", \"pathcodes\": [\"M\", \"L\", \"L\", \"L\", \"Z\"], \"id\": \"el11398140649479487248\", \"dasharray\": \"none\", \"alpha\": 1, \"facecolor\": \"#607C8E\", \"edgecolor\": \"none\", \"edgewidth\": 1.0, \"zorder\": 1}, {\"data\": \"data08\", \"xindex\": 2, \"yindex\": 1, \"coordinates\": \"data\", \"pathcodes\": [\"M\", \"L\", \"L\", \"L\", \"Z\"], \"id\": \"el11398140649478812000\", \"dasharray\": \"none\", \"alpha\": 1, \"facecolor\": \"#607C8E\", \"edgecolor\": \"none\", \"edgewidth\": 1.0, \"zorder\": 1}, {\"data\": \"data07\", \"xindex\": 2, \"yindex\": 1, \"coordinates\": \"data\", \"pathcodes\": [\"M\", \"L\", \"L\", \"L\", \"Z\"], \"id\": \"el11398140649478812528\", \"dasharray\": \"none\", \"alpha\": 1, \"facecolor\": \"#607C8E\", \"edgecolor\": \"none\", \"edgewidth\": 1.0, \"zorder\": 1}, {\"data\": \"data09\", \"xindex\": 0, \"yindex\": 1, \"coordinates\": \"data\", \"pathcodes\": [\"M\", \"L\", \"L\", \"L\", \"Z\"], \"id\": \"el11398140649478813056\", \"dasharray\": \"none\", \"alpha\": 1, \"facecolor\": \"#607C8E\", \"edgecolor\": \"none\", \"edgewidth\": 1.0, \"zorder\": 1}, {\"data\": \"data10\", \"xindex\": 0, \"yindex\": 1, \"coordinates\": \"data\", \"pathcodes\": [\"M\", \"L\", \"L\", \"L\", \"Z\"], \"id\": \"el11398140649478813584\", \"dasharray\": \"none\", \"alpha\": 1, \"facecolor\": \"#607C8E\", \"edgecolor\": \"none\", \"edgewidth\": 1.0, \"zorder\": 1}, {\"data\": \"data11\", \"xindex\": 0, \"yindex\": 1, \"coordinates\": \"data\", \"pathcodes\": [\"M\", \"L\", \"L\", \"L\", \"Z\"], \"id\": \"el11398140649478814112\", \"dasharray\": \"none\", \"alpha\": 1, \"facecolor\": \"#607C8E\", \"edgecolor\": \"none\", \"edgewidth\": 1.0, \"zorder\": 1}, {\"data\": \"data12\", \"xindex\": 0, \"yindex\": 1, \"coordinates\": \"data\", \"pathcodes\": [\"M\", \"L\", \"L\", \"L\", \"Z\"], \"id\": \"el11398140649478814640\", \"dasharray\": \"none\", \"alpha\": 1, \"facecolor\": \"#607C8E\", \"edgecolor\": \"none\", \"edgewidth\": 1.0, \"zorder\": 1}, {\"data\": \"data12\", \"xindex\": 2, \"yindex\": 1, \"coordinates\": \"data\", \"pathcodes\": [\"M\", \"L\", \"L\", \"L\", \"Z\"], \"id\": \"el11398140649478815168\", \"dasharray\": \"none\", \"alpha\": 1, \"facecolor\": \"#607C8E\", \"edgecolor\": \"none\", \"edgewidth\": 1.0, \"zorder\": 1}, {\"data\": \"data13\", \"xindex\": 0, \"yindex\": 1, \"coordinates\": \"data\", \"pathcodes\": [\"M\", \"L\", \"L\", \"L\", \"Z\"], \"id\": \"el11398140649478815696\", \"dasharray\": \"none\", \"alpha\": 1, \"facecolor\": \"#607C8E\", \"edgecolor\": \"none\", \"edgewidth\": 1.0, \"zorder\": 1}, {\"data\": \"data14\", \"xindex\": 0, \"yindex\": 1, \"coordinates\": \"data\", \"pathcodes\": [\"M\", \"L\", \"L\", \"L\", \"Z\"], \"id\": \"el11398140649478943264\", \"dasharray\": \"none\", \"alpha\": 1, \"facecolor\": \"#607C8E\", \"edgecolor\": \"none\", \"edgewidth\": 1.0, \"zorder\": 1}, {\"data\": \"data14\", \"xindex\": 2, \"yindex\": 1, \"coordinates\": \"data\", \"pathcodes\": [\"M\", \"L\", \"L\", \"L\", \"Z\"], \"id\": \"el11398140649478943792\", \"dasharray\": \"none\", \"alpha\": 1, \"facecolor\": \"#607C8E\", \"edgecolor\": \"none\", \"edgewidth\": 1.0, \"zorder\": 1}, {\"data\": \"data14\", \"xindex\": 3, \"yindex\": 1, \"coordinates\": \"data\", \"pathcodes\": [\"M\", \"L\", \"L\", \"L\", \"Z\"], \"id\": \"el11398140649478944320\", \"dasharray\": \"none\", \"alpha\": 1, \"facecolor\": \"#607C8E\", \"edgecolor\": \"none\", \"edgewidth\": 1.0, \"zorder\": 1}, {\"data\": \"data15\", \"xindex\": 0, \"yindex\": 1, \"coordinates\": \"data\", \"pathcodes\": [\"M\", \"L\", \"L\", \"L\", \"Z\"], \"id\": \"el11398140649478944848\", \"dasharray\": \"none\", \"alpha\": 1, \"facecolor\": \"#607C8E\", \"edgecolor\": \"none\", \"edgewidth\": 1.0, \"zorder\": 1}], \"markers\": [], \"texts\": [{\"text\": \"Counts\", \"position\": [0.5, -0.048473142016188395], \"coordinates\": \"axes\", \"h_anchor\": \"middle\", \"v_baseline\": \"hanging\", \"rotation\": -0.0, \"fontsize\": 10.0, \"color\": \"#000000\", \"alpha\": 1, \"zorder\": 3, \"id\": \"el11398140649479277968\"}, {\"text\": \"Speed\", \"position\": [-0.05419653524492235, 0.5], \"coordinates\": \"axes\", \"h_anchor\": \"middle\", \"v_baseline\": \"auto\", \"rotation\": -90.0, \"fontsize\": 10.0, \"color\": \"#000000\", \"alpha\": 1, \"zorder\": 3, \"id\": \"el11398140649479312192\"}], \"collections\": [], \"images\": [], \"sharex\": [], \"sharey\": []}], \"data\": {\"data01\": [[2.1649643458701573e-05, 0.0], [0.06783441462265587, 0.0], [0.06783441462265587, 8368.0], [2.1649643458701573e-05, 8368.0]], \"data02\": [[0.06783441462265588, 0.0], [0.13564717960185302, 0.0], [0.13564717960185302, 962.0], [0.06783441462265588, 962.0]], \"data03\": [[0.13564717960185302, 0.0], [0.2034599445810502, 0.0], [0.2034599445810502, 229.0], [0.13564717960185302, 229.0]], \"data04\": [[0.2034599445810502, 0.0], [0.27127270956024735, 0.0], [0.27127270956024735, 90.0], [0.2034599445810502, 90.0]], \"data05\": [[0.27127270956024735, 0.0], [0.33908547453944454, 0.0], [0.33908547453944454, 43.0], [0.27127270956024735, 43.0]], \"data06\": [[0.3390854745394446, 0.0], [0.40689823951864174, 0.0], [0.40689823951864174, 32.0], [0.3390854745394446, 32.0]], \"data07\": [[0.4068982395186417, 0.0, 0.6103365344562333], [0.4747110044978388, 0.0, 0.6781492994354305], [0.4747110044978388, 13.0, 0.6781492994354305], [0.4068982395186417, 13.0, 0.6103365344562333]], \"data08\": [[0.47471100449783876, 0.0, 0.542523769477036], [0.542523769477036, 0.0, 0.6103365344562331], [0.542523769477036, 11.0, 0.6103365344562331], [0.47471100449783876, 11.0, 0.542523769477036]], \"data09\": [[0.6781492994354305, 0.0], [0.7459620644146275, 0.0], [0.7459620644146275, 5.0], [0.6781492994354305, 5.0]], \"data10\": [[0.7459620644146274, 0.0], [0.8137748293938246, 0.0], [0.8137748293938246, 6.0], [0.7459620644146274, 6.0]], \"data11\": [[0.8137748293938247, 0.0], [0.8815875943730219, 0.0], [0.8815875943730219, 4.0], [0.8137748293938247, 4.0]], \"data12\": [[0.8815875943730219, 0.0, 0.9494003593522189], [0.949400359352219, 0.0, 1.0172131243314162], [0.949400359352219, 2.0, 1.0172131243314162], [0.8815875943730219, 2.0, 0.9494003593522189]], \"data13\": [[1.0172131243314162, 0.0], [1.0850258893106133, 0.0], [1.0850258893106133, 0.0], [1.0172131243314162, 0.0]], \"data14\": [[1.085025889310613, 0.0, 1.1528386542898104, 1.2206514192690077], [1.1528386542898101, 0.0, 1.2206514192690077, 1.2884641842482047], [1.1528386542898101, 1.0, 1.2206514192690077, 1.2884641842482047], [1.085025889310613, 1.0, 1.1528386542898104, 1.2206514192690077]], \"data15\": [[1.2884641842482047, 0.0], [1.356276949227402, 0.0], [1.356276949227402, 3.0], [1.2884641842482047, 3.0]]}, \"id\": \"el11398140649479370976\", \"plugins\": [{\"type\": \"reset\"}, {\"type\": \"zoom\", \"button\": true, \"enabled\": false}, {\"type\": \"boxzoom\", \"button\": true, \"enabled\": false}]});\n",
       "      });\n",
       "    });\n",
       "}else{\n",
       "    // require.js not available: dynamically load d3 & mpld3\n",
       "    mpld3_load_lib(\"https://d3js.org/d3.v5.js\", function(){\n",
       "         mpld3_load_lib(\"https://mpld3.github.io/js/mpld3.v0.5.5.js\", function(){\n",
       "                 \n",
       "                 mpld3.draw_figure(\"fig_el113981406494793709767091826751\", {\"width\": 1200.0, \"height\": 800.0, \"axes\": [{\"bbox\": [0.125, 0.125, 0.775, 0.755], \"xlim\": [-0.06779111533573848, 1.4240897142065991], \"ylim\": [0.0, 8786.4], \"xdomain\": [-0.06779111533573848, 1.4240897142065991], \"ydomain\": [0.0, 8786.4], \"xscale\": \"linear\", \"yscale\": \"linear\", \"axes\": [{\"position\": \"bottom\", \"nticks\": 10, \"tickvalues\": null, \"tickformat_formatter\": \"\", \"tickformat\": null, \"scale\": \"linear\", \"fontsize\": 10.0, \"grid\": {\"gridOn\": true, \"color\": \"#B0B0B0\", \"dasharray\": \"none\", \"alpha\": 1.0}, \"visible\": true}, {\"position\": \"left\", \"nticks\": 10, \"tickvalues\": null, \"tickformat_formatter\": \"\", \"tickformat\": null, \"scale\": \"linear\", \"fontsize\": 10.0, \"grid\": {\"gridOn\": true, \"color\": \"#B0B0B0\", \"dasharray\": \"none\", \"alpha\": 0.75}, \"visible\": true}], \"axesbg\": \"#FFFFFF\", \"axesbgalpha\": null, \"zoomable\": true, \"id\": \"el11398140649479275136\", \"lines\": [], \"paths\": [{\"data\": \"data01\", \"xindex\": 0, \"yindex\": 1, \"coordinates\": \"data\", \"pathcodes\": [\"M\", \"L\", \"L\", \"L\", \"Z\"], \"id\": \"el11398140649479405472\", \"dasharray\": \"none\", \"alpha\": 1, \"facecolor\": \"#607C8E\", \"edgecolor\": \"none\", \"edgewidth\": 1.0, \"zorder\": 1}, {\"data\": \"data02\", \"xindex\": 0, \"yindex\": 1, \"coordinates\": \"data\", \"pathcodes\": [\"M\", \"L\", \"L\", \"L\", \"Z\"], \"id\": \"el11398140649479405088\", \"dasharray\": \"none\", \"alpha\": 1, \"facecolor\": \"#607C8E\", \"edgecolor\": \"none\", \"edgewidth\": 1.0, \"zorder\": 1}, {\"data\": \"data03\", \"xindex\": 0, \"yindex\": 1, \"coordinates\": \"data\", \"pathcodes\": [\"M\", \"L\", \"L\", \"L\", \"Z\"], \"id\": \"el11398140649479484608\", \"dasharray\": \"none\", \"alpha\": 1, \"facecolor\": \"#607C8E\", \"edgecolor\": \"none\", \"edgewidth\": 1.0, \"zorder\": 1}, {\"data\": \"data04\", \"xindex\": 0, \"yindex\": 1, \"coordinates\": \"data\", \"pathcodes\": [\"M\", \"L\", \"L\", \"L\", \"Z\"], \"id\": \"el11398140649479485136\", \"dasharray\": \"none\", \"alpha\": 1, \"facecolor\": \"#607C8E\", \"edgecolor\": \"none\", \"edgewidth\": 1.0, \"zorder\": 1}, {\"data\": \"data05\", \"xindex\": 0, \"yindex\": 1, \"coordinates\": \"data\", \"pathcodes\": [\"M\", \"L\", \"L\", \"L\", \"Z\"], \"id\": \"el11398140649479485664\", \"dasharray\": \"none\", \"alpha\": 1, \"facecolor\": \"#607C8E\", \"edgecolor\": \"none\", \"edgewidth\": 1.0, \"zorder\": 1}, {\"data\": \"data06\", \"xindex\": 0, \"yindex\": 1, \"coordinates\": \"data\", \"pathcodes\": [\"M\", \"L\", \"L\", \"L\", \"Z\"], \"id\": \"el11398140649479486192\", \"dasharray\": \"none\", \"alpha\": 1, \"facecolor\": \"#607C8E\", \"edgecolor\": \"none\", \"edgewidth\": 1.0, \"zorder\": 1}, {\"data\": \"data07\", \"xindex\": 0, \"yindex\": 1, \"coordinates\": \"data\", \"pathcodes\": [\"M\", \"L\", \"L\", \"L\", \"Z\"], \"id\": \"el11398140649479486720\", \"dasharray\": \"none\", \"alpha\": 1, \"facecolor\": \"#607C8E\", \"edgecolor\": \"none\", \"edgewidth\": 1.0, \"zorder\": 1}, {\"data\": \"data08\", \"xindex\": 0, \"yindex\": 1, \"coordinates\": \"data\", \"pathcodes\": [\"M\", \"L\", \"L\", \"L\", \"Z\"], \"id\": \"el11398140649479487248\", \"dasharray\": \"none\", \"alpha\": 1, \"facecolor\": \"#607C8E\", \"edgecolor\": \"none\", \"edgewidth\": 1.0, \"zorder\": 1}, {\"data\": \"data08\", \"xindex\": 2, \"yindex\": 1, \"coordinates\": \"data\", \"pathcodes\": [\"M\", \"L\", \"L\", \"L\", \"Z\"], \"id\": \"el11398140649478812000\", \"dasharray\": \"none\", \"alpha\": 1, \"facecolor\": \"#607C8E\", \"edgecolor\": \"none\", \"edgewidth\": 1.0, \"zorder\": 1}, {\"data\": \"data07\", \"xindex\": 2, \"yindex\": 1, \"coordinates\": \"data\", \"pathcodes\": [\"M\", \"L\", \"L\", \"L\", \"Z\"], \"id\": \"el11398140649478812528\", \"dasharray\": \"none\", \"alpha\": 1, \"facecolor\": \"#607C8E\", \"edgecolor\": \"none\", \"edgewidth\": 1.0, \"zorder\": 1}, {\"data\": \"data09\", \"xindex\": 0, \"yindex\": 1, \"coordinates\": \"data\", \"pathcodes\": [\"M\", \"L\", \"L\", \"L\", \"Z\"], \"id\": \"el11398140649478813056\", \"dasharray\": \"none\", \"alpha\": 1, \"facecolor\": \"#607C8E\", \"edgecolor\": \"none\", \"edgewidth\": 1.0, \"zorder\": 1}, {\"data\": \"data10\", \"xindex\": 0, \"yindex\": 1, \"coordinates\": \"data\", \"pathcodes\": [\"M\", \"L\", \"L\", \"L\", \"Z\"], \"id\": \"el11398140649478813584\", \"dasharray\": \"none\", \"alpha\": 1, \"facecolor\": \"#607C8E\", \"edgecolor\": \"none\", \"edgewidth\": 1.0, \"zorder\": 1}, {\"data\": \"data11\", \"xindex\": 0, \"yindex\": 1, \"coordinates\": \"data\", \"pathcodes\": [\"M\", \"L\", \"L\", \"L\", \"Z\"], \"id\": \"el11398140649478814112\", \"dasharray\": \"none\", \"alpha\": 1, \"facecolor\": \"#607C8E\", \"edgecolor\": \"none\", \"edgewidth\": 1.0, \"zorder\": 1}, {\"data\": \"data12\", \"xindex\": 0, \"yindex\": 1, \"coordinates\": \"data\", \"pathcodes\": [\"M\", \"L\", \"L\", \"L\", \"Z\"], \"id\": \"el11398140649478814640\", \"dasharray\": \"none\", \"alpha\": 1, \"facecolor\": \"#607C8E\", \"edgecolor\": \"none\", \"edgewidth\": 1.0, \"zorder\": 1}, {\"data\": \"data12\", \"xindex\": 2, \"yindex\": 1, \"coordinates\": \"data\", \"pathcodes\": [\"M\", \"L\", \"L\", \"L\", \"Z\"], \"id\": \"el11398140649478815168\", \"dasharray\": \"none\", \"alpha\": 1, \"facecolor\": \"#607C8E\", \"edgecolor\": \"none\", \"edgewidth\": 1.0, \"zorder\": 1}, {\"data\": \"data13\", \"xindex\": 0, \"yindex\": 1, \"coordinates\": \"data\", \"pathcodes\": [\"M\", \"L\", \"L\", \"L\", \"Z\"], \"id\": \"el11398140649478815696\", \"dasharray\": \"none\", \"alpha\": 1, \"facecolor\": \"#607C8E\", \"edgecolor\": \"none\", \"edgewidth\": 1.0, \"zorder\": 1}, {\"data\": \"data14\", \"xindex\": 0, \"yindex\": 1, \"coordinates\": \"data\", \"pathcodes\": [\"M\", \"L\", \"L\", \"L\", \"Z\"], \"id\": \"el11398140649478943264\", \"dasharray\": \"none\", \"alpha\": 1, \"facecolor\": \"#607C8E\", \"edgecolor\": \"none\", \"edgewidth\": 1.0, \"zorder\": 1}, {\"data\": \"data14\", \"xindex\": 2, \"yindex\": 1, \"coordinates\": \"data\", \"pathcodes\": [\"M\", \"L\", \"L\", \"L\", \"Z\"], \"id\": \"el11398140649478943792\", \"dasharray\": \"none\", \"alpha\": 1, \"facecolor\": \"#607C8E\", \"edgecolor\": \"none\", \"edgewidth\": 1.0, \"zorder\": 1}, {\"data\": \"data14\", \"xindex\": 3, \"yindex\": 1, \"coordinates\": \"data\", \"pathcodes\": [\"M\", \"L\", \"L\", \"L\", \"Z\"], \"id\": \"el11398140649478944320\", \"dasharray\": \"none\", \"alpha\": 1, \"facecolor\": \"#607C8E\", \"edgecolor\": \"none\", \"edgewidth\": 1.0, \"zorder\": 1}, {\"data\": \"data15\", \"xindex\": 0, \"yindex\": 1, \"coordinates\": \"data\", \"pathcodes\": [\"M\", \"L\", \"L\", \"L\", \"Z\"], \"id\": \"el11398140649478944848\", \"dasharray\": \"none\", \"alpha\": 1, \"facecolor\": \"#607C8E\", \"edgecolor\": \"none\", \"edgewidth\": 1.0, \"zorder\": 1}], \"markers\": [], \"texts\": [{\"text\": \"Counts\", \"position\": [0.5, -0.048473142016188395], \"coordinates\": \"axes\", \"h_anchor\": \"middle\", \"v_baseline\": \"hanging\", \"rotation\": -0.0, \"fontsize\": 10.0, \"color\": \"#000000\", \"alpha\": 1, \"zorder\": 3, \"id\": \"el11398140649479277968\"}, {\"text\": \"Speed\", \"position\": [-0.05419653524492235, 0.5], \"coordinates\": \"axes\", \"h_anchor\": \"middle\", \"v_baseline\": \"auto\", \"rotation\": -90.0, \"fontsize\": 10.0, \"color\": \"#000000\", \"alpha\": 1, \"zorder\": 3, \"id\": \"el11398140649479312192\"}], \"collections\": [], \"images\": [], \"sharex\": [], \"sharey\": []}], \"data\": {\"data01\": [[2.1649643458701573e-05, 0.0], [0.06783441462265587, 0.0], [0.06783441462265587, 8368.0], [2.1649643458701573e-05, 8368.0]], \"data02\": [[0.06783441462265588, 0.0], [0.13564717960185302, 0.0], [0.13564717960185302, 962.0], [0.06783441462265588, 962.0]], \"data03\": [[0.13564717960185302, 0.0], [0.2034599445810502, 0.0], [0.2034599445810502, 229.0], [0.13564717960185302, 229.0]], \"data04\": [[0.2034599445810502, 0.0], [0.27127270956024735, 0.0], [0.27127270956024735, 90.0], [0.2034599445810502, 90.0]], \"data05\": [[0.27127270956024735, 0.0], [0.33908547453944454, 0.0], [0.33908547453944454, 43.0], [0.27127270956024735, 43.0]], \"data06\": [[0.3390854745394446, 0.0], [0.40689823951864174, 0.0], [0.40689823951864174, 32.0], [0.3390854745394446, 32.0]], \"data07\": [[0.4068982395186417, 0.0, 0.6103365344562333], [0.4747110044978388, 0.0, 0.6781492994354305], [0.4747110044978388, 13.0, 0.6781492994354305], [0.4068982395186417, 13.0, 0.6103365344562333]], \"data08\": [[0.47471100449783876, 0.0, 0.542523769477036], [0.542523769477036, 0.0, 0.6103365344562331], [0.542523769477036, 11.0, 0.6103365344562331], [0.47471100449783876, 11.0, 0.542523769477036]], \"data09\": [[0.6781492994354305, 0.0], [0.7459620644146275, 0.0], [0.7459620644146275, 5.0], [0.6781492994354305, 5.0]], \"data10\": [[0.7459620644146274, 0.0], [0.8137748293938246, 0.0], [0.8137748293938246, 6.0], [0.7459620644146274, 6.0]], \"data11\": [[0.8137748293938247, 0.0], [0.8815875943730219, 0.0], [0.8815875943730219, 4.0], [0.8137748293938247, 4.0]], \"data12\": [[0.8815875943730219, 0.0, 0.9494003593522189], [0.949400359352219, 0.0, 1.0172131243314162], [0.949400359352219, 2.0, 1.0172131243314162], [0.8815875943730219, 2.0, 0.9494003593522189]], \"data13\": [[1.0172131243314162, 0.0], [1.0850258893106133, 0.0], [1.0850258893106133, 0.0], [1.0172131243314162, 0.0]], \"data14\": [[1.085025889310613, 0.0, 1.1528386542898104, 1.2206514192690077], [1.1528386542898101, 0.0, 1.2206514192690077, 1.2884641842482047], [1.1528386542898101, 1.0, 1.2206514192690077, 1.2884641842482047], [1.085025889310613, 1.0, 1.1528386542898104, 1.2206514192690077]], \"data15\": [[1.2884641842482047, 0.0], [1.356276949227402, 0.0], [1.356276949227402, 3.0], [1.2884641842482047, 3.0]]}, \"id\": \"el11398140649479370976\", \"plugins\": [{\"type\": \"reset\"}, {\"type\": \"zoom\", \"button\": true, \"enabled\": false}, {\"type\": \"boxzoom\", \"button\": true, \"enabled\": false}]});\n",
       "            })\n",
       "         });\n",
       "}\n",
       "</script>"
      ],
      "text/plain": [
       "<Figure size 1200x800 with 1 Axes>"
      ]
     },
     "metadata": {
      "needs_background": "light"
     },
     "output_type": "display_data"
    }
   ],
   "source": [
    "lshape = []\n",
    "for random_sample in test_set:\n",
    "\n",
    "    data_input = random_sample[0]\n",
    "    torch_data_input = torch.from_numpy(data_input)\n",
    "    torch_data_output = model(torch_data_input)\n",
    "\n",
    "\n",
    "    ls_good = [random_sample[1][i]*maxTorque for i in range(output_length)]\n",
    "    ls_pred = [torch_data_output[i]*maxTorque for i in range(output_length)]\n",
    "    mse = sum([(ls_good[i].item()-ls_pred[i].item())**2 for i in range(output_length)])\n",
    "    lshape.append(mse)\n",
    "size, scale = 1000, 20\n",
    "commutes = pd.Series(np.array(lshape))\n",
    "\n",
    "commutes.plot.hist(grid=True, bins=20, color='#607c8e')\n",
    "plt.xlabel('Counts')\n",
    "plt.ylabel('Speed')\n",
    "plt.grid(axis='y', alpha=0.75)"
   ]
  },
  {
   "cell_type": "code",
   "execution_count": 281,
   "id": "a1e9231a-88a9-4baa-b7a8-03270d4974b5",
   "metadata": {},
   "outputs": [
    {
     "name": "stdout",
     "output_type": "stream",
     "text": [
      "6976 2821\n"
     ]
    }
   ],
   "source": [
    "good = 0\n",
    "bad = 0\n",
    "for random_sample in test_set:\n",
    "\n",
    "    data_input = random_sample[0]\n",
    "    init_M = data_input[-len(fwd_data)-1]\n",
    "    torch_data_input = torch.from_numpy(data_input)\n",
    "    torch_data_output = model(torch_data_input)\n",
    "\n",
    "\n",
    "    ls_good = [random_sample[1][i]*maxTorque for i in range(output_length)]\n",
    "    ls_pred = [torch_data_output[i]*maxTorque for i in range(output_length)]\n",
    "    if ls_good[0]<init_M and ls_pred[0] < init_M:\n",
    "        good+=1\n",
    "    elif ls_good[0]>init_M and ls_pred[0] > init_M:\n",
    "        good+=1\n",
    "    else:\n",
    "        bad+=1\n",
    "print(good, bad)"
   ]
  },
  {
   "cell_type": "code",
   "execution_count": 283,
   "id": "5251f3b1-7dd3-442b-8c6d-bcaca7a0ebe3",
   "metadata": {},
   "outputs": [],
   "source": [
    "torch.save(model, 'model_M.pth')"
   ]
  },
  {
   "cell_type": "code",
   "execution_count": null,
   "id": "544a0a0d-c217-4482-94d8-b55d9407597d",
   "metadata": {},
   "outputs": [],
   "source": []
  }
 ],
 "metadata": {
  "kernelspec": {
   "display_name": "Python 3",
   "language": "python",
   "name": "python3"
  },
  "language_info": {
   "codemirror_mode": {
    "name": "ipython",
    "version": 3
   },
   "file_extension": ".py",
   "mimetype": "text/x-python",
   "name": "python",
   "nbconvert_exporter": "python",
   "pygments_lexer": "ipython3",
   "version": "3.8.5"
  }
 },
 "nbformat": 4,
 "nbformat_minor": 5
}
