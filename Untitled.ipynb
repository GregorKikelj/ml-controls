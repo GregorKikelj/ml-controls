{
 "cells": [
  {
   "cell_type": "code",
   "execution_count": 1,
   "id": "6f64b471-b7c1-4111-970a-5eb192a8ef1f",
   "metadata": {},
   "outputs": [],
   "source": [
    "from importlib import reload\n",
    "import sys\n",
    "\n",
    "import numpy as np\n",
    "%matplotlib inline\n",
    "from matplotlib import pyplot as plt\n",
    "from IPython.display import HTML\n",
    "from random import random"
   ]
  },
  {
   "cell_type": "code",
   "execution_count": 2,
   "id": "8f3c536c-1cf4-465a-8c5e-ab0b0470af74",
   "metadata": {},
   "outputs": [],
   "source": [
    "def sample_generator():\n",
    "    while True:\n",
    "        x = random()\n",
    "        y = int(10*x)/10\n",
    "        yield x, y"
   ]
  },
  {
   "cell_type": "code",
   "execution_count": 3,
   "id": "ad5aa557-8b45-4bd0-af65-5fcb59b26d94",
   "metadata": {},
   "outputs": [],
   "source": [
    "import torch\n",
    "from torch import nn"
   ]
  },
  {
   "cell_type": "code",
   "execution_count": 4,
   "id": "e0f642ea-45c4-46d1-b57a-02bb745a8f74",
   "metadata": {},
   "outputs": [],
   "source": [
    "class NeuralNetwork(nn.Module):\n",
    "    def __init__(self):\n",
    "        super(NeuralNetwork, self).__init__()\n",
    "        self.linear_relu_stack = nn.Sequential(\n",
    "            nn.Linear(1, 50),\n",
    "            nn.Tanh(),\n",
    "            nn.Linear(50, 50),\n",
    "            nn.Tanh(),\n",
    "            nn.Linear(50, 20),\n",
    "            nn.Tanh(),\n",
    "            nn.Linear(20, 1),\n",
    "            nn.Sigmoid()\n",
    "        )\n",
    "\n",
    "    def forward(self, x):\n",
    "        logits = self.linear_relu_stack(x)\n",
    "        return logits"
   ]
  },
  {
   "cell_type": "code",
   "execution_count": 5,
   "id": "b86176b1-7a7a-4b8e-b1ab-8d1d423ba04a",
   "metadata": {},
   "outputs": [
    {
     "data": {
      "text/plain": [
       "device(type='cuda')"
      ]
     },
     "execution_count": 5,
     "metadata": {},
     "output_type": "execute_result"
    }
   ],
   "source": [
    "from torch.utils.data import Dataset, DataLoader\n",
    "device = torch.device('cuda' if torch.cuda.is_available() else 'cpu')\n",
    "device"
   ]
  },
  {
   "cell_type": "code",
   "execution_count": 6,
   "id": "be66d9ba-c054-4ecc-a6a0-18072e59aa58",
   "metadata": {},
   "outputs": [],
   "source": [
    "class SimDataset(Dataset):\n",
    "    def __init__(self, length, i, o):\n",
    "        self.len = length\n",
    "        self.i = i\n",
    "        self.o = o\n",
    "\n",
    "    def __len__(self):\n",
    "        return self.len\n",
    "\n",
    "    def __getitem__(self, idx):\n",
    "        return self.i[idx], self.o[idx]"
   ]
  },
  {
   "cell_type": "code",
   "execution_count": 7,
   "id": "9881038d-ab3e-4f12-9bb3-9e51cda636cf",
   "metadata": {},
   "outputs": [],
   "source": [
    "generator = sample_generator()\n",
    "\n",
    "def random_data_dataset(length):\n",
    "    raw_in = [next(generator) for _ in range(length)]\n",
    "    #print(len(raw_in))\n",
    "\n",
    "    i_data = []\n",
    "    o_data = []\n",
    "    for i, data in enumerate(raw_in):\n",
    "        x = data[0]\n",
    "        y = data[1]\n",
    "        data_input = torch.zeros((1,))\n",
    "        data_input[0]=x\n",
    "        data_output = torch.zeros((1,))\n",
    "        data_output[0]=y\n",
    "        i_data.append(data_input)\n",
    "        o_data.append(data_output)\n",
    "    return SimDataset(length, i_data, o_data)\n",
    "\n",
    "\n",
    "in_set = random_data_dataset(1000)\n",
    "out_set = random_data_dataset(1000)"
   ]
  },
  {
   "cell_type": "code",
   "execution_count": 8,
   "id": "f75a1a86-f5e3-477c-8f40-7f6d24d3bb99",
   "metadata": {},
   "outputs": [],
   "source": [
    "train_dataloader = DataLoader(in_set, batch_size=64, shuffle=True, drop_last=True)\n",
    "test_dataloader = DataLoader(out_set, batch_size=64, shuffle=False)"
   ]
  },
  {
   "cell_type": "code",
   "execution_count": 9,
   "id": "417296d9-7d43-4c05-a06f-b84a5c650893",
   "metadata": {},
   "outputs": [],
   "source": [
    "def train_loop(dataloader, model, loss_fn, optimizer, debug):\n",
    "    size = len(dataloader.dataset)\n",
    "    for batch, (X, y) in enumerate(dataloader):\n",
    "        # Compute prediction and loss\n",
    "        X=X.to(device)\n",
    "        y=y.to(device)\n",
    "        pred = model(X)\n",
    "        loss = loss_fn(pred, y)\n",
    "\n",
    "        # Backpropagation\n",
    "        optimizer.zero_grad()\n",
    "        loss.backward()\n",
    "        optimizer.step()\n",
    "    if debug:\n",
    "        loss = loss.item()\n",
    "        print(f\"loss: {loss:>10f}\")\n",
    "\n",
    "\n",
    "def test_loop(dataloader, model, loss_fn):\n",
    "    size = len(dataloader.dataset)\n",
    "    num_batches = len(dataloader)\n",
    "    test_loss, correct = 0, 0\n",
    "\n",
    "    with torch.no_grad():\n",
    "        for X, y in dataloader:\n",
    "            X=X.to(device)\n",
    "            y=y.to(device)\n",
    "            pred = model(X)\n",
    "            test_loss += loss_fn(pred, y).item()\n",
    "\n",
    "    test_loss /= num_batches\n",
    "    print(f\"Test Error: {test_loss:>10f} \\n\")\n",
    "\n",
    "model = NeuralNetwork()\n",
    "model.to(device)\n",
    "loss_fn = nn.MSELoss()\n",
    "optimizer = torch.optim.Adam(model.parameters(), lr=2e-4)"
   ]
  },
  {
   "cell_type": "code",
   "execution_count": null,
   "id": "58b52957-ad5a-4a3a-9e00-676dc6380cd3",
   "metadata": {},
   "outputs": [
    {
     "name": "stdout",
     "output_type": "stream",
     "text": [
      "15\n",
      "16\n",
      "Epoch 0\n",
      "-------------------------------\n",
      "loss:   0.081066\n",
      "Test Error:   0.082161 \n",
      "\n"
     ]
    }
   ],
   "source": [
    "epochs = 4001\n",
    "dt = 400\n",
    "print(len(train_dataloader))\n",
    "print(len(test_dataloader))\n",
    "for t in range(epochs):\n",
    "    if t%dt == 0:\n",
    "        print(f\"Epoch {t}\\n-------------------------------\")\n",
    "    train_loop(train_dataloader, model, loss_fn, optimizer, t%dt==0)\n",
    "    if t%dt == 0:\n",
    "        test_loop(test_dataloader, model, loss_fn)\n",
    "print(\"Done!\")"
   ]
  },
  {
   "cell_type": "code",
   "execution_count": null,
   "id": "c69b00f3-b2c6-4236-a020-f6b6aa829508",
   "metadata": {},
   "outputs": [],
   "source": [
    "model_input = torch.rand((1,))\n",
    "print(model_input)\n",
    "print(model(model_input))"
   ]
  },
  {
   "cell_type": "code",
   "execution_count": null,
   "id": "a891b91c-79f4-4ed5-9e25-af83635e9bf0",
   "metadata": {},
   "outputs": [],
   "source": [
    "x = np.linspace(0, 1, 1000)\n",
    "y = np.zeros((1000,))\n",
    "y2 = np.zeros((1000,))\n",
    "for i in range(1000):\n",
    "    model_in = torch.zeros((1,))\n",
    "    model_in[0]=x[i]\n",
    "    y[i] = model(model_in)\n",
    "    y2[i] = int(10*x[i])/10\n",
    "    \n",
    "plt.plot(x, y)\n",
    "plt.plot(x, y2)\n",
    "print(y[0], y[-1])"
   ]
  },
  {
   "cell_type": "code",
   "execution_count": null,
   "id": "efc5883e-681a-4b35-9828-a6b5dbe2bfbf",
   "metadata": {},
   "outputs": [],
   "source": [
    "torch.version.cuda"
   ]
  },
  {
   "cell_type": "code",
   "execution_count": null,
   "id": "cecf9eb0-e04d-426a-ae7f-a4b821f3dbbc",
   "metadata": {},
   "outputs": [],
   "source": [
    "print(torch._C._cuda_getCompiledVersion(), 'cuda compiled version')"
   ]
  },
  {
   "cell_type": "code",
   "execution_count": null,
   "id": "6e7cb55e-24d3-4805-a511-cbf4fff44460",
   "metadata": {},
   "outputs": [],
   "source": []
  }
 ],
 "metadata": {
  "kernelspec": {
   "display_name": "Python 3",
   "language": "python",
   "name": "python3"
  },
  "language_info": {
   "codemirror_mode": {
    "name": "ipython",
    "version": 3
   },
   "file_extension": ".py",
   "mimetype": "text/x-python",
   "name": "python",
   "nbconvert_exporter": "python",
   "pygments_lexer": "ipython3",
   "version": "3.8.5"
  }
 },
 "nbformat": 4,
 "nbformat_minor": 5
}
